{
 "cells": [
  {
   "cell_type": "markdown",
   "metadata": {},
   "source": [
    "# Interações entre proteínas e entre domínios\n",
    "---\n",
    "\n",
    "**Autor:** Lucas Machado Moschen\n",
    "\n",
    "**Professor:** Luciano Guimarães de Castro "
   ]
  },
  {
   "cell_type": "markdown",
   "metadata": {},
   "source": [
    "## Resumo\n",
    "---\n",
    "\n",
    "Um estudo sobre como redes de interação proteína-proteína podem inferir interações domínio-domínio utilizando uma abordagem de programação linear e inteira. \n",
    "\n",
    "## Sumário\n",
    "---\n",
    "\n",
    "1. [Introdução](#intro)\n",
    "2. [O problema de interação domínio-domínio](#ddip-problem)\n",
    "3. [Formulação com programação linear](#linear-program)\n",
    "4. [Experimentação com dados hipotéticos](#experiments)\n",
    "    - [Visualização dos dados hipotéticos](#hipothetical)\n",
    "    - [Construindo o conjunto $\\mathcal{D}$ e do grafo $\\mathcal{B}$](#build-D-B)\n",
    "    - [Programa Linear e Inteiro](#pli)\n",
    "6.  [Adicionando mais realidade](#reality)\n",
    "6. [Experimentação com dados reais](#real-data)\n",
    "    - [Proteínas e seus domínios](#protein-domain)\n",
    "    - [Rede PPI](#rede-ppi)\n",
    "    - [Grafo bipartido $\\mathcal{B}$](#bipartido)\n",
    "    - [Modelo final](#final-model)\n",
    "7. [Conclusão](#conclusion)\n",
    "\n",
    "[Referências](#references)\n",
    "\n",
    "\n",
    "## Introdução <a id=\"intro\"></a>\n",
    "--- \n",
    "\n",
    "<p style = \"text-align: justify\"> \n",
    "    Proteínas são <i>macromoléculas</i> formadas por cadeias de aminoácidos. Elas são construídas em formato <i>modular</i>, compostas por <i>domínios</i>, que são unidades da proteína funcionais ou estruturais independentes do resto. Muitas são construídas por dois ou mais domínios dentro de um repertório relativamente pequeno. O que variam são as combinações e a ordem de disposição. Frequentemente, os domínios individuais têm funções específicas, como catalisar uma reação ou ligação de uma molécula particular [1,2].\n",
    "</p>\n",
    "\n",
    "<center>\n",
    "    <figure>\n",
    "      <img src=\"images/figure-protein-domains.png\" alt=\"protein-domains\" style=\"width:50%\">\n",
    "        <figcaption><i><b>Fig.1</b> Representação da proteína citoplasmática Nck com seus três domínios SH3 e outro domínio SH2. Cada um desses domínios possui  um parceiro de ligação em outras proteínas. Disponível em <a href=\"https://www.ebi.ac.uk/training/online/courses/protein-classification-intro-ebi-resources/protein-classification/what-are-protein-domains/\"> EMBL-EBI </a>. </i></figcaption>\n",
    "    </figure>\n",
    "</center>\n",
    "\n",
    "<p style = \"text-align: justify\"> \n",
    "Proteínas interagem umas com as outras nas células e o conjunto dessas interações é chamado de <i>Rede de Interações Proteína-Proteína (Rede PPI)</i>. Matematicamente, representamo elas como um grafo (direcionado ou não direcionado) cujos nós são as proteínas e cujas arestas são as interações entre as proteínas, verificadas experimentalmente. Uma rede PPI é a base molecular do desenvolvimento e do funcionamento dos organismos. Seu entendimento é essencial, tanto para a compreensão de estados normais e doentes de células, quanto para o desenvolvimento de drogas. Ela pode ser construída para descrever uma série de informações, como, por exemplo, proteínas que estão na mesma regiões ao mesmo tempo; proteínas que são correguladas; proteínas que estão envolvidas com alguma função biológica; entre outras [2]. Em particular, o tópico de minha possível dissertação vai nesse sentido e, por esse motivo, foi o tema escolhido. \n",
    "</p>\n",
    "\n",
    "<center>\n",
    "    <figure>\n",
    "        <img src=\"images/ppi-network.png\" alt=\"ppi-network-example\" style=\"width:50%\"> \n",
    "        <figcaption><i><b>Fig. 2</b> Exemplo de rede PPI usando NetworkAnalysist. <a href=\"https://www.researchgate.net/figure/An-overview-of-the-PPI-network-The-PPI-network-was-generated-using-NetworkAnalyst-Red_fig5_323136513\"> Desenvolvido por Wei Zhong, et al. </i></a></figcaption>\n",
    "    </figure>\n",
    "</center>\n",
    "\n",
    "<p style = \"text-align: justify\"> \n",
    "Como as interações entre proteínas geralmente ocorrem via domínios ao invés de toda a molécula, entender como os domínios interagem entre si pode facilitar a obtenção de redes PPI mais completas, com menor custo e tempo. Por esse motivo, predizer interações entre domínios (DDI) é um passo importante para a predição de PPI. Chamamos esse problema de <i>problema de interação domínio-domínio (DDIP)</i>. \n",
    "</p>"
   ]
  },
  {
   "cell_type": "markdown",
   "metadata": {},
   "source": [
    "## O problema de interação domínio-domínio (DDIP) <a id=\"ddip-problem\"></a>\n",
    "---\n",
    "\n",
    "<p style=\"text-align:justify\">\n",
    "    Denotamos uma rede PPI conhecida por um grafo não direcionado $\\mathcal{N} = (\\mathcal{P}, \\mathcal{E})$, em que $\\mathcal{P}$ é o conjunto de proteínas e $\\mathcal{E}$ é o conjunto de pares de proteínas que interagem, dado algum experimento. Para cada proteína $P \\in \\mathcal{P}$, supomos conhecidos seus domínios $D_P$ e definimos $\\mathcal{D} = \\{\\{d_1, d_2\\} : d_1 \\in D_{P_1}, d_2 \\in D_{P_2}, \\text{ e } \\{P_1, P_2\\} \\in \\mathcal{E}\\}$, isto é, o conjunto dos pares (não ordernados) de <b> possíveis </b> interações domínio domínio. Então, queremos inferir, para cada $I = \\{P_1, P_2\\} \\in \\mathcal{E}$, quais pares de domínios distintos em $D_{P_1}$ e $D_{P_2}$ explicam a interação entre as proteínas [1].\n",
    "</p>\n",
    "\n",
    "<p style=\"text-align:justify\">\n",
    "    Vamos assumir que as interações domínio-domínio são <i>conservadas</i> entre as várias interações entre proteínas, isto é, elas tendem a repetir em diversos contextos. Também supomos que a interação entre proteínas evolui de forma parcimoniosa e que o conjunto DDI é bem aproximado pelo menor conjunto de interações necessárias para explicar a rede PPI, ou seja, sabemos que as relações domínio-domínio influenciam fortemente as relações proteína-proteína e utilizamos um método baseado em parcimônia para explicar essa inferência. O objetivo será, portanto, minimizar o número de interações domínio-domínio que justifiquem a interação entre proteínas observada na rede [3].\n",
    "</p>\n",
    "\n",
    "\n",
    "<p style=\"text-align:justify\"> \n",
    "    Seja $\\mathcal{B}$ um grafo bipartido não direcionado com dois conjuntos independentes: $\\mathcal{P}^2 = \\mathcal{E}$ (conjunto dos pares de interações proteína-proteína) e $\\mathcal{D}$ (pares de domínios), em que um elemento $\\{P_1, P_2\\} \\in \\mathcal{P}^2$ é ligado a $\\{d_1, d_2\\} \\in \\mathcal{D}$ se $d_1 \\in D_{P_1}$ e $d_2 \\in D_{P_2}$.  \n",
    "</p>"
   ]
  },
  {
   "cell_type": "markdown",
   "metadata": {},
   "source": [
    "<figure>\n",
    "    <center>\n",
    "        <img src=\"images/ddi-ppi-example.svg\" alt=\"test\" style=\"width:50%\" >    \n",
    "        <figcaption><i><b> Fig. 3 </b> Exemplo simplificado de rede PPI com respectivos domínios e a construção do grafo bipartido correspondente.</i></figcaption>\n",
    "    </center>\n",
    "<\\figure>"
   ]
  },
  {
   "cell_type": "markdown",
   "metadata": {},
   "source": [
    "<p style=\"text-align:justify\">\n",
    "    <b>Definição (Cobertura):</b> Um conjunto $S \\subset \\mathcal{D}$ é <i>cobertura DDI</i> se cada nó em $\\mathcal{P}^2$ é adjacente a pelo menos um nó de $S$. Trivialmente $\\mathcal{D}$ é uma cobertura por definição, portanto, sabemos que ela existe.  \n",
    "</p>\n",
    "\n",
    "<p style=\"text-align:justify\">\n",
    "Para cada nó $x \\in \\mathcal{P}^2$, denotamos por $\\mathcal{V}(x)$ o conjunto de nós em $\\mathcal{D}$ que são vizinhos de $x$. Podemos resumir o problema, portanto, com a seguinte a proposição:\n",
    "</p>\n",
    "\n",
    "> Dado um grafo bipartido $\\mathcal{B}$ derivado de $\\mathcal{P}^2$ e $\\mathcal{D}$, encontre uma cobertura DDI de tamanho mínimo em $\\mathcal{B}$.\n",
    "\n",
    "Nesse caso, o conjunto solução $S^*$ é o conjunto mínimo que aproxima a explicação da interação entre proteínas. "
   ]
  },
  {
   "cell_type": "markdown",
   "metadata": {},
   "source": [
    "## Formulação com programação linear <a id=\"linear-program\"></a>\n",
    "---\n",
    "\n",
    "Vamos definir as variáveis binárias $x_{ij}$ que indicam se o nó $\\{i,j\\} \\in \\mathcal{D}$ pertence à cobertura $S$. \n",
    "\n",
    "Queremos minimizar o tamanho dessa cobertura, portanto, a função objetivo a ser minimizada é \n",
    "\n",
    "$$\\sum_{\\{i,j\\} \\in \\mathcal{D}} x_{ij}.$$\n",
    "\n",
    "Para cada nó $v \\in \\mathcal{P}^2$, ou seja, para cada interação entre duas proteínas, queremos que pelo uma dupla de seus domínios interajam entre si. Assim, pelo menos um par de domínios vizinhos de $v$ deve existir para explicar a PPI. Definimos a restrição, para cada $v$, \n",
    "\n",
    "$$\\sum_{\\{i,j\\} \\in \\mathcal{V}(v)} x_{ij} \\ge 1$$\n",
    "\n",
    "Além disso, temos, é claro, $0 \\le x_{ij} \\le 1, x_{ij} \\in \\mathbb{Z}$. Sabemos que espaço viável é não vazio, pois colocando todas as variáveis em 1, todas as restrições são verdadeiras. "
   ]
  },
  {
   "cell_type": "markdown",
   "metadata": {},
   "source": [
    "## Experimentação com dados hipotéticos <a id=\"experiments\"></a>\n",
    "---\n",
    "\n",
    "Nessa seção, vamos usar o ferramental de otimização na linguagem de programação *Julia* para fazer experimentos do problema. Vamos usar um dataset hipotético desenvolvido em [4]. "
   ]
  },
  {
   "cell_type": "code",
   "execution_count": 1,
   "metadata": {},
   "outputs": [
    {
     "name": "stderr",
     "output_type": "stream",
     "text": [
      "\u001b[32m\u001b[1m  Activating\u001b[22m\u001b[39m environment at `~/Documents/linear-programming/Project.toml`\n"
     ]
    }
   ],
   "source": [
    "using Pkg\n",
    "#pkg\"add JuMP GLPK CSV DataFrames Cbc\"\n",
    "pkg\"activate ../.\"\n",
    "pkg\"instantiate\"\n",
    "using JuMP, GLPK, CSV, LinearAlgebra, DataFrames, Cbc"
   ]
  },
  {
   "cell_type": "markdown",
   "metadata": {},
   "source": [
    "### Visualização do dado hipotético <a id=\"hipothetical\"></a>\n",
    "\n",
    "Podemos visualizar os dados e trnascrever para uma estrutura de dicionário. "
   ]
  },
  {
   "cell_type": "code",
   "execution_count": 2,
   "metadata": {},
   "outputs": [
    {
     "name": "stdout",
     "output_type": "stream",
     "text": [
      "#######\n",
      "# NODES\n",
      "#######\n",
      "0\tP0\t0\tNULL\tNULL\tNULL\tHypothetical protein\tYeast\tNULL\n",
      "1\tP1\t0\tNULL\tNULL\tNULL\tHypothetical protein\tYeast\tNULL\n",
      "2\tP2\t0\tNULL\tNULL\tNULL\tHypothetical protein\tYeast\tNULL\n",
      "3\tP3\t0\tNULL\tNULL\tNULL\tHypothetical protein\tYeast\tNULL\n",
      "4\tP4\t0\tNULL\tNULL\tNULL\tHypothetical protein\tYeast\tNULL\n",
      "5\tP5\t0\tNULL\tNULL\tNULL\tHypothetical protein\tWorm\tNULL\n",
      "6\tP6\t0\tNULL\tNULL\tNULL\tHypothetical protein\tWorm\tNULL\n",
      "7\tP7\t0\tNULL\tNULL\tNULL\tHypothetical protein\tWorm\tNULL\n",
      "8\tP8\t0\tNULL\tNULL\tNULL\tHypothetical protein\tWorm\tNULL\n",
      "9\tP9\t0\tNULL\tNULL\tNULL\tHypothetical protein\tHuman\tNULL\n",
      "10\tP10\t0\tNULL\tNULL\tNULL\tHypothetical protein\tHuman\tNULL\n",
      "11\tP11\t0\tNULL\tNULL\tNULL\tHypothetical protein\tHuman\tNULL\n",
      "#######\n",
      "# EDGES\n",
      "#######\n",
      "0\t0\t1\th\n",
      "1\t0\t2\th\n",
      "2\t0\t3\th\n",
      "3\t0\t4\th\n",
      "4\t1\t2\th\n",
      "5\t1\t3\th\n",
      "6\t1\t4\th\n",
      "7\t5\t6\th\n",
      "8\t5\t7\th\n",
      "9\t6\t8\th\n",
      "10\t7\t8\th\n",
      "11\t9\t10\th\n",
      "12\t10\t11\th\n",
      "#########################\n",
      "# NODE -> DOMAIN MAPPINGS\n",
      "#########################\n",
      "0\tYellow\n",
      "0\tBlue\n",
      "1\tAzure\n",
      "1\tOrange\n",
      "1\tGreen\n",
      "1\tRed\n",
      "1\tBlue\n",
      "1\tRed\n",
      "2\tRed\n",
      "3\tRed\n",
      "3\tOrange\n",
      "4\tViolet\n",
      "4\tGreen\n",
      "4\tRed\n",
      "4\tBlue\n",
      "4\tRed\n",
      "4\tYellow\n",
      "4\tRed\n",
      "5\tOrange\n",
      "5\tRed\n",
      "6\tBlue\n",
      "7\tBlue\n",
      "8\tRed\n",
      "8\tGreen\n",
      "9\tRed\n",
      "10\tBlue\n",
      "10\tOrange\n",
      "10\tViolet\n",
      "10\tAzure\n",
      "10\tGreen\n",
      "11\tRed\n"
     ]
    }
   ],
   "source": [
    "io = open(\"data/hypothetical_network.txt\", \"r\")\n",
    "print(read(io, String))"
   ]
  },
  {
   "cell_type": "code",
   "execution_count": 3,
   "metadata": {},
   "outputs": [],
   "source": [
    "protein_domain = Dict(\"P₁\"=>[\"Yellow\", \"Blue\"], \n",
    "                      \"P₂\"=>[\"Azure\", \"Orange\", \"Green\", \"Red\", \"Blue\", \"Red\"], \n",
    "                      \"P₃\"=>[\"Green\"], \n",
    "                      \"P₄\"=>[\"Red\", \"Orange\"] , \n",
    "                      \"P₅\"=>[\"Violet\", \"Green\", \"Red\", \"Blue\", \"Red\", \"Yellow\", \"Red\"] , \n",
    "                      \"P₆\"=>[\"Orange\",\"Red\"] , \n",
    "                      \"P₇\"=>[\"Blue\"] , \n",
    "                      \"P₈\"=>[\"Blue\"] , \n",
    "                      \"P₉\"=>[\"Red\", \"Green\"] , \n",
    "                      \"P₁₀\"=>[\"Red\"] , \n",
    "                      \"P₁₁\"=>[\"Blue\", \"Orange\", \"Violet\", \"Azure\", \"Green\"], \n",
    "                      \"P₁₂\"=>[\"Red\"]);\n",
    "\n",
    "ppi_network = [\n",
    "    (\"P₁\", \"P₂\"), (\"P₁\", \"P₃\"), (\"P₁\", \"P₄\"), (\"P₁\", \"P₅\"),\n",
    "    (\"P₂\", \"P₃\"), (\"P₂\", \"P₄\"), (\"P₂\", \"P₅\"), \n",
    "    (\"P₆\", \"P₇\"), (\"P₆\", \"P₈\"), \n",
    "    (\"P₇\", \"P₉\"), (\"P₈\", \"P₉\"), (\"P₁₀\", \"P₁₁\"), (\"P₁₁\", \"P₁₂\")\n",
    "];\n",
    "\n",
    "B_P = Dict([\n",
    "    (\"P₁\", \"P₂\")=>[], (\"P₁\", \"P₃\")=>[], (\"P₁\", \"P₄\")=>[], (\"P₁\", \"P₅\")=>[],\n",
    "    (\"P₂\", \"P₃\")=>[], (\"P₂\", \"P₄\")=>[], (\"P₂\", \"P₅\")=>[], \n",
    "    (\"P₆\", \"P₇\")=>[], (\"P₆\", \"P₈\")=>[], \n",
    "    (\"P₇\", \"P₉\")=>[], (\"P₈\", \"P₉\")=>[], (\"P₁₀\", \"P₁₁\")=>[], (\"P₁₁\", \"P₁₂\")=>[]\n",
    "]);"
   ]
  },
  {
   "cell_type": "markdown",
   "metadata": {},
   "source": [
    "### Construindo o conjunto $\\mathcal{D}$ e do grafo $\\mathcal{B}$ <a id=\"build-D-B\">\n",
    "\n",
    "Com a rede PPI definida, podemos contruir o conjunto $\\mathcal{D}$ com as relações entre os domínios. Com isso, teremos o grafo bipartido $\\mathcal{B}$. Vamos separar o grafo apenas com as informações que precisamos: $B_P$ indica, para cada interação PP, os seus vizinhos em $\\mathcal{B}$ e $B_D$ indica, para cada interação DD, a quantidade de vizinhos em $\\mathcal{B}$. "
   ]
  },
  {
   "cell_type": "code",
   "execution_count": 4,
   "metadata": {},
   "outputs": [],
   "source": [
    "D = Dict()\n",
    "for i in ppi_network\n",
    "    for d1 in protein_domain[i[1]]\n",
    "        for d2 in protein_domain[i[2]]\n",
    "            if d1 != d2\n",
    "                D[Set([d1, d2])] = get(D, Set([d1, d2]), length(D)+1)\n",
    "                B_P[i] = union(B_P[i], D[Set([d1, d2])])\n",
    "            end\n",
    "        end\n",
    "    end\n",
    "end\n",
    "B_D = zeros(length(D))\n",
    "for v in B_P\n",
    "    B_D[v[2]] .+= 1\n",
    "end"
   ]
  },
  {
   "cell_type": "markdown",
   "metadata": {},
   "source": [
    "### Programa Linear e Inteiro <a id=\"pli\">\n",
    "\n",
    "Vamos, enfim, contruir o programa. Vamos chamar $ij = u$. Denote que os vizinhos de cada interação entre proteínas é dado por $B[i]$. "
   ]
  },
  {
   "cell_type": "code",
   "execution_count": 5,
   "metadata": {},
   "outputs": [],
   "source": [
    "ddip_model = Model(GLPK.Optimizer);\n",
    "\n",
    "@variable(ddip_model,x[u=1:length(D)], Bin);\n",
    "\n",
    "@objective(ddip_model, Min, sum(x));\n",
    "\n",
    "@constraint(ddip_model, [sum(x[B_P[i]]) for i in ppi_network] .>= 1);"
   ]
  },
  {
   "cell_type": "markdown",
   "metadata": {},
   "source": [
    "Com o problema definido, podemos otimizar! Felizmente, o algoritmo terminou tudo bem! Ele encontrou duas variáveis iguais a 1 (como podemos ver abaixo), sendo que uma delas satisfaz quase todas as restrições (exceto as que envolvem $P_3$). "
   ]
  },
  {
   "cell_type": "code",
   "execution_count": 6,
   "metadata": {},
   "outputs": [
    {
     "data": {
      "text/plain": [
       "OPTIMAL::TerminationStatusCode = 1"
      ]
     },
     "execution_count": 6,
     "metadata": {},
     "output_type": "execute_result"
    }
   ],
   "source": [
    "optimize!(ddip_model)\n",
    "\n",
    "termination_status(ddip_model)"
   ]
  },
  {
   "cell_type": "code",
   "execution_count": 7,
   "metadata": {},
   "outputs": [
    {
     "data": {
      "text/plain": [
       "2.0"
      ]
     },
     "execution_count": 7,
     "metadata": {},
     "output_type": "execute_result"
    }
   ],
   "source": [
    "objective_value(ddip_model)"
   ]
  },
  {
   "cell_type": "markdown",
   "metadata": {},
   "source": [
    "Podemos observar que as variáveis 8 (interação entre Green e Blue) e 9 (interação entre Red e Blue) foram as únicas que marcadas."
   ]
  },
  {
   "cell_type": "code",
   "execution_count": 8,
   "metadata": {},
   "outputs": [
    {
     "data": {
      "text/plain": [
       "2-element Vector{Float64}:\n",
       " 1.0\n",
       " 1.0"
      ]
     },
     "execution_count": 8,
     "metadata": {},
     "output_type": "execute_result"
    }
   ],
   "source": [
    "value.(x)[[8,9]]"
   ]
  },
  {
   "cell_type": "markdown",
   "metadata": {},
   "source": [
    "## Adicionando mais realidade <a id=\"reality\"></a>\n",
    "---\n",
    "\n",
    "<p style=\"text-align:justify\">\n",
    "Obtemos um resultado que diz quais interações domínio-domínio são necessárias para explicar as interações entre proteínas que observamos com um método concebido pela ideia de parcimônia. Nesse caso, obtemos um resultado 0 ou 1. Podemos, todavia, indicar a probabilidade de uma interação domínio a domínio existir. Observe que a restrição fica inalterada. Como observamos uma interação proteína-proteina $(P_1, P_2) \\in \\mathcal{P}^2$, podemos dizer que\n",
    "</p>\n",
    "    \n",
    "$$\n",
    "1 = \\mathbb{P}\\left((P_1, P_2) \\in \\mathcal{P}^2\\right) = \\mathbb{P}\\left((d_1, d_2) \\in \\mathcal{D}, \\text{ para alguns } d_1 \\in D_{P_1}, d_2 \\in D_{P_2}\\right) \\le \\sum_{d_1 \\in D_{P_1}, d_2 \\in D_{P_2}} \\mathbb{P}\\left((d_1, d_2) \\in \\mathcal{D}\\right)\n",
    "$$\n",
    "\n",
    "<p style=\"text-align:justify\">\n",
    "Suponha agora, que existem duas soluções de mesmo tamanho. Quando isso acontece, vamos dar um peso maior para aquela com maior sentido biológico, isto é, se um no $(d_1, d_2) \\in \\mathcal{D}$ tem mais vizinhos do que $(d_3, d_4) \\in \\mathcal{D}$, queremos que ele tenha mais chance de estar no conjunto ótimo. Isto é, vamos adicionar pesos que beneficiam nós com mais vizinhos! Assim, a função objetivo fica \n",
    "</p>\n",
    "\n",
    "$$\\sum_{\\{i,j\\} \\in \\mathcal{D}} w_{ij}x_{ij}.$$\n",
    "\n",
    "em que $w_{ij} = 1/\\mathcal{V}(ij)$. No nosso exemplo, a resposta ficará inalterada, mas é interessante ter um critério de desempate biológico. \n",
    "\n",
    "**Observação:** Colocar a variável entre 0 e 1, mas não binária, também simplifica as contas quando tivermos mais variáveis no [problema real](#real-data)."
   ]
  },
  {
   "cell_type": "code",
   "execution_count": 9,
   "metadata": {},
   "outputs": [
    {
     "data": {
      "text/plain": [
       "0.23376623376623376"
      ]
     },
     "execution_count": 9,
     "metadata": {},
     "output_type": "execute_result"
    }
   ],
   "source": [
    "ddip_model2 = Model(GLPK.Optimizer);\n",
    "\n",
    "@variable(ddip_model2, 1 >= x[u=1:length(D)] >= 0.0);\n",
    "\n",
    "@objective(ddip_model2, Min, sum(x./B_D));\n",
    "\n",
    "@constraint(ddip_model2, [sum(x[B_P[i]]) for i in ppi_network] .>= 1);\n",
    "\n",
    "\n",
    "optimize!(ddip_model2)\n",
    "objective_value(ddip_model2)"
   ]
  },
  {
   "cell_type": "code",
   "execution_count": 10,
   "metadata": {},
   "outputs": [
    {
     "name": "stdout",
     "output_type": "stream",
     "text": [
      "[0.0, 0.0, 0.0, 0.0, 0.0, 0.0, 0.0, 1.0, 1.0, 0.0, 0.0, 0.0, 0.0, 0.0, 0.0, 0.0, 0.0, 0.0, 0.0, 0.0, 0.0]"
     ]
    }
   ],
   "source": [
    "print(value.(x))"
   ]
  },
  {
   "cell_type": "markdown",
   "metadata": {},
   "source": [
    "<p style=\"text-align: justify\">\n",
    "As redes de PPI não são sempre interamente corretas. Elas são sujeitas ao ruído na experimentação. Esse ruído pode ser lidado de formas diferentes: adicionar pesos às interações PP indicando a probabilidade de elas serem verdadeiras, ou remover algumas restrições de forma \"aleatória\". A primeira, no nosso caso, representaria pesos nos nós em $\\mathcal{P}^2$ e é mais difícil de representar em um modelo determinístico. A segunda tem uma formulação interessante: permitimos a escolha de uma porcentagem $r$ de restrições, enquanto as outras são desconsideradas, isso é, consideraremos apenas uma porcentagem $r$ das interações PP. Vamos fazer isso do seguinte modo: \n",
    "    \n",
    "Defina $y_v$ uma variável binária para cada restrição. Queremos que \n",
    "</p>\n",
    "\n",
    "$$\\sum_{\\{i,j\\} \\in \\mathcal{V}(v)} x_{ij} \\ge y_v, \\text{ para cada } v \\in \\mathcal{P}^2$$\n",
    "\n",
    "E, além disso, restringimos\n",
    "\n",
    "$$\n",
    "\\sum_{v \\in \\mathcal{P}^2} y_v \\ge r |\\mathcal{P}^2| \n",
    "$$\n",
    "\n",
    "Essa restrição pode fazer tirar uma interação PP quando ela tem pouca influência ou advém de um ruído. "
   ]
  },
  {
   "cell_type": "code",
   "execution_count": 11,
   "metadata": {},
   "outputs": [],
   "source": [
    "ddip_model3 = function(r)\n",
    "\n",
    "    model = Model(GLPK.Optimizer);\n",
    "\n",
    "    @variable(model, 1 >= x[u=1:length(D)] >= 0.0);\n",
    "    @variable(model, y[v=1:length(B_P)], Bin);\n",
    "\n",
    "    @objective(model, Min, sum(x./B_D));\n",
    "\n",
    "    @constraint(model, [sum(x[B_P[i]]) for i in ppi_network] .>= y);\n",
    "    @constraint(model, sum(y) >= r*length(B_P));\n",
    "\n",
    "    optimize!(model)\n",
    "    return objective_value(model), value.(x), value.(y)\n",
    "    end;"
   ]
  },
  {
   "cell_type": "markdown",
   "metadata": {},
   "source": [
    "Vamos experimentar alguns valores de $r$"
   ]
  },
  {
   "cell_type": "code",
   "execution_count": 12,
   "metadata": {},
   "outputs": [],
   "source": [
    "obj1, xx1, yy1 = ddip_model3(0);\n",
    "obj2, xx2, yy2 = ddip_model3(0.5);\n",
    "obj3, xx3, yy3 = ddip_model3(0.9);"
   ]
  },
  {
   "cell_type": "markdown",
   "metadata": {},
   "source": [
    "Quando $r = 0$, permitimos que todas as restrições sejam deixadas de lado. Certamente, estamos colocando ruído a mais. Com $r = 0.5$, para satisfazer metade das restrições, apenas um nó é suficiente. Para $r = 0.9$, apesar de ter considerado um pouco de ruído, ainda mantivemos a mesma escolha de quando $r =1$. "
   ]
  },
  {
   "cell_type": "code",
   "execution_count": 13,
   "metadata": {},
   "outputs": [
    {
     "data": {
      "text/plain": [
       "(0.0, 0.09090909090909091, 0.23376623376623376)"
      ]
     },
     "execution_count": 13,
     "metadata": {},
     "output_type": "execute_result"
    }
   ],
   "source": [
    "(obj1, obj2, obj3)"
   ]
  },
  {
   "cell_type": "code",
   "execution_count": 14,
   "metadata": {},
   "outputs": [
    {
     "name": "stdout",
     "output_type": "stream",
     "text": [
      "[0.0, 0.0, 0.0, 0.0, 0.0, 0.0, 0.0, 0.0, 1.0, 0.0, 0.0, 0.0, 0.0, 0.0, 0.0, 0.0, 0.0, 0.0, 0.0, 0.0, 0.0]\n",
      "[0.0, 0.0, 0.0, 0.0, 0.0, 0.0, 0.0, 1.0, 1.0, 0.0, 0.0, 0.0, 0.0, 0.0, 0.0, 0.0, 0.0, 0.0, 0.0, 0.0, 0.0]"
     ]
    }
   ],
   "source": [
    "print(xx2)\n",
    "print(\"\\n\")\n",
    "print(xx3)"
   ]
  },
  {
   "cell_type": "markdown",
   "metadata": {},
   "source": [
    "## Experimentação com dados reais <a id=\"real-data\"></a>\n",
    "---\n",
    "\n",
    "Vamos utilizar essa modelagem em um problema real, com dados de [4]. "
   ]
  },
  {
   "cell_type": "code",
   "execution_count": 15,
   "metadata": {},
   "outputs": [],
   "source": [
    "pd_table = CSV.File(\"data/protein_domain.txt\", delim='\\t') |> DataFrame;\n",
    "ppi_table = CSV.File(\"data/ppi_network.txt\", delim='\\t') |> DataFrame;\n",
    "select!(ppi_table, Not(:\"exp_class\"));"
   ]
  },
  {
   "cell_type": "markdown",
   "metadata": {},
   "source": [
    "O número de interações é 26.032, enquanto o número de mapas entre nós e domínios é 30.986. "
   ]
  },
  {
   "cell_type": "code",
   "execution_count": 16,
   "metadata": {},
   "outputs": [
    {
     "name": "stdout",
     "output_type": "stream",
     "text": [
      "(30986, 2)(26032, 3)"
     ]
    }
   ],
   "source": [
    "print(size(pd_table))\n",
    "print(size(ppi_table))"
   ]
  },
  {
   "cell_type": "markdown",
   "metadata": {},
   "source": [
    "### Proteínas e seus domínios <a id=\"protein-domain\"> \n",
    "\n",
    "Primeiro montamos o dicionário com cada proteína e seus respectivos domínios:"
   ]
  },
  {
   "cell_type": "code",
   "execution_count": 17,
   "metadata": {},
   "outputs": [
    {
     "data": {
      "text/plain": [
       "12-element Vector{Any}:\n",
       " \"C2\"\n",
       " \"Pfam-B_11112\"\n",
       " \"Pfam-B_34975\"\n",
       " \"Pfam-B_44417\"\n",
       " \"Pfam-B_44419\"\n",
       " \"Pfam-B_5217\"\n",
       " \"Pfam-B_68720\"\n",
       " \"PH\"\n",
       " \"PI-PLC-X\"\n",
       " \"PI-PLC-Y\"\n",
       " \"SH2\"\n",
       " \"SH3_1\""
      ]
     },
     "execution_count": 17,
     "metadata": {},
     "output_type": "execute_result"
    }
   ],
   "source": [
    "proteins = Dict()\n",
    "for p in eachrow(pd_table)\n",
    "    proteins[p[1]] = union(get(proteins, p[1], []), [p[2]])\n",
    "end\n",
    "proteins[100]"
   ]
  },
  {
   "cell_type": "markdown",
   "metadata": {},
   "source": [
    "### Rede PPI <a id=\"rede-ppi\">\n",
    "\n",
    "Montamos a rede PPI:"
   ]
  },
  {
   "cell_type": "code",
   "execution_count": 18,
   "metadata": {},
   "outputs": [],
   "source": [
    "ppi_real = []\n",
    "for i in eachrow(ppi_table)\n",
    "    if i[2] != i[3]\n",
    "        ppi_real = append!(ppi_real, [(i[2], i[3])])\n",
    "    end\n",
    "end"
   ]
  },
  {
   "cell_type": "markdown",
   "metadata": {},
   "source": [
    "### Grafo bipartido $\\mathcal{B}$ <a id=\"bipartido\"> \n",
    "\n",
    "Montamos $\\mathcal{B}$: "
   ]
  },
  {
   "cell_type": "code",
   "execution_count": 19,
   "metadata": {},
   "outputs": [],
   "source": [
    "B_p = Dict(i => [] for i in ppi_real);"
   ]
  },
  {
   "cell_type": "code",
   "execution_count": 20,
   "metadata": {},
   "outputs": [],
   "source": [
    "D = Dict()\n",
    "for i in ppi_real\n",
    "    for d1 in proteins[i[1]]\n",
    "        for d2 in proteins[i[2]]\n",
    "            D[Set([d1, d2])] = get(D, Set([d1, d2]), length(D)+1)\n",
    "            B_p[i] = union(B_p[i], D[Set([d1, d2])])\n",
    "        end\n",
    "    end\n",
    "end\n",
    "B_d = zeros(length(D))\n",
    "for v in B_p\n",
    "    B_d[v[2]] .+= 1\n",
    "end"
   ]
  },
  {
   "cell_type": "markdown",
   "metadata": {},
   "source": [
    "### Modelo Final <a id=\"final-model\">\n",
    "\n",
    "Agora podemos usar o modelo! Lembramos que ele tem muitas, mas muitas mais variáveis que nosso teste, então deve demorar bastante mais tempo para encerrar o programa, pelo menos na primeira rodagem! Observe que o número de variáveis é de quase 200mil.  "
   ]
  },
  {
   "cell_type": "code",
   "execution_count": 23,
   "metadata": {},
   "outputs": [
    {
     "data": {
      "text/plain": [
       "198935"
      ]
     },
     "execution_count": 23,
     "metadata": {},
     "output_type": "execute_result"
    }
   ],
   "source": [
    "length(D) + length(B_p)"
   ]
  },
  {
   "cell_type": "code",
   "execution_count": 21,
   "metadata": {},
   "outputs": [],
   "source": [
    "ddip_model_real = function(r, D, BP, BD, PPI)\n",
    "\n",
    "    model = Model(Cbc.Optimizer);\n",
    "\n",
    "    @variable(model, 1.0 >= x[u=1:length(D)] >= 0.0);\n",
    "    @variable(model, y[v=1:length(B_P)], Bin);\n",
    "\n",
    "    @objective(model, Min, sum(x./BD));\n",
    "\n",
    "    @constraint(model, [sum(x[BP[i]]) for i in PPI] .>= 1);\n",
    "    @constraint(model, sum(y) >= r*length(B_P));\n",
    "\n",
    "    optimize!(model)\n",
    "    return objective_value(model), value.(x), value.(y)\n",
    "end;"
   ]
  },
  {
   "cell_type": "code",
   "execution_count": 22,
   "metadata": {},
   "outputs": [
    {
     "name": "stdout",
     "output_type": "stream",
     "text": [
      "167.731943 seconds (29.02 M allocations: 1.692 GiB, 0.46% gc time, 0.56% compilation time)\n",
      "Welcome to the CBC MILP Solver \n",
      "Version: 2.10.5 \n",
      "Build Date: Mar 11 2021 \n",
      "\n",
      "command line - Cbc_C_Interface -solve -quit (default strategy 1)\n",
      "Continuous objective value is 14023.8 - 0.18 seconds\n",
      "Cgl0004I processed model has 6304 rows, 10233 columns (0 integer (0 of which binary)) and 19312 elements\n",
      "Cbc3007W No integer variables - nothing to do\n",
      "Cuts at root node changed objective from 14023.8 to -1.79769e+308\n",
      "Probing was tried 0 times and created 0 cuts of which 0 were active after adding rounds of cuts (0.000 seconds)\n",
      "Gomory was tried 0 times and created 0 cuts of which 0 were active after adding rounds of cuts (0.000 seconds)\n",
      "Knapsack was tried 0 times and created 0 cuts of which 0 were active after adding rounds of cuts (0.000 seconds)\n",
      "Clique was tried 0 times and created 0 cuts of which 0 were active after adding rounds of cuts (0.000 seconds)\n",
      "MixedIntegerRounding2 was tried 0 times and created 0 cuts of which 0 were active after adding rounds of cuts (0.000 seconds)\n",
      "FlowCover was tried 0 times and created 0 cuts of which 0 were active after adding rounds of cuts (0.000 seconds)\n",
      "TwoMirCuts was tried 0 times and created 0 cuts of which 0 were active after adding rounds of cuts (0.000 seconds)\n",
      "ZeroHalf was tried 0 times and created 0 cuts of which 0 were active after adding rounds of cuts (0.000 seconds)\n",
      "\n",
      "Result - Optimal solution found\n",
      "\n",
      "Objective value:                14023.79644197\n",
      "Enumerated nodes:               0\n",
      "Total iterations:               0\n",
      "Time (CPU seconds):             1.80\n",
      "Time (Wallclock seconds):       2.00\n",
      "\n",
      "Total time (CPU seconds):       1.80   (Wallclock seconds):       2.00\n",
      "\n"
     ]
    }
   ],
   "source": [
    "@time obj_real1, xx_real1, yy_real1 = ddip_model_real(0.9, D, B_p, B_d, ppi_real);"
   ]
  },
  {
   "cell_type": "markdown",
   "metadata": {},
   "source": [
    "O programa teve sucesso e levou quase 3min para concluir o processo. Podemos ver qual a porcentagem (mínima) necessária para justificar as interações entre proteínas. Em torno de 9% por cento das interações domínio-domínio foram necessárias para justificar todo o aparato. "
   ]
  },
  {
   "cell_type": "code",
   "execution_count": 24,
   "metadata": {},
   "outputs": [
    {
     "data": {
      "text/plain": [
       "0.09398963730569948"
      ]
     },
     "execution_count": 24,
     "metadata": {},
     "output_type": "execute_result"
    }
   ],
   "source": [
    "sum(xx_real1)/length(xx_real1)"
   ]
  },
  {
   "cell_type": "markdown",
   "metadata": {},
   "source": [
    "Note que um pouco mais de 90% das restrições foram usadas, o que diminuí um pouquinho do possível ruído. "
   ]
  },
  {
   "cell_type": "code",
   "execution_count": 25,
   "metadata": {},
   "outputs": [
    {
     "data": {
      "text/plain": [
       "0.9230769230769231"
      ]
     },
     "execution_count": 25,
     "metadata": {},
     "output_type": "execute_result"
    }
   ],
   "source": [
    "sum(yy_real1)/length(yy_real1)"
   ]
  },
  {
   "cell_type": "markdown",
   "metadata": {},
   "source": [
    "## Conclusão <a id=\"conclusion\"></a>\n",
    "---\n",
    "\n",
    "Podemos observar uma modelagem com otimização linear em um problema complexo de biologia. Apesar das diversas simplificações, o método simplex é simples de interpretar e é rápido para funcionar, o que, em muitos casos, é essencial para um conjunto de dados longos. No exemplo real, percebemos uma dificuldade no programa para encerrar a otimização, que levou quase 3min. "
   ]
  },
  {
   "cell_type": "markdown",
   "metadata": {},
   "source": [
    "## Referências <a id=\"references\"></a>\n",
    "---\n",
    "\n",
    "[1] Althaus, Ernst & Klau, Gunnar & Kohlbacher, Oliver & Lenhof, Hans-Peter & Knut, Reinert. (2009). *Integer Linear Programming In Computational Biology*. J Proteome Res, Volume 5760 of Lecture Notes in Computer Science. 5760. 199-218. 10.1007/978-3-642-03456-5_14. \n",
    "\n",
    "[2] EMBL-EBI. Protein classification: An introduction to EMBL-EBI resources. Disponível [nesse site](https://www.ebi.ac.uk/training/online/courses/protein-classification-intro-ebi-resources/).\n",
    "\n",
    "[3] Guimarães, K.S., Jothi, R., Zotenko, E. et al. Predicting domain-domain interactions using a parsimony approach. Genome Biol 7, R104 (2006). https://doi.org/10.1186/gb-2006-7-11-r104\n",
    "\n",
    "[4] Riley, R., Lee, C., Sabatti, C. et al. Inferring protein domain interactions from databases of interacting proteins. Genome Biol 6, R89 (2005). https://doi.org/10.1186/gb-2005-6-10-r89\n"
   ]
  }
 ],
 "metadata": {
  "kernelspec": {
   "display_name": "Julia 1.6.0",
   "language": "julia",
   "name": "julia-1.6"
  },
  "language_info": {
   "file_extension": ".jl",
   "mimetype": "application/julia",
   "name": "julia",
   "version": "1.6.0"
  }
 },
 "nbformat": 4,
 "nbformat_minor": 4
}
