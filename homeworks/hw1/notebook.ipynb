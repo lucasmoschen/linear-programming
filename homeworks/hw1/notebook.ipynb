{
 "cells": [
  {
   "cell_type": "markdown",
   "metadata": {},
   "source": [
    "# Lista 1 \n",
    "---\n",
    "\n",
    "**Livro:** A Gentle Introduction to Optimization\n",
    "\n",
    "**Capítulo:** Introduction \n",
    "\n",
    "**Professor:** Luciano Guimarães de Castro \n",
    "\n",
    "### Lucas Machado Moschen\n",
    "---"
   ]
  },
  {
   "cell_type": "code",
   "execution_count": 1,
   "metadata": {},
   "outputs": [
    {
     "name": "stderr",
     "output_type": "stream",
     "text": [
      "\u001b[32m\u001b[1m Activating\u001b[22m\u001b[39m new environment at `~/OneDrive/FGV/7 Período/Programação Linear/Listas/Project.toml`\n",
      "\u001b[32m\u001b[1m   Updating\u001b[22m\u001b[39m registry at `~/.julia/registries/General`\n"
     ]
    },
    {
     "name": "stdout",
     "output_type": "stream",
     "text": [
      "\u001b[?25l    "
     ]
    },
    {
     "name": "stderr",
     "output_type": "stream",
     "text": [
      "\u001b[32m\u001b[1m   Updating\u001b[22m\u001b[39m git-repo `https://github.com/JuliaRegistries/General.git`\n"
     ]
    },
    {
     "name": "stdout",
     "output_type": "stream",
     "text": [
      "\u001b[2K\u001b[?25h[1mFetching:\u001b[22m\u001b[39m [========================================>]  100.0 %9.1 %                          ]  32.9 % [===================>                     ]  45.1 %]  57.2 %\u001b[36m\u001b[1mFetching:\u001b[22m\u001b[39m [============================>            ]  68.1 %       ]  80.2 % [=====================================>   ]  92.4 % [======================================>  ]  93.6 %"
     ]
    },
    {
     "name": "stderr",
     "output_type": "stream",
     "text": [
      "\u001b[32m\u001b[1mNo Changes\u001b[22m\u001b[39m to `~/OneDrive/FGV/7 Período/Programação Linear/Listas/Project.toml`\n",
      "\u001b[32m\u001b[1mNo Changes\u001b[22m\u001b[39m to `~/OneDrive/FGV/7 Período/Programação Linear/Listas/Manifest.toml`\n"
     ]
    }
   ],
   "source": [
    "using Pkg\n",
    "pkg\"activate ../.\"\n",
    "pkg\"instantiate\""
   ]
  },
  {
   "cell_type": "code",
   "execution_count": 2,
   "metadata": {},
   "outputs": [
    {
     "name": "stderr",
     "output_type": "stream",
     "text": [
      "\u001b[32m\u001b[1m  Resolving\u001b[22m\u001b[39m package versions...\n",
      "\u001b[32m\u001b[1m  Installed\u001b[22m\u001b[39m Parsers ─ v1.0.16\n",
      "\u001b[32m\u001b[1m  Installed\u001b[22m\u001b[39m GLPK ──── v0.14.7\n",
      "\u001b[32m\u001b[1mUpdating\u001b[22m\u001b[39m `~/OneDrive/FGV/7 Período/Programação Linear/Listas/Project.toml`\n",
      " \u001b[90m [60bf3e95] \u001b[39m\u001b[92m+ GLPK v0.14.7\u001b[39m\n",
      " \u001b[90m [4076af6c] \u001b[39m\u001b[92m+ JuMP v0.21.6\u001b[39m\n",
      "\u001b[32m\u001b[1mUpdating\u001b[22m\u001b[39m `~/OneDrive/FGV/7 Período/Programação Linear/Listas/Manifest.toml`\n",
      " \u001b[90m [56f22d72] \u001b[39m\u001b[92m+ Artifacts v1.3.0\u001b[39m\n",
      " \u001b[90m [6e4b80f9] \u001b[39m\u001b[92m+ BenchmarkTools v0.5.0\u001b[39m\n",
      " \u001b[90m [b99e7846] \u001b[39m\u001b[92m+ BinaryProvider v0.5.10\u001b[39m\n",
      " \u001b[90m [6e34b625] \u001b[39m\u001b[92m+ Bzip2_jll v1.0.6+5\u001b[39m\n",
      " \u001b[90m [fa961155] \u001b[39m\u001b[92m+ CEnum v0.4.1\u001b[39m\n",
      " \u001b[90m [49dc2e85] \u001b[39m\u001b[92m+ Calculus v0.5.1\u001b[39m\n",
      " \u001b[90m [d360d2e6] \u001b[39m\u001b[92m+ ChainRulesCore v0.9.29\u001b[39m\n",
      " \u001b[90m [523fee87] \u001b[39m\u001b[92m+ CodecBzip2 v0.7.2\u001b[39m\n",
      " \u001b[90m [944b1d66] \u001b[39m\u001b[92m+ CodecZlib v0.7.0\u001b[39m\n",
      " \u001b[90m [bbf7d656] \u001b[39m\u001b[92m+ CommonSubexpressions v0.3.0\u001b[39m\n",
      " \u001b[90m [34da2185] \u001b[39m\u001b[92m+ Compat v3.25.0\u001b[39m\n",
      " \u001b[90m [e66e0078] \u001b[39m\u001b[92m+ CompilerSupportLibraries_jll v0.3.4+0\u001b[39m\n",
      " \u001b[90m [864edb3b] \u001b[39m\u001b[92m+ DataStructures v0.18.9\u001b[39m\n",
      " \u001b[90m [163ba53b] \u001b[39m\u001b[92m+ DiffResults v1.0.3\u001b[39m\n",
      " \u001b[90m [b552c78f] \u001b[39m\u001b[92m+ DiffRules v1.0.2\u001b[39m\n",
      " \u001b[90m [f6369f11] \u001b[39m\u001b[92m+ ForwardDiff v0.10.16\u001b[39m\n",
      " \u001b[90m [60bf3e95] \u001b[39m\u001b[92m+ GLPK v0.14.7\u001b[39m\n",
      " \u001b[90m [e8aa6df9] \u001b[39m\u001b[92m+ GLPK_jll v4.64.0+0\u001b[39m\n",
      " \u001b[90m [781609d7] \u001b[39m\u001b[92m+ GMP_jll v6.1.2+6\u001b[39m\n",
      " \u001b[90m [cd3eb016] \u001b[39m\u001b[92m+ HTTP v0.9.5\u001b[39m\n",
      " \u001b[90m [83e8ac13] \u001b[39m\u001b[92m+ IniFile v0.5.0\u001b[39m\n",
      " \u001b[90m [692b3bcd] \u001b[39m\u001b[92m+ JLLWrappers v1.2.0\u001b[39m\n",
      " \u001b[90m [682c06a0] \u001b[39m\u001b[92m+ JSON v0.21.1\u001b[39m\n",
      " \u001b[90m [7d188eb4] \u001b[39m\u001b[92m+ JSONSchema v0.3.3\u001b[39m\n",
      " \u001b[90m [4076af6c] \u001b[39m\u001b[92m+ JuMP v0.21.6\u001b[39m\n",
      " \u001b[90m [1914dd2f] \u001b[39m\u001b[92m+ MacroTools v0.5.6\u001b[39m\n",
      " \u001b[90m [b8f27783] \u001b[39m\u001b[92m+ MathOptInterface v0.9.20\u001b[39m\n",
      " \u001b[90m [739be429] \u001b[39m\u001b[92m+ MbedTLS v1.0.3\u001b[39m\n",
      " \u001b[90m [c8ffd9c3] \u001b[39m\u001b[92m+ MbedTLS_jll v2.16.8+1\u001b[39m\n",
      " \u001b[90m [d8a4904e] \u001b[39m\u001b[92m+ MutableArithmetics v0.2.14\u001b[39m\n",
      " \u001b[90m [77ba4419] \u001b[39m\u001b[92m+ NaNMath v0.3.5\u001b[39m\n",
      " \u001b[90m [ca575930] \u001b[39m\u001b[92m+ NetworkOptions v1.2.0\u001b[39m\n",
      " \u001b[90m [efe28fd5] \u001b[39m\u001b[92m+ OpenSpecFun_jll v0.5.3+4\u001b[39m\n",
      " \u001b[90m [bac558e1] \u001b[39m\u001b[92m+ OrderedCollections v1.4.0\u001b[39m\n",
      " \u001b[90m [69de0a69] \u001b[39m\u001b[92m+ Parsers v1.0.16\u001b[39m\n",
      " \u001b[90m [276daf66] \u001b[39m\u001b[92m+ SpecialFunctions v1.3.0\u001b[39m\n",
      " \u001b[90m [90137ffa] \u001b[39m\u001b[92m+ StaticArrays v1.0.1\u001b[39m\n",
      " \u001b[90m [3bb67fe8] \u001b[39m\u001b[92m+ TranscodingStreams v0.9.5\u001b[39m\n",
      " \u001b[90m [5c2747f8] \u001b[39m\u001b[92m+ URIs v1.2.0\u001b[39m\n",
      " \u001b[90m [a5390f91] \u001b[39m\u001b[92m+ ZipFile v0.9.3\u001b[39m\n",
      " \u001b[90m [83775a58] \u001b[39m\u001b[92m+ Zlib_jll v1.2.11+18\u001b[39m\n",
      " \u001b[90m [2a0f44e3] \u001b[39m\u001b[92m+ Base64\u001b[39m\n",
      " \u001b[90m [ade2ca70] \u001b[39m\u001b[92m+ Dates\u001b[39m\n",
      " \u001b[90m [8bb1440f] \u001b[39m\u001b[92m+ DelimitedFiles\u001b[39m\n",
      " \u001b[90m [8ba89e20] \u001b[39m\u001b[92m+ Distributed\u001b[39m\n",
      " \u001b[90m [b77e0a4c] \u001b[39m\u001b[92m+ InteractiveUtils\u001b[39m\n",
      " \u001b[90m [76f85450] \u001b[39m\u001b[92m+ LibGit2\u001b[39m\n",
      " \u001b[90m [8f399da3] \u001b[39m\u001b[92m+ Libdl\u001b[39m\n",
      " \u001b[90m [37e2e46d] \u001b[39m\u001b[92m+ LinearAlgebra\u001b[39m\n",
      " \u001b[90m [56ddb016] \u001b[39m\u001b[92m+ Logging\u001b[39m\n",
      " \u001b[90m [d6f4376e] \u001b[39m\u001b[92m+ Markdown\u001b[39m\n",
      " \u001b[90m [a63ad114] \u001b[39m\u001b[92m+ Mmap\u001b[39m\n",
      " \u001b[90m [44cfe95a] \u001b[39m\u001b[92m+ Pkg\u001b[39m\n",
      " \u001b[90m [de0858da] \u001b[39m\u001b[92m+ Printf\u001b[39m\n",
      " \u001b[90m [3fa0cd96] \u001b[39m\u001b[92m+ REPL\u001b[39m\n",
      " \u001b[90m [9a3f8284] \u001b[39m\u001b[92m+ Random\u001b[39m\n",
      " \u001b[90m [ea8e919c] \u001b[39m\u001b[92m+ SHA\u001b[39m\n",
      " \u001b[90m [9e88b42a] \u001b[39m\u001b[92m+ Serialization\u001b[39m\n",
      " \u001b[90m [1a1011a3] \u001b[39m\u001b[92m+ SharedArrays\u001b[39m\n",
      " \u001b[90m [6462fe0b] \u001b[39m\u001b[92m+ Sockets\u001b[39m\n",
      " \u001b[90m [2f01184e] \u001b[39m\u001b[92m+ SparseArrays\u001b[39m\n",
      " \u001b[90m [10745b16] \u001b[39m\u001b[92m+ Statistics\u001b[39m\n",
      " \u001b[90m [8dfed614] \u001b[39m\u001b[92m+ Test\u001b[39m\n",
      " \u001b[90m [cf7118a7] \u001b[39m\u001b[92m+ UUIDs\u001b[39m\n",
      " \u001b[90m [4ec0a83e] \u001b[39m\u001b[92m+ Unicode\u001b[39m\n",
      "\u001b[32m\u001b[1m   Building\u001b[22m\u001b[39m GLPK → `~/.julia/packages/GLPK/OMgPz/deps/build.log`\n",
      "┌ Info: Precompiling GLPK [60bf3e95-4087-53dc-ae20-288a0d20c6a6]\n",
      "└ @ Base loading.jl:1278\n"
     ]
    }
   ],
   "source": [
    "pkg\"add JuMP GLPK\"\n",
    "using Plots, LinearAlgebra, JuMP, GLPK "
   ]
  },
  {
   "cell_type": "markdown",
   "metadata": {},
   "source": [
    "## Exercício 1 (Seção 1.2)"
   ]
  },
  {
   "cell_type": "markdown",
   "metadata": {},
   "source": [
    "**Consider the following table indicating the nutritional value of different food types:**\n",
    "\n",
    "|Foods|Price ($) p/ s|Calories p/ s|Fat (g) p/ s|Protein (g) p/ s|Carbohydrate (g) p/ s|\n",
    "|-----|---------------|--------------|-------------|-----------------|----------------------|\n",
    "|Raw carrots|0.14|23|0.1|0.6|6|\n",
    "|Baked potatoes|0.12|171|0.2|3.7|30|\n",
    "|Wheat bread|0.2|65|0|2.2|13|\n",
    "|Cheddar cheese|0.75|112|9.3|7|0|\n",
    "|Peanut butter|0.15|188|16|7.7|2|\n",
    "|p/ s: per serving|\n",
    "\n",
    "**You need to decide how many servings of each food to buy each day so that you minimize the total cost of buying your food while satisfying the following daily nutritional requirements:**\n",
    "\n",
    "- calories must be at least 2000,\n",
    "- fat must be at least 50g,\n",
    "- protein must be at least 100g,\n",
    "- carbohydrates must be at least 250g.\n",
    "\n",
    "**Write an LP that will help you decide how many servings of each of the aforementioned foods are needed to meet all the nutritional requirement, while minimizing the total cost of the food (you may buy  fractional numbers of servings).**"
   ]
  },
  {
   "cell_type": "markdown",
   "metadata": {},
   "source": [
    "Primeiro vamos denotar as variáveis:\n",
    "\n",
    "$$\n",
    "x_i = \\text{ quantidade de porções do alimento na linha } i, i=1,...,5\n",
    "$$\n",
    "\n",
    "Nosso funcional objetivo é minimizar o custo de comprar a comida, isto é,\n",
    " \n",
    "$$\n",
    "0.14x_1 + 0.12x_2 + 0.2x_3 + 0.75x_4 + 0.15x_5\n",
    "$$\n",
    "\n",
    "seguindo as restrições nutricionais \n",
    "\n",
    "$$\n",
    "23x_1 + 171x_2 + 65x_3 + 112x_4 + 188x_5 \\ge 2000\n",
    "$$\n",
    "$$\n",
    "0.1x_1 + 0.2x_2 + 9.3x_4 + 16x_5 \\ge 50\n",
    "$$\n",
    "$$\n",
    "0.6x_1 + 3.7x_2 + 2.2x_3 + 7x_4 + 7.7x_5 \\ge 100\n",
    "$$\n",
    "$$\n",
    "6x_1 + 30x_2 + 13x_3 + 2x_5 \\ge 250\n",
    "$$\n",
    "\n",
    "E as restrições físicas \n",
    "\n",
    "$$x_1, ..., x_4 \\ge 0$$"
   ]
  },
  {
   "cell_type": "code",
   "execution_count": 3,
   "metadata": {},
   "outputs": [
    {
     "name": "stdout",
     "output_type": "stream",
     "text": [
      "Min 0.14 x1 + 0.12 x2 + 0.2 x3 + 0.75 x4 + 0.15 x5\n",
      "Subject to\n",
      " 23 x1 + 171 x2 + 65 x3 + 112 x4 + 188 x5 ≥ 2000.0\n",
      " 0.1 x1 + 0.2 x2 + 9.3 x4 + 16 x5 ≥ 50.0\n",
      " 0.6 x1 + 3.7 x2 + 2.2 x3 + 7 x4 + 7.7 x5 ≥ 100.0\n",
      " 6 x1 + 30 x2 + 13 x3 + 2 x5 ≥ 250.0\n",
      " x1 ≥ 0.0\n",
      " x2 ≥ 0.0\n",
      " x3 ≥ 0.0\n",
      " x4 ≥ 0.0\n",
      " x5 ≥ 0.0\n"
     ]
    }
   ],
   "source": [
    "# Cria o modelo\n",
    "food = Model(GLPK.Optimizer)\n",
    "\n",
    "# Insere as variáveis\n",
    "@variable(food, x1 >= 0)\n",
    "@variable(food, x2 >= 0)\n",
    "@variable(food, x3 >= 0)\n",
    "@variable(food, x4 >= 0)\n",
    "@variable(food, x5 >= 0)\n",
    "\n",
    "# Restrições\n",
    "@constraint(food, 23x1 + 171x2 + 65x3 + 112x4 + 188x5 >= 2000)\n",
    "@constraint(food, 0.1x1 + 0.2x2 + 9.3x4 + 16x5 >= 50)\n",
    "@constraint(food, 0.6x1 + 3.7x2 + 2.2x3 + 7x4 + 7.7x5 >= 100)\n",
    "@constraint(food, 6x1 + 30x2 + 13x3 + 2x5 >= 250)\n",
    "\n",
    "# Objetivo \n",
    "@objective(food, Min, 0.14x1 + 0.12x2 + 0.2x3 + 0.75x4 + 0.15x5)\n",
    "\n",
    "print(food)"
   ]
  },
  {
   "cell_type": "code",
   "execution_count": 4,
   "metadata": {},
   "outputs": [
    {
     "name": "stdout",
     "output_type": "stream",
     "text": [
      "Você deveria comer 0.0 porções de cenoura crua\n",
      "Você deveria comer 7.714669051878354 porções de batata assada\n",
      "Você deveria comer 0.0 porções de pão de trigo\n",
      "Você deveria comer 0.0 porções de queijo cheddar\n",
      "Você deveria comer 9.279964221824686 porções de manteira de amendoim\n",
      "\n",
      "Assim o seu custo total será de $2.317754919499105\n"
     ]
    }
   ],
   "source": [
    "# Chamada do Solver\n",
    "optimize!(food)\n",
    "\n",
    "#Declarar solução\n",
    "vx1 = value(x1)\n",
    "vx2 = value(x2)\n",
    "vx3 = value(x3)\n",
    "vx4 = value(x4)\n",
    "vx5 = value(x5)\n",
    "\n",
    "obj = objective_value(food)\n",
    "\n",
    "println(\"Você deveria comer $vx1 porções de cenoura crua\")\n",
    "\n",
    "println(\"Você deveria comer $vx2 porções de batata assada\")\n",
    "\n",
    "println(\"Você deveria comer $vx3 porções de pão de trigo\")\n",
    "\n",
    "println(\"Você deveria comer $vx4 porções de queijo cheddar\")\n",
    "\n",
    "println(\"Você deveria comer $vx5 porções de manteira de amendoim\")\n",
    "\n",
    "println(\"\\nAssim o seu custo total será de \\$$obj\")\n"
   ]
  },
  {
   "cell_type": "markdown",
   "metadata": {},
   "source": [
    "## Exercício 6 (Seção 1.2)\n",
    "\n",
    "**We are given an $m$ by $n$ matrix $A$ and a vector $b$ in system $Ax = b$ has no solution. We are interested in finding a vector $x \\in \\mathbb{R}^n$ that \"comes close\" to solving the system. Namely, we want to find an $x \\in \\mathbb{R}^n$ whose deviation is minimum, and where the deviation of $x$ is defined to be**\n",
    "$$\n",
    "\\sum_{i=1}^m |b_i - \\sum_{j=1}^n a_{ij}x_j|\n",
    "$$\n",
    "\n",
    "**(a) Show that a solution to the optimization problem**\n",
    "$$\n",
    "\\begin{gather}\n",
    "\\text{minimize} \\sum_{i=1}^m y_i \\\\\n",
    "\\text{subject to} \\left|\\sum_{j=1}^n a_{ij}x_j - b_i\\right| \\le y_i, i = 1,...,m\n",
    "\\end{gather}\n",
    "$$\n",
    "**will give a vector x of minimum deviation.**"
   ]
  },
  {
   "cell_type": "markdown",
   "metadata": {},
   "source": [
    "Sejam $x^* = (x_1^*, ..., x_n^*)$ e $y^* = (y_1^*, ..., y_m^*)$ solução do problema de otimização acima. Tome $x \\in \\mathbb{R}^n$ diferente de $x^*$ e suponha $x$ tem de desvio menor do que $x^*$. Defina $y_i = |\\sum_{j=1}^n a_{ij}x_j - b_i|, i = 1,...,m$ e, então,  \n",
    "\n",
    "$$\n",
    "\\sum_{i=1}^m y_i = \\sum_{i=1}^m \\left|\\sum_{j=1}^n a_{ij}x_j - b_i\\right| < \\sum_{i=1}^m \\left|\\sum_{j=1}^n a_{ij}x_j^* - b_i\\right| \\le \\sum_{i=1}^m y_i^*\n",
    "$$\n",
    "\n",
    "Em particular, $x, y$ formam uma solução para o problema acima, o que é um absurdo, pois $y^*$ é o minimizador. Portanto a solução desse problema dá $x^*$ que tem desvio mínimo. "
   ]
  },
  {
   "cell_type": "markdown",
   "metadata": {},
   "source": [
    "**(b) The problem of part (a) is not an LP. (Why?) Show that it can be formulated as an LP.**\n",
    "\n",
    "O problema não é LP, pois as restrições não são lineares dado que o módulo não é uma função linear. A fim de formular esse problema como um LP, poderíamos tranformar o módulo em duas restrições, $1 \\le i \\le m$\n",
    "\n",
    "$$\n",
    "\\sum_{j=1}^n a_{ij}x_j - b_i \\le y_i \\text{ e } b_i - \\sum_{j=1}^n a_{ij}x_j \\le y_i\n",
    "$$"
   ]
  },
  {
   "cell_type": "markdown",
   "metadata": {},
   "source": [
    "**(c) Suppose that we had instead defined the deviation of x as**\n",
    "$$\n",
    "\\max_{1 \\le i \\le m} |b_i - \\sum_{i=1} a_{ij}x_j|\n",
    "$$\n",
    "**With this new definition, write the problem of finding a vector of minimum deviation as an optimization\n",
    "problem, and show that this problem can also be formulated as an LP.**"
   ]
  },
  {
   "cell_type": "markdown",
   "metadata": {},
   "source": [
    "Considere o problema\n",
    "\n",
    "$$\n",
    "\\begin{gather}\n",
    "\\text{minimize } y \\\\\n",
    "\\text{subject to} \\left|\\sum_{j=1}^n a_{ij}x_j - b_i\\right| \\le y, i = 1,...,m\n",
    "\\end{gather}\n",
    "$$\n",
    "\n",
    "Usando um argumento similar ao utilizado em (a), seja $(x^*, y^*)$ solução para esse problema e $x \\neq x^*$ com desvio menor segundo essa métrica. Defina $y = \\max_{1 \\le i \\le m} |b_i - \\sum_{i=1}^n a_{ij}x_j|$ e teremos que: \n",
    "\n",
    "$$\n",
    "y = \\max_{1 \\le i \\le m} |b_i - \\sum_{i=1}^n a_{ij}x_j| < \\max_{1 \\le i \\le m} |b_i - \\sum_{i=1}^n a_{ij}x_j^*| \\le y^*\n",
    "$$\n",
    "\n",
    "o que é claramente um absurdo. Além disso, esse problema pode ser formulado como LP alterando a restrição para que, $1 \\le i \\le m$\n",
    "$$\n",
    "\\sum_{j=1}^n a_{ij}x_j - b_i \\le y \\text{ e } b_i - \\sum_{j=1}^n a_{ij}x_j \\le y\n",
    "$$"
   ]
  },
  {
   "cell_type": "markdown",
   "metadata": {},
   "source": [
    "## Exercício 7 (Seção 1.2)\n",
    "\n",
    "**Considere a seguinte configuração: temos fábricas de $1$ a $m$ e lojas de $1$ a $n$. Cada fábrica $i$ produz $u_i$ unidades de uma mercadoria e cada loja $j$ requer $l_j$ unidades dessa mercadoria. Observe que cada fábrica produz a mesma mercadoria e cada loja requer a mesma mercadoria. O objetivo é transferir a commodity das fábricas para as lojas. Todas as mercadorias que vão das fábricas para as lojas são primeiro enviadas para um dos dois centros de armazenamento centrais $A$ e $B$. O custo de transporte de uma unidade de mercadoria da fábrica $i$ para o centro $A$ (resp. $B$) é dado por $a_i$ (resp. $b_i$). O custo de transporte de uma unidade de mercadoria do hub $A$ (resp. $B$) para a loja $j$ é dado por $a_j'$) (resp. $b_j'$).**\n",
    "\n",
    "**O problema é decidir quanto enviar de cada fábrica para cada hub e quanto enviar de cada hub para cada loja de modo que cada loja receba a quantidade de mercadoria de que necessita, nenhuma fábrica envia mais mercadoria do que produz, e de forma que o total o custo de transporte é minimizado. Formule esse problema como um LP (podemos supor que o número de unidades da mercadoria enviada pode ser fracionário).**"
   ]
  },
  {
   "cell_type": "markdown",
   "metadata": {},
   "source": [
    "![](factory-store.png)"
   ]
  },
  {
   "cell_type": "markdown",
   "metadata": {},
   "source": [
    "*Variáveis:* Seja $x^A_i$ e $x^B_i$ a quantidade de commodity enviada para os hubs A e B pela fábrica $i$, respectivamente, onde $i=1,...,m$. Seja $y^A_j$ e $y^B_j$ a quantidade que a loja $j$ recebe dos hubs $A$ e $B$, respectivamente, onde $j=1,...,n$.\n",
    "\n",
    "*Função objetivo:* Queremos minimizar o custo do transporte. Sabemos que $a_i x^A_i$ é o custo de enviar as comodities da indústria $i$ para o hub $A$ e que $b_i x^B_i$ é o custo para enviar para o hub $B$. O mesmo vale para as lojas. Assim, queremos minimizar: \n",
    "\n",
    "$$\n",
    "\\sum_{i=1}^m a_i x^A_i + b_i x^B_i + \\sum_{j=1}^n a_j' y^A_j + b_j' y^B_j\n",
    "$$"
   ]
  },
  {
   "cell_type": "markdown",
   "metadata": {},
   "source": [
    "*Restrições:* Temos que a indústria $i$ pode produzir no máximo $u_i$, portanto, para $i=1,...,n$,\n",
    "\n",
    "$$\n",
    "x^A_i + x^B_i \\le u_i\n",
    "$$\n",
    "\n",
    "Além disso, cada loja deve receber a quantidade que necessita, assim , para $j=1,...,m$,\n",
    "\n",
    "$$\n",
    "y^A_j + y^B_j \\ge l_j\n",
    "$$\n",
    "\n",
    "Temos a restrição que a quantidade que chega no hub $A$ ou $B$ deve ser a quantidade que sai de lá, isto é, \n",
    "$$\n",
    "\\sum_{i=1}^m x^A_i = \\sum_{j=1}^n y^A_i\n",
    "$$\n",
    "$$\n",
    "\\sum_{i=1}^m x^B_i = \\sum_{j=1}^n y^B_i\n",
    "$$\n",
    "\n",
    "Além disso temos as restrições $x^A_i, x^B_i \\ge 0$ e $y^A_j, y^B_j \\ge 0$.  \n",
    "\n",
    "Considere $m = 3$ e $n = 4$ como na figura. "
   ]
  },
  {
   "cell_type": "code",
   "execution_count": 5,
   "metadata": {},
   "outputs": [
    {
     "data": {
      "text/plain": [
       "transport (generic function with 2 methods)"
      ]
     },
     "execution_count": 5,
     "metadata": {},
     "output_type": "execute_result"
    }
   ],
   "source": [
    "function transport(m, n, cost_to, cost_from, u, l, print_model=true)\n",
    "    \n",
    "    model = Model(GLPK.Optimizer)\n",
    "    \n",
    "    # Variáveis\n",
    "    @variable(model, x[i=1:m,k=1:2] >= 0);\n",
    "    @variable(model, y[i=1:n,k=1:2] >= 0);\n",
    "    \n",
    "    # Função objetivo\n",
    "    @objective(model, Min, sum(cost_to .* x) + sum(cost_from .* y));\n",
    "\n",
    "    # Restrições\n",
    "    @constraint(model, [sum(x[i,:]) for i = 1:m] .<= u)\n",
    "    @constraint(model, [sum(y[j,:]) for j = 1:n] .>= l)\n",
    "\n",
    "    @constraint(model, sum(x[:,1]) == sum(y[:,1]))\n",
    "    @constraint(model, sum(x[:,2]) == sum(y[:,2]))\n",
    "    \n",
    "    if print_model == true\n",
    "        print(model)\n",
    "    end\n",
    "    \n",
    "    # Otimizador GLPK\n",
    "    print(\"\\nOtimizando!\\n\")\n",
    "    optimize!(model)\n",
    "    \n",
    "    print(\"\\nA quantidade enviada das fábricas\\n\\n\")\n",
    "    print(value.(x))\n",
    "    print(\"\\n\\nA quantidade recebida pelas fábricas\\n\\n\")\n",
    "    print(value.(y))\n",
    "end"
   ]
  },
  {
   "cell_type": "code",
   "execution_count": 6,
   "metadata": {},
   "outputs": [
    {
     "name": "stdout",
     "output_type": "stream",
     "text": [
      "Min x[1,1] + x[2,1] + x[3,1] + x[1,2] + x[2,2] + x[3,2] + y[1,1] + y[2,1] + y[3,1] + y[4,1] + y[1,2] + y[2,2]\n",
      "Subject to\n",
      " x[1,1] + x[2,1] + x[3,1] - y[1,1] - y[2,1] - y[3,1] - y[4,1] = 0.0\n",
      " x[1,2] + x[2,2] + x[3,2] - y[1,2] - y[2,2] - y[3,2] - y[4,2] = 0.0\n",
      " y[1,1] + y[1,2] ≥ 20.0\n",
      " y[2,1] + y[2,2] ≥ 15.0\n",
      " y[3,1] + y[3,2] ≥ 10.0\n",
      " y[4,1] + y[4,2] ≥ 5.0\n",
      " x[1,1] + x[1,2] ≤ 20.0\n",
      " x[2,1] + x[2,2] ≤ 20.0\n",
      " x[3,1] + x[3,2] ≤ 20.0\n",
      " x[1,1] ≥ 0.0\n",
      " x[2,1] ≥ 0.0\n",
      " x[3,1] ≥ 0.0\n",
      " x[1,2] ≥ 0.0\n",
      " x[2,2] ≥ 0.0\n",
      " x[3,2] ≥ 0.0\n",
      " y[1,1] ≥ 0.0\n",
      " y[2,1] ≥ 0.0\n",
      " y[3,1] ≥ 0.0\n",
      " y[4,1] ≥ 0.0\n",
      " y[1,2] ≥ 0.0\n",
      " y[2,2] ≥ 0.0\n",
      " y[3,2] ≥ 0.0\n",
      " y[4,2] ≥ 0.0\n",
      "\n",
      "Otimizando!\n",
      "\n",
      "A quantidade enviada das fábricas\n",
      "\n",
      "[5.0 15.0; 20.0 0.0; 10.0 0.0]\n",
      "\n",
      "A quantidade recebida pelas fábricas\n",
      "\n",
      "[20.0 0.0; 15.0 0.0; 0.0 10.0; 0.0 5.0]"
     ]
    }
   ],
   "source": [
    "m = 3\n",
    "n = 4\n",
    "\n",
    "cost_to_hubs = [\n",
    "    1 1;\n",
    "    1 1;\n",
    "    1 1;\n",
    "]\n",
    "\n",
    "cost_from_hubs = [\n",
    "    1 1;\n",
    "    1 1;\n",
    "    1 0;\n",
    "    1 0;\n",
    "]\n",
    "\n",
    "u = [\n",
    "    20; 20; 20\n",
    "]\n",
    "\n",
    "l = [\n",
    "    20; 15; 10; 5\n",
    "]\n",
    "\n",
    "transport(m,n,cost_to_hubs,cost_from_hubs,u,l)"
   ]
  },
  {
   "cell_type": "markdown",
   "metadata": {},
   "source": [
    "Diminuindo o custo de ida da terceira fábrica para os dois hubs faz o problema de otimização colocar mais produção nela. "
   ]
  },
  {
   "cell_type": "code",
   "execution_count": 7,
   "metadata": {},
   "outputs": [
    {
     "name": "stdout",
     "output_type": "stream",
     "text": [
      "\n",
      "Otimizando!\n",
      "\n",
      "A quantidade enviada das fábricas\n",
      "\n",
      "[0.0 10.0; 20.0 0.0; 15.0 5.0]\n",
      "\n",
      "A quantidade recebida pelas fábricas\n",
      "\n",
      "[20.0 0.0; 15.0 0.0; 0.0 10.0; 0.0 5.0]"
     ]
    }
   ],
   "source": [
    "m = 3\n",
    "n = 4\n",
    "\n",
    "cost_to_hubs = [\n",
    "    1 1;\n",
    "    1 1;\n",
    "    0.5 0.5;\n",
    "]\n",
    "\n",
    "cost_from_hubs = [\n",
    "    1 1;\n",
    "    1 1;\n",
    "    1 0;\n",
    "    1 0;\n",
    "]\n",
    "\n",
    "u = [\n",
    "    20; 20; 20\n",
    "]\n",
    "\n",
    "l = [\n",
    "    20; 15; 10; 5\n",
    "]\n",
    "\n",
    "transport(m,n,cost_to_hubs,cost_from_hubs,u,l, false)"
   ]
  },
  {
   "cell_type": "markdown",
   "metadata": {},
   "source": [
    "## Exercício 10 (Seção 1.3)\n",
    "\n",
    "**KW mining has an open-pit mine with 12 blocks of ore as shown in the figure below. The mineability condition says that no block can be mined\n",
    "without mining all blocks which lie at least partially above it.**\n",
    "\n",
    "![mining](exercise10_1-3.png)"
   ]
  },
  {
   "cell_type": "markdown",
   "metadata": {},
   "source": [
    "**(a) The net value of mining block $i$ is given by $m_i$ (in dollars) for $i = 1 , . . . , 12$. Formulate as an IP the problem of deciding which blocks should be mined, in order to maximize the total value of blocks mined, and satisfy the mineability condition if at most seven blocks can be mined.**"
   ]
  },
  {
   "cell_type": "markdown",
   "metadata": {},
   "source": [
    "Vamos definir as variáveis $x_i$ igual a 1 se o $i$-ésimo bloco é minerado e 0 caso contrário, isto é $x_i \\in \\mathbb{Z},$ tal que $0 \\le x_i \\le 1$. Queremos decidir quais variáveis são 1 e quais são 0, de forma que maximizemos o valor total mineirado, dado por: \n",
    "$$\n",
    "\\sum_{i=1}^{12} m_i x_i\n",
    "$$\n",
    "Além disso, queremos colocar as restrições do tipo:\n",
    "\n",
    "- Se $x_{10} = 1$, então $x_1 = x_2 = x_3 = x_6 = x_7 = 1$. \n",
    "- Se $x_{11} = 1$, então $x_2 = x_3 = x_4 = x_7 = x_8 = 1$. \n",
    "- Se $x_{12} = 1$, então $x_3 = x_4 = x_5 = x_8 = x_8 = 1$. \n",
    "\n",
    "Uma  forma de restringir isso é dizer que, por exemplo, \n",
    "\n",
    "- $x_{10} \\le x_6, x_7$\n",
    "- $x_7 \\le x_2, x_3$\n",
    "- $x_{12} \\le x_3, x_4, x_5, x_8, x_9$\n",
    "\n",
    "Isto é,  $x_i \\le x_{i-4}, x_{i-3}, i = 10, 11, 12$ e $x_i \\le x_{i-5}, x_{i-4}, i = 6,7,8,9$. "
   ]
  },
  {
   "cell_type": "markdown",
   "metadata": {},
   "source": [
    "Por fim, queremos que $\\sum_{i=1}^{12} x_i \\le 7$, que indica que no máximo sete blocos podem ser mineirados. "
   ]
  },
  {
   "cell_type": "markdown",
   "metadata": {},
   "source": [
    "**(b) The volume of mining block $i$ is given by $v_i$ (in $m^3$) for $i = 1 , . . . , 12$. What extra constraint would you add if, in addition to all constraints needed in (a), it is required that the total volume mined must not exceed $10 000 m^3$?**"
   ]
  },
  {
   "cell_type": "markdown",
   "metadata": {},
   "source": [
    "Nesse caso basta adicionar que $\\sum_{i=1}^{12} v_i x_i \\le 10000$. "
   ]
  },
  {
   "cell_type": "markdown",
   "metadata": {},
   "source": [
    "**(c) Mines often have a minimum short-term return requirement. For this mine, the board of the company requires that the total value of blocks\n",
    "mined in the first two years must total at least $1 000 000$ dollars. Each block takes one year to mine, at most two blocks can be mined at once, and a block cannot be mined in a given year unless all blocks lying at least partially above it were mined by the year before. Besides this new condition, the mineability condition still applies, and at most seven blocks can be mined. Formulate as an IP the problem of deciding which blocks should be mined, subject to these constraints, in order to maximize total value of blocks mined.**"
   ]
  },
  {
   "cell_type": "markdown",
   "metadata": {},
   "source": [
    "Seja $x_{ij}$ uma variável binária que indica 1 se o bloco $i$ foi mineirado no ano $j$ e 0 caso contrário, onde $i = 1,...,12$ e $j=1,...,7$. \n",
    "Ainda queremos maximizar a expressão \n",
    "$$\n",
    "\\sum_{i=1}^{12} m_i(x_{i1} + ... + x_{i7})\n",
    "$$\n",
    "Restrinjo que $j \\le 7$, porque no máximo 7 blocos podem ser mineirados. Se precisássemos de mais um ano, pelo princípio da casa dos pombos, haveria um ano sem atividade, que poderíamos definir o último sem perda de generalidade, assim $j \\le 7$ é uma restrição sem grandes problemas. \n",
    "\n",
    "A mesa diretora exige que $\\sum_{i=1}^{12} m_i(x_{i1} + x_{i2}) \\ge 1000000$.  "
   ]
  },
  {
   "cell_type": "markdown",
   "metadata": {},
   "source": [
    "Observe que podemos mineirar no máximo dois blocos por ano, portanto, \n",
    "$$\n",
    "\\sum_{i=1}^{12} x_{ij} \\le 2, j = 1,...,7\n",
    "$$\n",
    "\n",
    "Por fim, temos as restrições da condição de mineralidade \n",
    "\n",
    "$x_{ij} \\le x_{i-4, j-1}, x_{i-3, j-1}, i = 10, 11, 12$, $x_{ij} \\le x_{i-5, j-1}, x_{i-4, j-1}, i = 6,7,8,9$ e $x_{i1} = 0$ para $i > 5$. Por fim, restringimos que \n",
    "\n",
    "$$\n",
    "\\sum_{i=1}^{12} \\sum_{j=1}^7 x_{ij} \\le 7\n",
    "$$\n",
    "\n",
    "Adicionei uma possível restrição de reutilização. Se falsa, ela exige que \n",
    "$$\n",
    "\\sum_{i=1}^{12} x_{ij} \\le 1, j = 1,...,7\n",
    "$$"
   ]
  },
  {
   "cell_type": "code",
   "execution_count": 8,
   "metadata": {},
   "outputs": [
    {
     "data": {
      "text/plain": [
       "mining (generic function with 2 methods)"
      ]
     },
     "execution_count": 8,
     "metadata": {},
     "output_type": "execute_result"
    }
   ],
   "source": [
    "function mining(m, reuse = true)\n",
    "    # Cria o modelo\n",
    "    mine = Model(GLPK.Optimizer)\n",
    "    \n",
    "    # Insere as variáveis\n",
    "    @variable(mine, x[i=1:12,j=1:7], Bin)\n",
    "    \n",
    "    # Objetivo \n",
    "    @objective(mine, Max, sum(m.*sum(x, dims = 2)))\n",
    "    \n",
    "    # Restrições \n",
    "    @constraint(mine, sum(m.*sum(x[:,1:2], dims=2)) >= 1000000)\n",
    "    @constraint(mine, sum(x, dims = 1) .<= 2)\n",
    "    @constraint(mine, sum(x) <= 7)\n",
    "    for i=5:12 \n",
    "        @constraint(mine, x[i,1] == 0)\n",
    "    end\n",
    "    for j=2:7\n",
    "        for i=6:9\n",
    "            @constraint(mine, x[i,j] <= x[i-5,j-1])\n",
    "            @constraint(mine, x[i,j] <= x[i-4,j-1])\n",
    "        end\n",
    "        for i=10:12\n",
    "            @constraint(mine, x[i,j] <= x[i-4,j-1])\n",
    "            @constraint(mine, x[i,j] <= x[i-3,j-1])\n",
    "        end\n",
    "    end\n",
    "    \n",
    "    if ~reuse\n",
    "        @constraint(mine, [sum(x[i,:]) for i=1:12] .<= 1)\n",
    "    end\n",
    "    \n",
    "    optimize!(mine)\n",
    "    \n",
    "    return value.(x)\n",
    "end"
   ]
  },
  {
   "cell_type": "code",
   "execution_count": 9,
   "metadata": {},
   "outputs": [
    {
     "data": {
      "text/plain": [
       "12×7 Array{Float64,2}:\n",
       " 1.0  0.0  0.0  0.0  0.0  0.0  0.0\n",
       " 1.0  0.0  0.0  0.0  0.0  0.0  0.0\n",
       " 0.0  1.0  0.0  0.0  0.0  0.0  0.0\n",
       " 0.0  0.0  0.0  1.0  0.0  0.0  0.0\n",
       " 0.0  0.0  0.0  1.0  0.0  0.0  0.0\n",
       " 0.0  1.0  0.0  0.0  0.0  0.0  0.0\n",
       " 0.0  0.0  0.0  0.0  0.0  0.0  0.0\n",
       " 0.0  0.0  0.0  0.0  0.0  0.0  0.0\n",
       " 0.0  0.0  0.0  0.0  1.0  0.0  0.0\n",
       " 0.0  0.0  0.0  0.0  0.0  0.0  0.0\n",
       " 0.0  0.0  0.0  0.0  0.0  0.0  0.0\n",
       " 0.0  0.0  0.0  0.0  0.0  0.0  0.0"
      ]
     },
     "execution_count": 9,
     "metadata": {},
     "output_type": "execute_result"
    }
   ],
   "source": [
    "m = 250000*ones(12,1)\n",
    "mining(m, false)"
   ]
  },
  {
   "cell_type": "markdown",
   "metadata": {},
   "source": [
    "No exemplo computado, onde o ganho é equivalente em todos os casos, foram explorados no primeiro ano os blocos 1 e 2, no segundo ano os blocos 3 e 6, no terceiro ano os blocos 4 e 5 (observe que o algoritmo pulou a terceira coluna, mas não faz diferença na prática), no quarto ano o bloco 9 e assim é terminado o processo. "
   ]
  },
  {
   "cell_type": "markdown",
   "metadata": {},
   "source": [
    "## Exercício 12 (Seção 1.3)\n",
    "\n",
    "**A 9 × 9 matrix $A$ is partitioned into nine 3 × 3 submatrices $A_1 , ... , A_9$ (of consecutive elements). Certain entries of $A$ contain numbers from the set $\\{1,.., 9\\}$. An example of such a pre-assignment is shown in Figure. A solution to the Sudoku game is an assignment of integers from 1 to 9 to each\n",
    "(unassigned) entry of the matrix such that:**\n",
    "\n",
    "- **each row of A,**\n",
    "- **each column of A,**\n",
    "- **each 3 by 3 submatrix $A_1 , ... , A_9$**\n",
    "\n",
    "**contains every number from $\\{1 , . . . , 9\\}$ exactly once.**\n",
    "\n",
    "**Formulate the problem of checking whether there is a solution to the Sudoku game as an integer feasibility problem (i.e. an IP without an objective function).**"
   ]
  },
  {
   "cell_type": "markdown",
   "metadata": {},
   "source": [
    "![sudoku](sudoku.png)"
   ]
  },
  {
   "cell_type": "markdown",
   "metadata": {},
   "source": [
    "Suponha que recebemos uma matriz $A$ 9 x 9 como na imagem acima, onde $A_{ij} \\in \\{1,..,9\\}$ ou $A_{ij} = 0$ indicando o vazio. Usando a indicação, vamos criar variáveis $x_{ijk}, 1 \\le i,j,k \\le 9$ para indicar\n",
    "\n",
    "$$\n",
    "x_{ijk} = 1, \\text{ se } A_{ij} = k \\text{ e } 0 \\text{ caso contrário.}\n",
    "$$"
   ]
  },
  {
   "cell_type": "markdown",
   "metadata": {},
   "source": [
    "Observe que nesse problema, não estamos procurando maximizar ou minimizar algum objetivo, e sim encontrar uma solução. Por isso dizemos que é um problema de programação inteira de viabilidade. \n",
    "\n",
    "As restrições para esse problema são os seguintes: \n",
    "\n",
    "**0) Restrições dadas a priori**\n",
    "\n",
    "Recebemos uma matriz $A$ com entradas nulas e não nulas. As não nulas são restrições iniciais, isto é, se $A_{ij} = k \\implies x_{ijk} = 1$. "
   ]
  },
  {
   "cell_type": "markdown",
   "metadata": {},
   "source": [
    "**1) Queremos que cada linha tenha exatamente um de cada valor inteiro entre 1 e 9.**\n",
    "\n",
    "A primeira restrição é que para cada linha $i$ e cada valor $k$, só pode haver uma variável com valor 1. Fixando $i$ e $k$, teremos que essa restrição significa que deve existir um único $j$ tal que $A_{ij} = k$.\n",
    "\n",
    "$$\n",
    "\\sum_{j=1}^9 x_{ijk} = 1, \\text{ para todo } i = 1,...,9, k = 1,...,9\n",
    "$$\n",
    "\n",
    "**2) Queremos que cada coluna tenha exatamente um de cada valor inteiro entre 1 e 9.**\n",
    "\n",
    "A segunda restrição é que para cada coluna $j$ e cada valor $k$, só pode haver uma variável com valor 1. Fixando $j$ e $k$, teremos que essa restrição significa que deve existir um único $i$ tal que $A_{ij} = k$.\n",
    "\n",
    "$$\n",
    "\\sum_{j=1}^9 x_{ijk} = 1, \\text{ para todo } i = 1,...,9, k = 1,...,9\n",
    "$$"
   ]
  },
  {
   "cell_type": "markdown",
   "metadata": {},
   "source": [
    "**3) Queremos que cada submatriz tenha exatamente um de cada valor inteiro entre 1 e 9.**\n",
    "\n",
    "Nessa restrição, temos que considerar cada submatriz para cada $k$ fixo. Por exemplo, \n",
    "\n",
    "$$\n",
    "\\sum_{j=1}^3 \\sum_{i=1}^3 x_{ijk} = 1, k = 1,...,9\n",
    "$$\n",
    "\n",
    "Agora isso para cada submatriz! \n",
    "\n",
    "$$\n",
    "\\sum_{j=3c+1}^{3c+3} \\sum_{i=3d+1}^{3d+3} x_{ijk} = 1, k = 1,...,9 \\text{ e também } c, d = 0,1,2  \n",
    "$$\n",
    "\n",
    "**4) Restrição posicional.**\n",
    "\n",
    "Precisamos que cada local tenha exatamente um valor inteiro, isto é, \n",
    "\n",
    "$$\n",
    "\\sum_{k=1}^9 x_{ijk} = 1, ~~ i,j=1,...,9\n",
    "$$"
   ]
  },
  {
   "cell_type": "code",
   "execution_count": 10,
   "metadata": {},
   "outputs": [],
   "source": [
    "# Cria o modelo\n",
    "sudoku = Model(GLPK.Optimizer)\n",
    "\n",
    "n = 9\n",
    "A = [\n",
    "    0 0 5 0 0 0 0 0 3;\n",
    "    0 0 0 0 4 6 0 0 0;\n",
    "    0 0 7 0 0 0 0 0 2;\n",
    "    0 1 0 0 0 3 0 6 9;\n",
    "    0 4 0 6 0 9 0 5 0;\n",
    "    9 8 0 2 0 0 0 7 0;\n",
    "    2 0 0 0 0 0 9 0 0;\n",
    "    0 0 0 8 1 0 0 0 0;\n",
    "    6 0 0 0 0 0 4 0 0;\n",
    "]\n",
    "\n",
    "# Insere as variáveis\n",
    "@variable(sudoku, x[i=1:9,j=1:9,k=1:9], Bin)\n",
    "\n",
    "# Restrições iniciais\n",
    "for i = 1:n\n",
    "    for j = 1:n\n",
    "        k = A[i,j]\n",
    "        if k > 0\n",
    "            @constraint(sudoku, x[i,j,k] == 1)\n",
    "        end\n",
    "    end\n",
    "end"
   ]
  },
  {
   "cell_type": "markdown",
   "metadata": {},
   "source": [
    "Observe que podemos criar uma matriz da forma \n",
    "$$\n",
    "L_{ik} = \\sum_{j=1}^9 x_{ijk} = 1\n",
    "$$"
   ]
  },
  {
   "cell_type": "code",
   "execution_count": 11,
   "metadata": {},
   "outputs": [
    {
     "data": {
      "text/plain": [
       "9×9 Array{Int64,2}:\n",
       " 1  1  1  1  1  1  1  1  1\n",
       " 1  1  1  1  1  1  1  1  1\n",
       " 1  1  1  1  1  1  1  1  1\n",
       " 1  1  1  1  1  1  1  1  1\n",
       " 1  1  1  1  1  1  1  1  1\n",
       " 1  1  1  1  1  1  1  1  1\n",
       " 1  1  1  1  1  1  1  1  1\n",
       " 1  1  1  1  1  1  1  1  1\n",
       " 1  1  1  1  1  1  1  1  1"
      ]
     },
     "execution_count": 11,
     "metadata": {},
     "output_type": "execute_result"
    }
   ],
   "source": [
    "[1 for i=1:n, k=1:n]"
   ]
  },
  {
   "cell_type": "code",
   "execution_count": 12,
   "metadata": {},
   "outputs": [],
   "source": [
    "# Linhas \n",
    "@constraint(sudoku, [sum(x[i,:,k]) for i = 1:n, k = 1:n] .== 1);\n",
    "\n",
    "# Colunas \n",
    "@constraint(sudoku, [sum(x[:,j,k]) for j = 1:n, k = 1:n] .== 1);"
   ]
  },
  {
   "cell_type": "markdown",
   "metadata": {},
   "source": [
    "Para avaliar as submatrizes, vamos definir a matriz $p = 1,...,9$, \n",
    "$$\n",
    "S_{pk} = \\sum_{j=3c+1}^{3c+3} \\sum_{i=3d+1}^{3d+3} x_{ijk} = 1,\n",
    "$$\n",
    "onde $c = (p-1) \\mod 3$ e $d = \\left \\lfloor{(p-1)/3}\\right \\rfloor$. "
   ]
  },
  {
   "cell_type": "code",
   "execution_count": 13,
   "metadata": {},
   "outputs": [],
   "source": [
    "c(p) = p%3\n",
    "d(p) = floor(Int, p/3)\n",
    "S(p,k) = sum(x[3*d(p)+1 : 3*d(p)+3, 3*c(p)+1 : 3*c(p)+3, k])\n",
    " \n",
    "# Submatrizes\n",
    "@constraint(sudoku, [S(p,k) for p=0:8, k=1:9] .== 1)\n",
    "\n",
    "# Número de inteiros em cada local \n",
    "@constraint(sudoku, [sum(x[i,j,:]) for i=1:n, j=1:n] .== 1);"
   ]
  },
  {
   "cell_type": "code",
   "execution_count": 14,
   "metadata": {},
   "outputs": [],
   "source": [
    "optimize!(sudoku)"
   ]
  },
  {
   "cell_type": "code",
   "execution_count": 15,
   "metadata": {},
   "outputs": [
    {
     "data": {
      "text/plain": [
       "9×9 Array{Int64,2}:\n",
       " 4  6  5  7  2  8  1  9  3\n",
       " 1  2  9  3  4  6  7  8  5\n",
       " 8  3  7  1  9  5  6  4  2\n",
       " 5  1  2  4  7  3  8  6  9\n",
       " 7  4  3  6  8  9  2  5  1\n",
       " 9  8  6  2  5  1  3  7  4\n",
       " 2  7  1  5  6  4  9  3  8\n",
       " 3  9  4  8  1  7  5  2  6\n",
       " 6  5  8  9  3  2  4  1  7"
      ]
     },
     "execution_count": 15,
     "metadata": {},
     "output_type": "execute_result"
    }
   ],
   "source": [
    "A_sol = [findfirst(value.(x[i,j,:]) .== 1.) for i=1:9, j=1:9]"
   ]
  },
  {
   "cell_type": "markdown",
   "metadata": {},
   "source": [
    "![sudoku](sudoku.png)"
   ]
  }
 ],
 "metadata": {
  "kernelspec": {
   "display_name": "Julia 1.5.3",
   "language": "julia",
   "name": "julia-1.5"
  },
  "language_info": {
   "file_extension": ".jl",
   "mimetype": "application/julia",
   "name": "julia",
   "version": "1.5.3"
  }
 },
 "nbformat": 4,
 "nbformat_minor": 4
}
