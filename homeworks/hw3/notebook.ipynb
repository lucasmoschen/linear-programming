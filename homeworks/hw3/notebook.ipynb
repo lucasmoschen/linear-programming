{
 "cells": [
  {
   "cell_type": "markdown",
   "metadata": {},
   "source": [
    "# Lista 3\n",
    "---\n",
    "\n",
    "**Livro:** Applied Mathematical Programming - MIT\n",
    "\n",
    "**Capítulo:** Integer Programming\n",
    "\n",
    "**Professor:** Luciano Guimarães de Castro \n",
    "\n",
    "### Lucas Machado Moschen\n",
    "---"
   ]
  },
  {
   "cell_type": "code",
   "execution_count": 1,
   "metadata": {},
   "outputs": [
    {
     "name": "stderr",
     "output_type": "stream",
     "text": [
      "\u001b[32m\u001b[1m  Activating\u001b[22m\u001b[39m environment at `~/Documents/linear-programming/homeworks/Project.toml`\n"
     ]
    }
   ],
   "source": [
    "using Pkg\n",
    "pkg\"add Debugger\"\n",
    "pkg\"activate ../.\"\n",
    "pkg\"instantiate\"\n",
    "using Plots, LinearAlgebra, JuMP, GLPK, Debugger"
   ]
  },
  {
   "cell_type": "markdown",
   "metadata": {},
   "source": [
    "**2. A company wishes to put together an academic ‘‘package’’ for an executive training program. There are five area colleges, each offering courses in the six fields that the program is designed to touch upon.**\n",
    "\n",
    "- **The package consists of 10 courses; each of the six fields must be covered.**\n",
    "\n",
    "- **The tuition (basic charge), assessed when at least one course is taken, at college $i$ is $T_i$ (independent of the number of courses taken).**\n",
    "\n",
    "- **Each college imposes an additional charge (covering course materials, instructional aids, and so forth) for each course, the charge depending on the college and the field of instructions.**\n",
    "\n",
    "**Formulate an integer program that will provide the company with the minimum amount it must spend to meet the requirements of the program.**"
   ]
  },
  {
   "cell_type": "markdown",
   "metadata": {},
   "source": [
    "Inicialmente, vamos definir as variáveis envolvidas. \n",
    "\n",
    "Seja $x_{ij}$ o número de cursos do campo $j \\in \\{1,\\dots,6\\}$ no colégio $i \\in \\{1,\\dots,5\\}$ e $y_i$ uma variável indicadora se a escola $i$ foi utilizada para ter pelo menos um curso. \n",
    "\n",
    "Vamos definir $c_{ij}$ o custo adicional para cada curso que depende do colégio $i \\in \\{1,\\dots,5\\}$ e do campo $j \\in \\{1,\\dots,6\\}$. "
   ]
  },
  {
   "cell_type": "markdown",
   "metadata": {},
   "source": [
    "O custo da mensalidade é dado por  $\\sum_{i=1}^5 y_i T_i$ e o custo adicional dos cursos utilizados será $\\sum_{i=1}^5 \\sum_{j=1}^6 c_{ij} x_{ij}$. Portanto, queremos minimizar \n",
    "\n",
    "$$\n",
    "\\sum_{i=1}^5 y_i T_i + \\sum_{i=1}^5 \\sum_{j=1}^6 c_{ij} x_{ij}\n",
    "$$"
   ]
  },
  {
   "cell_type": "markdown",
   "metadata": {},
   "source": [
    "Vamos às restrições: \n",
    "\n",
    "- Queremos oferecer 10 cursos no total. Portanto, $\\sum_{i=1}^5 \\sum_{j=1}^6 x_{ij} = 10$. \n",
    "\n",
    "- Queremos que cada campo seja coberto em pelo menos um curso, isto é, $\\sum_{i=1}^5 x_{ij} \\ge 1, j = 1,\\dots,6$. \n",
    "\n",
    "- Note que $y_i = 0$ se, e somente se, $x_{ij} = 0$. Portanto, coloco a restrição: $y_i \\le x_{ij} \\le 10y_i$. Assim, $y_i = 0 \\implies x_{ij} = 0$ e $y_i = 1 \\implies 1 \\le x_i \\le 10$, como gostaríamos. "
   ]
  },
  {
   "cell_type": "code",
   "execution_count": 2,
   "metadata": {},
   "outputs": [],
   "source": [
    "function package(c, T, printing)\n",
    "    \n",
    "    model = Model(GLPK.Optimizer);\n",
    "    \n",
    "    @variable(model, x[i=1:5, j=1:6], Int);\n",
    "    @variable(model, y[i=1:5], Bin);\n",
    "    \n",
    "    @objective(model, Min, dot(T,y) + sum(c.*x));\n",
    "    \n",
    "    @constraint(model, sum(x) == 10);\n",
    "    @constraint(model, [sum(x[:,j]) for j=1:6] .>= 1);\n",
    "    for j=1:6\n",
    "        @constraint(model, [x[i,j] for i=1:5] .>= y)\n",
    "        @constraint(model, [x[i,j] for i=1:5] .<= 10*y)\n",
    "    end\n",
    "    \n",
    "    if printing\n",
    "        display(model)\n",
    "    end\n",
    "    \n",
    "    optimize!(model)\n",
    "    \n",
    "    return value.(x), value.(y)\n",
    "end;"
   ]
  },
  {
   "cell_type": "markdown",
   "metadata": {},
   "source": [
    "Com a função definida, podemos fazer experimentos. Para printar o modelo, troque `false` por `true`. "
   ]
  },
  {
   "cell_type": "code",
   "execution_count": 3,
   "metadata": {},
   "outputs": [],
   "source": [
    "c = [ \n",
    "    1 1 1 1 1 1;\n",
    "    1 1 1 1 1 1;\n",
    "    1 1 1 1 1 1;\n",
    "    1 1 1 1 1 1;\n",
    "    1 1 1 1 1 1;\n",
    "];\n",
    "\n",
    "T = [100;100;100;100;100];\n",
    "\n",
    "xx, yy = package(c,T, false);"
   ]
  },
  {
   "cell_type": "markdown",
   "metadata": {},
   "source": [
    "Observe que com todos os custos igualitários, o melhor é escolher uma só faculdade e distribuir os cursos nela de forma que todo campo tenha pelo menos 1 curso oferecido. "
   ]
  },
  {
   "cell_type": "code",
   "execution_count": 4,
   "metadata": {},
   "outputs": [
    {
     "data": {
      "text/plain": [
       "5×6 Matrix{Float64}:\n",
       " 0.0  0.0  0.0  0.0  0.0  0.0\n",
       " 0.0  0.0  0.0  0.0  0.0  0.0\n",
       " 0.0  0.0  0.0  0.0  0.0  0.0\n",
       " 0.0  0.0  0.0  0.0  0.0  0.0\n",
       " 1.0  1.0  1.0  1.0  5.0  1.0"
      ]
     },
     "execution_count": 4,
     "metadata": {},
     "output_type": "execute_result"
    }
   ],
   "source": [
    "xx"
   ]
  },
  {
   "cell_type": "code",
   "execution_count": 5,
   "metadata": {},
   "outputs": [
    {
     "data": {
      "text/plain": [
       "5-element Vector{Float64}:\n",
       " 0.0\n",
       " 0.0\n",
       " 0.0\n",
       " 0.0\n",
       " 1.0"
      ]
     },
     "execution_count": 5,
     "metadata": {},
     "output_type": "execute_result"
    }
   ],
   "source": [
    "yy"
   ]
  },
  {
   "cell_type": "markdown",
   "metadata": {},
   "source": [
    "No experimento seguinte, observe que temos 5 faculdades iguais, mas uma que só cobra por curso. De fato ela acaba sendo a preferida, por que escolher outra faculdade traria gastos de 100 + o número de cursos, enquanto essa, o gasto será 100. "
   ]
  },
  {
   "cell_type": "code",
   "execution_count": 6,
   "metadata": {},
   "outputs": [],
   "source": [
    "c = [ \n",
    "    10 10 10 10 10 10;\n",
    "    1 1 1 1 1 1;\n",
    "    1 1 1 1 1 1;\n",
    "    1 1 1 1 1 1;\n",
    "    1 1 1 1 1 1;\n",
    "];\n",
    "\n",
    "T = [0;100;100;100;100];\n",
    "\n",
    "xx, yy = package(c,T, false);"
   ]
  },
  {
   "cell_type": "code",
   "execution_count": 7,
   "metadata": {},
   "outputs": [
    {
     "data": {
      "text/plain": [
       "5×6 Matrix{Float64}:\n",
       " 1.0  1.0  1.0  5.0  1.0  1.0\n",
       " 0.0  0.0  0.0  0.0  0.0  0.0\n",
       " 0.0  0.0  0.0  0.0  0.0  0.0\n",
       " 0.0  0.0  0.0  0.0  0.0  0.0\n",
       " 0.0  0.0  0.0  0.0  0.0  0.0"
      ]
     },
     "execution_count": 7,
     "metadata": {},
     "output_type": "execute_result"
    }
   ],
   "source": [
    "xx"
   ]
  },
  {
   "cell_type": "markdown",
   "metadata": {},
   "source": [
    "Por fim, vamos verificar se há divisão quando existem dois campos bem diferentes em facultadades diferentes. Note que essa escolha de parâmetros é bem sensível. Diminuindo em uma unidade um dos cursos na faculdade 5, faria automaticamente a troca de universidade. "
   ]
  },
  {
   "cell_type": "code",
   "execution_count": 8,
   "metadata": {},
   "outputs": [
    {
     "data": {
      "text/plain": [
       "5×6 Matrix{Float64}:\n",
       " 1.0  1.0  1.0  1.0  5.0  1.0\n",
       " 0.0  0.0  0.0  0.0  0.0  0.0\n",
       " 0.0  0.0  0.0  0.0  0.0  0.0\n",
       " 0.0  0.0  0.0  0.0  0.0  0.0\n",
       " 0.0  0.0  0.0  0.0  0.0  0.0"
      ]
     },
     "execution_count": 8,
     "metadata": {},
     "output_type": "execute_result"
    }
   ],
   "source": [
    "c = [ \n",
    "    10 1 1  5 1 1;\n",
    "    10 1 1 10 1 1;\n",
    "    10 1 1 10 1 1;\n",
    "    10 1 1 10 1 1;\n",
    "    5  1 1 10 1 1;\n",
    "];\n",
    "\n",
    "T = [50;50;50;50;50];\n",
    "\n",
    "xx, yy = package(c,T, false);\n",
    "\n",
    "xx"
   ]
  },
  {
   "cell_type": "markdown",
   "metadata": {},
   "source": [
    "**5. Consider the problem:**\n",
    "\n",
    "$$\\text{Maximize } z = x_1 + 2x_2, \\text{subject to: } $$\n",
    "\n",
    "$$x_1 + x_2 \\le 8$$\n",
    "$$-x_1 + x_2 \\le 2$$\n",
    "$$x_1 - x_2 \\le 4$$\n",
    "$$x_2 \\ge 0, x_2 \\in \\mathbb{Z}$$\n",
    "$$x_1 = 0, 1, 4, \\text{ or }6.$$\n",
    "\n",
    "**a) Reformulate the problem as an equivalent integer linear program.**\n",
    "\n"
   ]
  },
  {
   "cell_type": "markdown",
   "metadata": {},
   "source": [
    "Vou considerar que a forma padrão de um [Programa Linear Inteiro](https://en.wikipedia.org/wiki/Integer_programming#Canonical_and_standard_form_for_ILPs) é a seguinte:\n",
    "$$\n",
    "\\begin{gather}\n",
    "\\text{max } c^Tx \\\\ \n",
    "\\text{s.a. } Ax \\le b, \\\\\n",
    "x \\ge 0, \\\\\n",
    "x \\in \\mathbb{Z}^n\n",
    "\\end{gather}\n",
    "$$\n",
    "\n",
    "Nesse caso, introduzimos as variáveis binárias $y_0, y_1, y_4, y_6$ em que $y_i = 1 \\iff x_1 = i$. \n",
    "\n",
    "Com isso, se $\\mathcal{I} = \\{0,1,4,6\\}$, podemos restringir que $x_1 = \\sum_{i\\in\\mathcal{I}} y_i i$ e que $\\sum_{i\\in\\mathcal{I}} y_i = 1$. Para transformar uma igualdade em desigualdade, basta considerar as duas desigualdades. Observe que a restrição $0 \\le y_i \\le 1$ já é satisfeita dado que $y_0 + y_1 + y_4 + y_6 = 1$\n",
    "\n",
    "Vamos então, definir o problema de forma geral. Defina $x = (x_1, x_2, y_0, y_1, y_4, y_6)$. "
   ]
  },
  {
   "cell_type": "markdown",
   "metadata": {},
   "source": [
    "Se $c = (1,2,0,0,0,0)$, então queremos maximizar $c^Tx$ sujeito a \n",
    "\n",
    "$$A = \\begin{bmatrix}\n",
    " 1 & 1 & 0 & 0 & 0 & 0 \\\\\n",
    "-1 & 1 & 0 & 0 & 0 & 0 \\\\\n",
    " 1 &-1 & 0 & 0 & 0 & 0 \\\\\n",
    " 1 & 0 & 0 &-1 &-4 &-6 \\\\\n",
    "-1 & 0 & 0 & 1 & 4 & 6 \\\\\n",
    " 0 & 0 & 1 & 1 & 1 & 1 \\\\\n",
    " 0 & 0 &-1 &-1 &-1 &-1 \\\\\n",
    "\\end{bmatrix}\\begin{bmatrix}\n",
    "x_1 \\\\ x_2 \\\\ y_0 \\\\ y_1 \\\\ y_4 \\\\ y_6\n",
    "\\end{bmatrix} \\le b = \\begin{bmatrix}\n",
    "8 \\\\ 2 \\\\ 4 \\\\ 0 \\\\ 0 \\\\ 1 \\\\ -1 \n",
    "\\end{bmatrix}\n",
    "$$\n",
    "\n",
    "E as restrições $x \\ge 0$ e $x \\in \\mathbb{Z}^6$. "
   ]
  },
  {
   "cell_type": "markdown",
   "metadata": {},
   "source": [
    "**b) How would your answer to part (a) change if the objective function were changed to:**\n",
    "\n",
    "$$\\text{Maximize }z = x_1^2 + 2x_2$$\n",
    "\n",
    "Nesse caso basta definir $x_1' = x_1^2$ que pode assumir os valores $0,1,16,36$ (que deve ser incorporado nas desigualdades como explicado no item anterior.  "
   ]
  },
  {
   "cell_type": "code",
   "execution_count": 9,
   "metadata": {},
   "outputs": [],
   "source": [
    "# Definindo parâmetros \n",
    "c = [1 2 0 0 0 0]\n",
    "\n",
    "A = [ 1  1  0  0  0  0;\n",
    "     -1  1  0  0  0  0;\n",
    "      1 -1  0  0  0  0;\n",
    "      1  0  0 -1 -4 -6;\n",
    "     -1  0  0  1  4  6;\n",
    "      0  0  1  1  1  1;\n",
    "      0  0 -1 -1 -1 -1]\n",
    "\n",
    "b = [8;2;4;0;0;1;-1]; "
   ]
  },
  {
   "cell_type": "markdown",
   "metadata": {},
   "source": [
    "Por simplificação vamos usar que $x_3 = y_0, x_4 = y_1, x_5 = y_4, x_6 = y_6$. "
   ]
  },
  {
   "cell_type": "code",
   "execution_count": 10,
   "metadata": {},
   "outputs": [
    {
     "data": {
      "text/latex": [
       "$$ \\begin{alignat*}{1}\\max\\quad & x_{1} + 2 x_{2}\\\\\n",
       "\\text{Subject to} \\quad & x_{1} + x_{2} \\leq 8.0\\\\\n",
       " & -x_{1} + x_{2} \\leq 2.0\\\\\n",
       " & x_{1} - x_{2} \\leq 4.0\\\\\n",
       " & x_{1} - x_{4} - 4 x_{5} - 6 x_{6} \\leq 0.0\\\\\n",
       " & -x_{1} + x_{4} + 4 x_{5} + 6 x_{6} \\leq 0.0\\\\\n",
       " & x_{3} + x_{4} + x_{5} + x_{6} \\leq 1.0\\\\\n",
       " & -x_{3} - x_{4} - x_{5} - x_{6} \\leq -1.0\\\\\n",
       " & x_{1} \\geq 0.0\\\\\n",
       " & x_{2} \\geq 0.0\\\\\n",
       " & x_{3} \\geq 0.0\\\\\n",
       " & x_{4} \\geq 0.0\\\\\n",
       " & x_{5} \\geq 0.0\\\\\n",
       " & x_{6} \\geq 0.0\\\\\n",
       " & x_{1} integer\\\\\n",
       " & x_{2} integer\\\\\n",
       " & x_{3} integer\\\\\n",
       " & x_{4} integer\\\\\n",
       " & x_{5} integer\\\\\n",
       " & x_{6} integer\\\\\n",
       "\\end{alignat*}\n",
       " $$"
      ],
      "text/plain": [
       "A JuMP Model\n",
       "Maximization problem with:\n",
       "Variables: 6\n",
       "Objective function type: AffExpr\n",
       "`AffExpr`-in-`MathOptInterface.LessThan{Float64}`: 7 constraints\n",
       "`VariableRef`-in-`MathOptInterface.GreaterThan{Float64}`: 6 constraints\n",
       "`VariableRef`-in-`MathOptInterface.Integer`: 6 constraints\n",
       "Model mode: AUTOMATIC\n",
       "CachingOptimizer state: EMPTY_OPTIMIZER\n",
       "Solver name: GLPK\n",
       "Names registered in the model: x"
      ]
     },
     "execution_count": 10,
     "metadata": {},
     "output_type": "execute_result"
    }
   ],
   "source": [
    "model5 = Model(GLPK.Optimizer)\n",
    "\n",
    "@variable(model5, x[i=1:6] >= 0, Int)\n",
    "\n",
    "@objective(model5, Max, c ⋅ x)\n",
    "\n",
    "@constraint(model5, A*x .<= b)\n",
    "\n",
    "model5"
   ]
  },
  {
   "cell_type": "code",
   "execution_count": 11,
   "metadata": {},
   "outputs": [
    {
     "data": {
      "text/plain": [
       "6-element Vector{Float64}:\n",
       " 4.0\n",
       " 4.0\n",
       " 0.0\n",
       " 0.0\n",
       " 1.0\n",
       " 0.0"
      ]
     },
     "execution_count": 11,
     "metadata": {},
     "output_type": "execute_result"
    }
   ],
   "source": [
    "optimize!(model5)\n",
    "\n",
    "value.(x)"
   ]
  },
  {
   "cell_type": "markdown",
   "metadata": {},
   "source": [
    "Obtemos que a solução é $x_1 = 4$ e $x_2 = 4$. Observe que $x_5 = y_4 = 1$ como gostaríamos. Podemos visualizar esse exemplo graficamente:\n",
    "\n",
    "![](exer5.png)"
   ]
  },
  {
   "cell_type": "markdown",
   "metadata": {},
   "source": [
    "**11. Solve the following integer program using the branch-and-bound technique:**\n",
    "\n",
    "$$\n",
    "\\begin{align}\n",
    "    \\text{Minimize } &z = 2x_1 - 3x_2 - 4x_3, \\\\\n",
    "    \\text{subject to:}&  \\\\\n",
    "    &-x_1 + x_2+ 3x_3 \\le 8, 3x_1 +2x_2 - x_3 \\le 10, \\\\\n",
    "    &x_1, x_2, x_3 \\ge 0 \\text{ and integer.}\n",
    "\\end{align}\n",
    "$$"
   ]
  },
  {
   "cell_type": "markdown",
   "metadata": {},
   "source": [
    "Para esse problema, a ideia é construir o algoritmo branch-and-bound:"
   ]
  },
  {
   "cell_type": "code",
   "execution_count": 12,
   "metadata": {},
   "outputs": [],
   "source": [
    "function branch_and_bound(model, index_var_integers)\n",
    "    optimize!(model)\n",
    "    xx = yy = zz = value.(x)\n",
    "    obj = obj1 = obj2 = objective_value(model)\n",
    "    print(\"The estimated was: \")\n",
    "    print(xx)\n",
    "    print(\"\\n\")\n",
    "    for i=1:length(index_var_integers)\n",
    "        if ~(floor(xx[i]) == ceil(xx[i]))\n",
    "            enter = 1\n",
    "            model1 = model \n",
    "            @constraint(model1, x[i] <= floor(xx[i]))\n",
    "            yy, obj1 = branch_and_bound(model1, index_var_integers)\n",
    "            model2 = model \n",
    "            @constraint(model2, x[i] >= ceil(xx[i]))\n",
    "            zz, obj2 = branch_and_bound(model2, index_var_integers)\n",
    "        end\n",
    "    end\n",
    "    xx = (obj1 < obj2 ? zz : yy)\n",
    "    obj = (obj1 < obj2 ? obj2 : obj1)\n",
    "    return xx, obj\n",
    "    end;"
   ]
  },
  {
   "cell_type": "markdown",
   "metadata": {},
   "source": [
    "Definimos o modelo sem a restrição de variável inteira. "
   ]
  },
  {
   "cell_type": "code",
   "execution_count": 13,
   "metadata": {},
   "outputs": [
    {
     "data": {
      "text/latex": [
       "$$ \\begin{alignat*}{1}\\max\\quad & -2 x_{1} + 3 x_{2} + 4 x_{3}\\\\\n",
       "\\text{Subject to} \\quad & -x_{1} + x_{2} + 3 x_{3} \\leq 8.0\\\\\n",
       " & 3 x_{1} + 2 x_{2} - x_{3} \\leq 1.0\\\\\n",
       " & x_{1} \\geq 0.0\\\\\n",
       " & x_{2} \\geq 0.0\\\\\n",
       " & x_{3} \\geq 0.0\\\\\n",
       "\\end{alignat*}\n",
       " $$"
      ],
      "text/plain": [
       "A JuMP Model\n",
       "Maximization problem with:\n",
       "Variables: 3\n",
       "Objective function type: AffExpr\n",
       "`AffExpr`-in-`MathOptInterface.LessThan{Float64}`: 2 constraints\n",
       "`VariableRef`-in-`MathOptInterface.GreaterThan{Float64}`: 3 constraints\n",
       "Model mode: AUTOMATIC\n",
       "CachingOptimizer state: EMPTY_OPTIMIZER\n",
       "Solver name: GLPK\n",
       "Names registered in the model: x"
      ]
     },
     "execution_count": 13,
     "metadata": {},
     "output_type": "execute_result"
    }
   ],
   "source": [
    "bb_model = Model(GLPK.Optimizer)\n",
    "\n",
    "@variable(bb_model, x[i=1:3] >= 0);\n",
    "@objective(bb_model, Max, -dot([2 -3 -4], x))\n",
    "@constraint(bb_model, dot([-1 1 3], x) <= 8)\n",
    "@constraint(bb_model, dot([3 2 -1], x) <= 1)\n",
    "bb_model"
   ]
  },
  {
   "cell_type": "code",
   "execution_count": 14,
   "metadata": {},
   "outputs": [
    {
     "name": "stdout",
     "output_type": "stream",
     "text": [
      "The estimated was: [0.0, 1.5714285714285712, 2.142857142857143]\n",
      "The estimated was: [0.0, 1.0, 2.333333333333333]\n",
      "The estimated was: [0.0, 1.0, 2.0]\n",
      "The estimated was: [0.0, 1.0, 2.0]\n",
      "The estimated was: [0.0, 1.0, 2.0]\n",
      "The estimated was: [0.0, 1.0, 2.0]\n",
      "The estimated was: [0.0, 1.0, 2.0]\n"
     ]
    },
    {
     "data": {
      "text/plain": [
       "([0.0, 1.0, 2.0], 11.0)"
      ]
     },
     "execution_count": 14,
     "metadata": {},
     "output_type": "execute_result"
    }
   ],
   "source": [
    "branch_and_bound(bb_model, [1 2 3])"
   ]
  },
  {
   "cell_type": "markdown",
   "metadata": {},
   "source": [
    "Vamos comparar essa solução com o algoritmo do Julia. "
   ]
  },
  {
   "cell_type": "code",
   "execution_count": 15,
   "metadata": {},
   "outputs": [
    {
     "data": {
      "text/plain": [
       "3-element Vector{Float64}:\n",
       " 0.0\n",
       " 1.0\n",
       " 2.0"
      ]
     },
     "execution_count": 15,
     "metadata": {},
     "output_type": "execute_result"
    }
   ],
   "source": [
    "bb_model2 = Model(GLPK.Optimizer)\n",
    "\n",
    "@variable(bb_model2, x[i=1:3] >= 0, Int);\n",
    "@objective(bb_model2, Max, -dot([2 -3 -4], x))\n",
    "@constraint(bb_model2, dot([-1 1 3], x) <= 8)\n",
    "@constraint(bb_model2, dot([3 2 -1], x) <= 1)\n",
    "\n",
    "optimize!(bb_model2)\n",
    "value.(x)"
   ]
  },
  {
   "cell_type": "markdown",
   "metadata": {},
   "source": [
    "As soluções são as mesmas! Então nosso algoritmo acertou!"
   ]
  }
 ],
 "metadata": {
  "kernelspec": {
   "display_name": "Julia 1.6.0",
   "language": "julia",
   "name": "julia-1.6"
  },
  "language_info": {
   "file_extension": ".jl",
   "mimetype": "application/julia",
   "name": "julia",
   "version": "1.6.0"
  }
 },
 "nbformat": 4,
 "nbformat_minor": 4
}
