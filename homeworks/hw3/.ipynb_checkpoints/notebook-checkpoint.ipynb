{
 "cells": [
  {
   "cell_type": "markdown",
   "metadata": {},
   "source": [
    "# Lista 3\n",
    "---\n",
    "\n",
    "**Livro:** Applied Mathematical Programming - MIT\n",
    "\n",
    "**Capítulo:** Integer Programming\n",
    "\n",
    "**Professor:** Luciano Guimarães de Castro \n",
    "\n",
    "### Lucas Machado Moschen\n",
    "---"
   ]
  },
  {
   "cell_type": "code",
   "execution_count": 1,
   "metadata": {},
   "outputs": [
    {
     "name": "stderr",
     "output_type": "stream",
     "text": [
      "\u001b[32m\u001b[1m Activating\u001b[22m\u001b[39m environment at `~/Documents/GitHub/linear-programming/homeworks/Project.toml`\n"
     ]
    }
   ],
   "source": [
    "using Pkg\n",
    "pkg\"activate ../.\"\n",
    "pkg\"instantiate\"\n",
    "using Plots, LinearAlgebra, JuMP, GLPK "
   ]
  },
  {
   "cell_type": "markdown",
   "metadata": {},
   "source": [
    "**5. Consider the problem:**\n",
    "\n",
    "$$\\text{Maximize } z = x_1 + 2x_2, \\text{subject to: } $$\n",
    "\n",
    "$$x_1 + x_2 \\le 8$$\n",
    "$$-x_1 + x_2 \\le 2$$\n",
    "$$x_1 - x_2 \\le 4$$\n",
    "$$x_2 \\ge 0, x_2 \\in \\mathbb{Z}$$\n",
    "$$x_1 = 0, 1, 4, \\text{ or }6.$$\n",
    "\n",
    "**a) Reformulate the problem as an equivalent integer linear program.**\n",
    "\n"
   ]
  },
  {
   "cell_type": "markdown",
   "metadata": {},
   "source": [
    "Vou considerar que a forma padrão de um [Programa Linear Inteiro](https://en.wikipedia.org/wiki/Integer_programming#Canonical_and_standard_form_for_ILPs) é a seguinte:\n",
    "$$\n",
    "\\begin{gather}\n",
    "\\text{max } c^Tx \\\\ \n",
    "\\text{s.a. } Ax \\le b, \\\\\n",
    "x \\ge 0, \\\\\n",
    "x \\in \\mathbb{Z}^n\n",
    "\\end{gather}\n",
    "$$\n",
    "\n",
    "Nesse caso, introduzimos as variáveis binárias $y_0, y_1, y_4, y_6$ em que $y_i = 1 \\iff x_1 = i$. \n",
    "\n",
    "Com isso, se $\\mathcal{I} = \\{0,1,4,6\\}$, podemos restringir que $x_1 = \\sum_{i\\in\\mathcal{I}} y_i i$ e que $\\sum_{i\\in\\mathcal{I}} y_i = 1$. Para transformar uma igualdade em desigualdade, basta considerar as duas desigualdades. Observe que a restrição $0 \\le y_i \\le 1$ já é satisfeita dado que $y_0 + y_1 + y_4 + y_6 = 1$\n",
    "\n",
    "Vamos então, definir o problema de forma geral. Defina $x = (x_1, x_2, y_0, y_1, y_4, y_6)$. "
   ]
  },
  {
   "cell_type": "markdown",
   "metadata": {},
   "source": [
    "Se $c = (1,2,0,0,0,0)$, então queremos maximizar $c^Tx$ sujeito a \n",
    "\n",
    "$$A = \\begin{bmatrix}\n",
    " 1 & 1 & 0 & 0 & 0 & 0 \\\\\n",
    "-1 & 1 & 0 & 0 & 0 & 0 \\\\\n",
    " 1 &-1 & 0 & 0 & 0 & 0 \\\\\n",
    " 1 & 0 & 0 &-1 &-4 &-6 \\\\\n",
    "-1 & 0 & 0 & 1 & 4 & 6 \\\\\n",
    " 0 & 0 & 1 & 1 & 1 & 1 \\\\\n",
    " 0 & 0 &-1 &-1 &-1 &-1 \\\\\n",
    "\\end{bmatrix}\\begin{bmatrix}\n",
    "x_1 \\\\ x_2 \\\\ y_0 \\\\ y_1 \\\\ y_4 \\\\ y_6\n",
    "\\end{bmatrix} \\le b = \\begin{bmatrix}\n",
    "8 \\\\ 2 \\\\ 4 \\\\ 0 \\\\ 0 \\\\ 1 \\\\ -1 \n",
    "\\end{bmatrix}\n",
    "$$\n",
    "\n",
    "E as restrições $x \\ge 0$ e $x \\in \\mathbb{Z}^6$. "
   ]
  },
  {
   "cell_type": "markdown",
   "metadata": {},
   "source": [
    "**b) How would your answer to part (a) change if the objective function were changed to:**\n",
    "\n",
    "$$\\text{Maximize }z = x_1^2 + 2x_2$$\n",
    "\n",
    "Nesse caso basta definir $x_1' = x_1^2$ que pode assumir os valores $0,1,16,36$ (que deve ser incorporado nas desigualdades como explicado no item anterior.  "
   ]
  },
  {
   "cell_type": "code",
   "execution_count": 34,
   "metadata": {},
   "outputs": [],
   "source": [
    "# Definindo parâmetros \n",
    "c = [1 2 0 0 0 0]\n",
    "\n",
    "A = [ 1  1  0  0  0  0;\n",
    "     -1  1  0  0  0  0;\n",
    "      1 -1  0  0  0  0;\n",
    "      1  0  0 -1 -4 -6;\n",
    "     -1  0  0  1  4  6;\n",
    "      0  0  1  1  1  1;\n",
    "      0  0 -1 -1 -1 -1]\n",
    "\n",
    "b = [8;2;4;0;0;1;-1]; "
   ]
  },
  {
   "cell_type": "markdown",
   "metadata": {},
   "source": [
    "Por simplificação vamos usar que $x_3 = y_0, x_4 = y_1, x_5 = y_4, x_6 = y_6$. "
   ]
  },
  {
   "cell_type": "code",
   "execution_count": 36,
   "metadata": {},
   "outputs": [
    {
     "data": {
      "text/latex": [
       "$$ \\begin{alignat*}{1}\\max\\quad & x_{1} + 2 x_{2}\\\\\n",
       "\\text{Subject to} \\quad & x_{1} + x_{2} \\leq 8.0\\\\\n",
       " & -x_{1} + x_{2} \\leq 2.0\\\\\n",
       " & x_{1} - x_{2} \\leq 4.0\\\\\n",
       " & x_{1} - x_{4} - 4 x_{5} - 6 x_{6} \\leq 0.0\\\\\n",
       " & -x_{1} + x_{4} + 4 x_{5} + 6 x_{6} \\leq 0.0\\\\\n",
       " & x_{3} + x_{4} + x_{5} + x_{6} \\leq 1.0\\\\\n",
       " & -x_{3} - x_{4} - x_{5} - x_{6} \\leq -1.0\\\\\n",
       " & x_{1} \\geq 0.0\\\\\n",
       " & x_{2} \\geq 0.0\\\\\n",
       " & x_{3} \\geq 0.0\\\\\n",
       " & x_{4} \\geq 0.0\\\\\n",
       " & x_{5} \\geq 0.0\\\\\n",
       " & x_{6} \\geq 0.0\\\\\n",
       " & x_{1} integer\\\\\n",
       " & x_{2} integer\\\\\n",
       " & x_{3} integer\\\\\n",
       " & x_{4} integer\\\\\n",
       " & x_{5} integer\\\\\n",
       " & x_{6} integer\\\\\n",
       "\\end{alignat*}\n",
       " $$"
      ],
      "text/plain": [
       "A JuMP Model\n",
       "Maximization problem with:\n",
       "Variables: 6\n",
       "Objective function type: GenericAffExpr{Float64,VariableRef}\n",
       "`GenericAffExpr{Float64,VariableRef}`-in-`MathOptInterface.LessThan{Float64}`: 7 constraints\n",
       "`VariableRef`-in-`MathOptInterface.GreaterThan{Float64}`: 6 constraints\n",
       "`VariableRef`-in-`MathOptInterface.Integer`: 6 constraints\n",
       "Model mode: AUTOMATIC\n",
       "CachingOptimizer state: EMPTY_OPTIMIZER\n",
       "Solver name: GLPK\n",
       "Names registered in the model: x"
      ]
     },
     "execution_count": 36,
     "metadata": {},
     "output_type": "execute_result"
    }
   ],
   "source": [
    "model5 = Model(GLPK.Optimizer)\n",
    "\n",
    "@variable(model5, x[i=1:6] >= 0, Int)\n",
    "\n",
    "@objective(model5, Max, c ⋅ x)\n",
    "\n",
    "@constraint(model5, A*x .<= b)\n",
    "\n",
    "model5"
   ]
  },
  {
   "cell_type": "code",
   "execution_count": 37,
   "metadata": {},
   "outputs": [
    {
     "data": {
      "text/plain": [
       "6-element Array{Float64,1}:\n",
       " 4.0\n",
       " 4.0\n",
       " 0.0\n",
       " 0.0\n",
       " 1.0\n",
       " 0.0"
      ]
     },
     "execution_count": 37,
     "metadata": {},
     "output_type": "execute_result"
    }
   ],
   "source": [
    "optimize!(model5)\n",
    "\n",
    "value.(x)"
   ]
  },
  {
   "cell_type": "markdown",
   "metadata": {},
   "source": [
    "Obtemos que a solução é $x_1 = 4$ e $x_2 = 4$. Observe que $x_5 = y_4 = 1$ como gostaríamos. Podemos visualizar esse exemplo graficamente:\n",
    "\n",
    "![](exer5.png)"
   ]
  },
  {
   "cell_type": "markdown",
   "metadata": {},
   "source": []
  }
 ],
 "metadata": {
  "kernelspec": {
   "display_name": "Julia 1.5.3",
   "language": "julia",
   "name": "julia-1.5"
  },
  "language_info": {
   "file_extension": ".jl",
   "mimetype": "application/julia",
   "name": "julia",
   "version": "1.5.3"
  }
 },
 "nbformat": 4,
 "nbformat_minor": 4
}
