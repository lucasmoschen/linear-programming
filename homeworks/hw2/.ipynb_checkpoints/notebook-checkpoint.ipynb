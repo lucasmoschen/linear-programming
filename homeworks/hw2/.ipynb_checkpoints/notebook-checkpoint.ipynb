{
 "cells": [
  {
   "cell_type": "markdown",
   "metadata": {},
   "source": [
    "# Lista 2\n",
    "---\n",
    "\n",
    "**Livro:** Applied Mathematical Programming - MIT\n",
    "\n",
    "**Capítulo:** Network Models\n",
    "\n",
    "**Professor:** Luciano Guimarães de Castro \n",
    "\n",
    "### Lucas Machado Moschen\n",
    "---"
   ]
  },
  {
   "cell_type": "code",
   "execution_count": 1,
   "metadata": {},
   "outputs": [
    {
     "name": "stderr",
     "output_type": "stream",
     "text": [
      "\u001b[32m\u001b[1m Activating\u001b[22m\u001b[39m environment at `~/Documents/GitHub/linear-programming/homeworks/Project.toml`\n",
      "┌ Info: Precompiling Plots [91a5bcdd-55d7-5caf-9e0b-520d859cae80]\n",
      "└ @ Base loading.jl:1278\n",
      "┌ Info: Precompiling JuMP [4076af6c-e467-56ae-b986-b466b2749572]\n",
      "└ @ Base loading.jl:1278\n",
      "┌ Info: Precompiling GLPK [60bf3e95-4087-53dc-ae20-288a0d20c6a6]\n",
      "└ @ Base loading.jl:1278\n"
     ]
    }
   ],
   "source": [
    "using Pkg\n",
    "pkg\"activate ../.\"\n",
    "pkg\"instantiate\"\n",
    "using Plots, LinearAlgebra, JuMP, GLPK "
   ]
  },
  {
   "cell_type": "markdown",
   "metadata": {},
   "source": [
    "**1. A gas company owns a pipeline network, sections of which are used to pump natural gas from its main field to its distribution center. The network is shown below, where the direction of the arrows indicates the only direction in which the gas can be pumped. The pipeline links of the system are numbered one through six, and the intermediate nodes are large pumping stations. At the present time, the company nets 1200 mcf (million cubic feet) of gas per month from its main field and must transport that entire amount to the distribution center. The following are the maximum usage rates and costs associated with each link:**\n",
    "\n",
    "||1|2|3|4|5|6|\n",
    "|-|-|-|-|-|-|-|\n",
    "|Maximum usage|500|900|700|400|600|1000|\n",
    "|Tariff|20|25|10|15|20|40|\n",
    "\n",
    "**The gas company wants to find those usage rates that minimize total cost of transportation.**\n",
    "\n",
    "![](exer1.png)"
   ]
  },
  {
   "cell_type": "markdown",
   "metadata": {},
   "source": [
    "**a) What are the decision variables?**\n",
    "\n",
    "As variáveis de decisão são $x_{ij} = $gás transportado entre o nó $i$ e o nó $j$, onde $x_{12} = \\text{link } 1, x_{13} = \\text{link } 2, x_{24} = \\text{link } 5$. \n",
    "\n",
    "**b) Formulate the problem as a linear program.**\n",
    "\n",
    "Vamos formular como um problema de rede\n",
    "\n",
    "$$\\min 20x_{12} + 25x_{13} + 10x_{23} + 15x_{32} + 20x_{24} + 40x_{34}$$\n",
    "sujeito a \n",
    "\\begin{gather}\n",
    "x_{12} + x_{13} = 1200                \\\\\n",
    "x_{24} + x_{23} - x_{32} - x_{12} = 0 \\\\\n",
    "x_{32} + x_{34} - x_{13} - x_{23} = 0 \\\\\n",
    "-x_{24} -x_{34} = -1200               \\\\\n",
    "0 \\le x_{12} \\le 500 \\\\\n",
    "0 \\le x_{13} \\le 900 \\\\\n",
    "0 \\le x_{23} \\le 700 \\\\\n",
    "0 \\le x_{32} \\le 400 \\\\\n",
    "0 \\le x_{24} \\le 600 \\\\\n",
    "0 \\le x_{34} \\le 1000\n",
    "\\end{gather}\n"
   ]
  },
  {
   "cell_type": "markdown",
   "metadata": {},
   "source": [
    "**c) For the optimal solution, do you expect the dual variable associated with the maximum usage of link 1 to be positive, zero, or negative and why?** \n",
    "\n",
    "Positivo, pois em aumentar em uma unidade do limite superior de $x_{12}$, vamos usar esse espaço adicional para desclocar uma unidade do link 2 para o link 1 e, assim, diminuiremos a função objetivo em 5 unidades. "
   ]
  },
  {
   "cell_type": "markdown",
   "metadata": {},
   "source": [
    "**d) Suppose there were maximum usage rates on the pumping stations; how would your formulation change?**\n",
    "\n",
    "Se houvesse uma taxa de uso máximo nas estações 2 e 3, \n",
    "$$\n",
    "x_{12} + x_{32} \\le M_2\n",
    "$$\n",
    "$$\n",
    "x_{13} + x_{23} \\le M_3\n",
    "$$"
   ]
  },
  {
   "cell_type": "code",
   "execution_count": null,
   "metadata": {},
   "outputs": [],
   "source": []
  },
  {
   "cell_type": "markdown",
   "metadata": {},
   "source": [
    "**3. The National Association of Securities Dealers Automated Quotation Systems (NASDAQ) is a network sys-\n",
    "tem in which quotation information in over-the-counter operations is collected. Users of the system can receive, in a matter of seconds, buy and sell prices and the exact bid and ask price of each market maker that deals in a particular security. There are 1700 terminals in 1000 locations in almost 400 cities. The central processing center is in Trumbull, Conn., with concentration facilities in New York, Atlanta, Chicago, and San Francisco. On this particular day, the market is quiet, so there are only a few terminals being used. The information they have has to be sent to one of the main processing facilities. The following table gives terminals (supply centers), processing facilities (demand centers), and the time that it takes to transfer a message.**\n",
    "\n",
    "|Terminals|Trumbull|N.Y.|Atlanta|Chicago|San Fran.||Supply|\n",
    "|---------|--------|----|-------|-------|---------||------|\n",
    "|Cleveland|6|6|9|4|10||45|\n",
    "|Boston|3|2|7|5|12||90|\n",
    "|Houston|8|7|5|6|4||95|\n",
    "|Los Angeles|11|12|9|5|2||75|\n",
    "|Washington|4|3|4|5|11||105|\n",
    "|||||||\n",
    "|Demand|120|80|50|75|85||"
   ]
  },
  {
   "cell_type": "markdown",
   "metadata": {},
   "source": [
    "**a) Solve, using the minimum matrix method to find an initial feasible solution.**"
   ]
  },
  {
   "cell_type": "markdown",
   "metadata": {},
   "source": [
    "Nesse método, alocamos o quanto possível na variável cujo arco com menor custo. Nesse caso, nossas variáveis são $x_{ij}$ que indicam o número de mensagens enviadas do terminal $i$ à facilidade $j$. Indicaremos a matris $C = [c_{ij}]$, tal que $c_{ij}$ é o tempo para tranferir entre o terminal $i$ e a facilidade $j$. Vamos fazer o programa para esse problema. Quando dois valores são mínimos, tomaremos o primeiro da matriz."
   ]
  },
  {
   "cell_type": "markdown",
   "metadata": {},
   "source": [
    "**b) Are there alternative optimal solutions?**\n",
    "\n",
    "Sim, pois existem valores de tempo iguais, nesse caso, você pode iniciar com outra variável."
   ]
  },
  {
   "cell_type": "code",
   "execution_count": 5,
   "metadata": {},
   "outputs": [],
   "source": [
    "function print_C(C, supply, demand)\n",
    "    D = zeros(size(C).+1)\n",
    "    D[1:size(C)[1],1:size(C)[2]] .= C\n",
    "    D[1:size(supply)[1], end] .= supply \n",
    "    D[end, 1:size(demand)[1]] .= demand\n",
    "    display(D)\n",
    "    display(\"-------------------------------------\")\n",
    "    end;\n",
    "\n",
    "function minimum_matrix_method(C, supply, demand)\n",
    "    C = Float64.(C)\n",
    "    x = zeros(size(C))\n",
    "    # Printing \n",
    "    print_C(C, supply, demand)\n",
    "    # a cada iteração eliminamos linha ou coluna imputando Inf\n",
    "    i,j = Tuple(argmin(C)) \n",
    "    while C[i,j] != Inf\n",
    "        x[i,j] = min(supply[i], demand[j])\n",
    "        supply[i] -= x[i,j]\n",
    "        demand[j] -= x[i,j]\n",
    "        if supply[i] == 0\n",
    "            C[i,:] .= Inf\n",
    "        end\n",
    "        if demand[j] == 0\n",
    "            C[:,j] .= Inf\n",
    "        end\n",
    "        i,j = Tuple(argmin(C))\n",
    "        print_C(C, supply, demand)\n",
    "    end\n",
    "    return x\n",
    "end;"
   ]
  },
  {
   "cell_type": "code",
   "execution_count": 6,
   "metadata": {},
   "outputs": [],
   "source": [
    "C = [6 6 9 4 10; \n",
    "     3 2 7 5 12;\n",
    "     8 7 5 6 4 ;\n",
    "     11 12 9 5 2; \n",
    "     4 3 4 5 11];\n",
    "\n",
    "supply = [45, 90, 95, 75, 105];\n",
    "demand = [120, 80, 50, 75, 85];"
   ]
  },
  {
   "cell_type": "code",
   "execution_count": 7,
   "metadata": {},
   "outputs": [
    {
     "data": {
      "text/plain": [
       "6×6 Array{Float64,2}:\n",
       "   6.0   6.0   9.0   4.0  10.0   45.0\n",
       "   3.0   2.0   7.0   5.0  12.0   90.0\n",
       "   8.0   7.0   5.0   6.0   4.0   95.0\n",
       "  11.0  12.0   9.0   5.0   2.0   75.0\n",
       "   4.0   3.0   4.0   5.0  11.0  105.0\n",
       " 120.0  80.0  50.0  75.0  85.0    0.0"
      ]
     },
     "metadata": {},
     "output_type": "display_data"
    },
    {
     "data": {
      "text/plain": [
       "\"-------------------------------------\""
      ]
     },
     "metadata": {},
     "output_type": "display_data"
    },
    {
     "data": {
      "text/plain": [
       "6×6 Array{Float64,2}:\n",
       "   6.0  Inf    9.0   4.0  10.0   45.0\n",
       "   3.0  Inf    7.0   5.0  12.0   10.0\n",
       "   8.0  Inf    5.0   6.0   4.0   95.0\n",
       "  11.0  Inf    9.0   5.0   2.0   75.0\n",
       "   4.0  Inf    4.0   5.0  11.0  105.0\n",
       " 120.0   0.0  50.0  75.0  85.0    0.0"
      ]
     },
     "metadata": {},
     "output_type": "display_data"
    },
    {
     "data": {
      "text/plain": [
       "\"-------------------------------------\""
      ]
     },
     "metadata": {},
     "output_type": "display_data"
    },
    {
     "data": {
      "text/plain": [
       "6×6 Array{Float64,2}:\n",
       "   6.0  Inf    9.0   4.0  10.0   45.0\n",
       "   3.0  Inf    7.0   5.0  12.0   10.0\n",
       "   8.0  Inf    5.0   6.0   4.0   95.0\n",
       "  Inf   Inf   Inf   Inf   Inf     0.0\n",
       "   4.0  Inf    4.0   5.0  11.0  105.0\n",
       " 120.0   0.0  50.0  75.0  10.0    0.0"
      ]
     },
     "metadata": {},
     "output_type": "display_data"
    },
    {
     "data": {
      "text/plain": [
       "\"-------------------------------------\""
      ]
     },
     "metadata": {},
     "output_type": "display_data"
    },
    {
     "data": {
      "text/plain": [
       "6×6 Array{Float64,2}:\n",
       "   6.0  Inf    9.0   4.0  10.0   45.0\n",
       "  Inf   Inf   Inf   Inf   Inf     0.0\n",
       "   8.0  Inf    5.0   6.0   4.0   95.0\n",
       "  Inf   Inf   Inf   Inf   Inf     0.0\n",
       "   4.0  Inf    4.0   5.0  11.0  105.0\n",
       " 110.0   0.0  50.0  75.0  10.0    0.0"
      ]
     },
     "metadata": {},
     "output_type": "display_data"
    },
    {
     "data": {
      "text/plain": [
       "\"-------------------------------------\""
      ]
     },
     "metadata": {},
     "output_type": "display_data"
    },
    {
     "data": {
      "text/plain": [
       "6×6 Array{Float64,2}:\n",
       "  6.0  Inf    9.0   4.0  10.0  45.0\n",
       " Inf   Inf   Inf   Inf   Inf    0.0\n",
       "  8.0  Inf    5.0   6.0   4.0  95.0\n",
       " Inf   Inf   Inf   Inf   Inf    0.0\n",
       " Inf   Inf   Inf   Inf   Inf    0.0\n",
       "  5.0   0.0  50.0  75.0  10.0   0.0"
      ]
     },
     "metadata": {},
     "output_type": "display_data"
    },
    {
     "data": {
      "text/plain": [
       "\"-------------------------------------\""
      ]
     },
     "metadata": {},
     "output_type": "display_data"
    },
    {
     "data": {
      "text/plain": [
       "6×6 Array{Float64,2}:\n",
       " Inf   Inf   Inf   Inf   Inf    0.0\n",
       " Inf   Inf   Inf   Inf   Inf    0.0\n",
       "  8.0  Inf    5.0   6.0   4.0  95.0\n",
       " Inf   Inf   Inf   Inf   Inf    0.0\n",
       " Inf   Inf   Inf   Inf   Inf    0.0\n",
       "  5.0   0.0  50.0  30.0  10.0   0.0"
      ]
     },
     "metadata": {},
     "output_type": "display_data"
    },
    {
     "data": {
      "text/plain": [
       "\"-------------------------------------\""
      ]
     },
     "metadata": {},
     "output_type": "display_data"
    },
    {
     "data": {
      "text/plain": [
       "6×6 Array{Float64,2}:\n",
       " Inf   Inf   Inf   Inf   Inf    0.0\n",
       " Inf   Inf   Inf   Inf   Inf    0.0\n",
       "  8.0  Inf    5.0   6.0  Inf   85.0\n",
       " Inf   Inf   Inf   Inf   Inf    0.0\n",
       " Inf   Inf   Inf   Inf   Inf    0.0\n",
       "  5.0   0.0  50.0  30.0   0.0   0.0"
      ]
     },
     "metadata": {},
     "output_type": "display_data"
    },
    {
     "data": {
      "text/plain": [
       "\"-------------------------------------\""
      ]
     },
     "metadata": {},
     "output_type": "display_data"
    },
    {
     "data": {
      "text/plain": [
       "6×6 Array{Float64,2}:\n",
       " Inf   Inf   Inf   Inf   Inf    0.0\n",
       " Inf   Inf   Inf   Inf   Inf    0.0\n",
       "  8.0  Inf   Inf    6.0  Inf   35.0\n",
       " Inf   Inf   Inf   Inf   Inf    0.0\n",
       " Inf   Inf   Inf   Inf   Inf    0.0\n",
       "  5.0   0.0   0.0  30.0   0.0   0.0"
      ]
     },
     "metadata": {},
     "output_type": "display_data"
    },
    {
     "data": {
      "text/plain": [
       "\"-------------------------------------\""
      ]
     },
     "metadata": {},
     "output_type": "display_data"
    },
    {
     "data": {
      "text/plain": [
       "6×6 Array{Float64,2}:\n",
       " Inf   Inf   Inf   Inf   Inf   0.0\n",
       " Inf   Inf   Inf   Inf   Inf   0.0\n",
       "  8.0  Inf   Inf   Inf   Inf   5.0\n",
       " Inf   Inf   Inf   Inf   Inf   0.0\n",
       " Inf   Inf   Inf   Inf   Inf   0.0\n",
       "  5.0   0.0   0.0   0.0   0.0  0.0"
      ]
     },
     "metadata": {},
     "output_type": "display_data"
    },
    {
     "data": {
      "text/plain": [
       "\"-------------------------------------\""
      ]
     },
     "metadata": {},
     "output_type": "display_data"
    },
    {
     "data": {
      "text/plain": [
       "6×6 Array{Float64,2}:\n",
       " Inf   Inf   Inf   Inf   Inf   0.0\n",
       " Inf   Inf   Inf   Inf   Inf   0.0\n",
       " Inf   Inf   Inf   Inf   Inf   0.0\n",
       " Inf   Inf   Inf   Inf   Inf   0.0\n",
       " Inf   Inf   Inf   Inf   Inf   0.0\n",
       "  0.0   0.0   0.0   0.0   0.0  0.0"
      ]
     },
     "metadata": {},
     "output_type": "display_data"
    },
    {
     "data": {
      "text/plain": [
       "\"-------------------------------------\""
      ]
     },
     "metadata": {},
     "output_type": "display_data"
    },
    {
     "data": {
      "text/plain": [
       "5×5 Array{Float64,2}:\n",
       "   0.0   0.0   0.0  45.0   0.0\n",
       "  10.0  80.0   0.0   0.0   0.0\n",
       "   5.0   0.0  50.0  30.0  10.0\n",
       "   0.0   0.0   0.0   0.0  75.0\n",
       " 105.0   0.0   0.0   0.0   0.0"
      ]
     },
     "execution_count": 7,
     "metadata": {},
     "output_type": "execute_result"
    }
   ],
   "source": [
    "x = minimum_matrix_method(C, supply, demand)"
   ]
  },
  {
   "cell_type": "markdown",
   "metadata": {},
   "source": [
    "**6. (THE CATETER PROBLEM) The Egserk Catering Company manages a moderate-sized luncheon cafeteria featuring prompt service, delectable cuisine, and luxurious surroundings. The desired atmosphere requires fresh linen napkins, which must be available at the start of each day. The supply of 350 is adequate to permit complete dependence upon the normal laundry.**\n",
    "\n",
    "|Laundry|Time|Cost per napkin|\n",
    "|-------|----|---------------|\n",
    "|Normal|full day|1.5|\n",
    "|Rapid|overnight|2.5|\n",
    "\n",
    "**The additional usage resulting from a three-day seminar to begin tomorrow poses a problem.**\n",
    "\n",
    "|Day|1|2|3|\n",
    "|---|-|-|-|\n",
    "|Demand at start of each day|300|325|275|\n",
    "\n",
    "**It's midafternoon and there are 175 fresh napkings and 175 soiled ready to be sent to the laundry. It is against the health code to have dirty napkins linger overnight. All soiled napkins on the third day can be sent to normal laundry.**\n",
    "\n",
    "**The caterer wants to plan for the napkin laundering so as to minimize total cost, subject to meeting all his fresh napkin requirements and complying with the health code.**"
   ]
  },
  {
   "cell_type": "markdown",
   "metadata": {},
   "source": [
    "**a) What are the decision variables?**\n",
    "\n",
    "Observe que se mandarmos guardanapos na lavanderia normal, apenas poderemos usá-los daqui 2 dias, enquanto na lavanderia normal no dia seguinte eles já estarão prontos. Pensando nisso, definimos as variáveis\n",
    "\n",
    "$$\n",
    "x_{ij} = \\text{quantidade de guardanapos enviados no dia } i \\in \\{0,1,2\\} \\text{ para a lavanderia } j \\in \\{N,R\\}\n",
    "$$\n",
    "\n",
    "No terceiro dia, enviaremos todos para a lavanderia normal e, portanto, não é variável de interesse. "
   ]
  },
  {
   "cell_type": "markdown",
   "metadata": {},
   "source": [
    "**b) Formulate the problem as a linear program.**\n",
    "\n",
    "Queremos minimizar a função \n",
    "$$1.5\\sum_{i=0}^2 x_{iN} + 2.5\\sum_{i=0}^2 x_{iR}$$ "
   ]
  },
  {
   "cell_type": "markdown",
   "metadata": {},
   "source": [
    "Observe que no dia 0 temos que enviar 175 guardanapos para limpar e, portanto, \n",
    "\n",
    "$$\n",
    "x_{0N} + x_{0R} = 175\n",
    "$$\n",
    "\n",
    "Mas também precisamos de 300 - 175 = 125 guardanapos para o dia seguinte, logo \n",
    "\n",
    "$$\n",
    "x_{0R} \\ge 125\n",
    "$$\n",
    "\n",
    "Para o dia 2 já temos 50 guardanapos limpos e 300 prontos para serem limpos, logo \n",
    "\n",
    "$$\n",
    "x_{1N} + x_{1R} = 300 \\text{ e }\n",
    "$$\n",
    "$$\n",
    "x_{1R} \\ge 325 - 50 = 275\n",
    "$$\n",
    "\n",
    "Para o dia 3 já temos 25 guardanapos limpos e 325 prontoos para serem limpos\n",
    "\n",
    "$$\n",
    "x_{2N} + x_{2R} = 325 \\text{ e }\n",
    "$$\n",
    "$$\n",
    "x_{2R} \\ge 275 - 25 = 250\n",
    "$$\n",
    "\n",
    "Por fim $x_{ij} \\ge 0$. "
   ]
  },
  {
   "cell_type": "markdown",
   "metadata": {},
   "source": [
    "**c) Interpret the resulting model as a network-flow problem. Draw the corresponding network diagram.**\n",
    "\n",
    "Agora vamos modelar esse problema como um de rede. Para isso vamos ter 8 vértices divididos em 2 grupos, aqueles representando a quantidade de guardanapos limpos no começo do dia $i$ e aqueles representando a quantidade de guardanapos sujos no fim do dia $i$. \n",
    "\n",
    "![](exer6.png)"
   ]
  },
  {
   "cell_type": "markdown",
   "metadata": {},
   "source": [
    "Em formato de rede temos aparentemente 8 variáveis desconhecidas, 2 a mais do que na formulação anterior. Todavia duas delas não são úteis ao problema. Ao determinar a quantidade de guardanapos sujos no dia 0 enviados para a lavanderia rápida, já determinamos o quanto sobrará no dia 1 de limpos, pois em cada vértice a soma do fluxo é 0 (com excessão do primeiro e último vértices). "
   ]
  },
  {
   "cell_type": "markdown",
   "metadata": {},
   "source": [
    "**d) For the optimal solution, do you expect the dual variable associated with tomorrow’s requirement of 300 to be positive, zero, or negative, and why?**"
   ]
  },
  {
   "cell_type": "markdown",
   "metadata": {},
   "source": [
    "**e) Suppose you could hold over dirty napkins at no charge; how would your formulation change?**\n",
    "\n",
    "Nesse caso bastaria conectar os nós de guardanapos sujos. Por exemplo, se no dia 0 não fosse necessário lavar os 175 guardanapos, você poderia, por exemplo, lavar 125 na lavanderia rápida e deixar 50 sujos até o dia 1. Assim a aresta entre os nós 0 e 1 teria valor 50. Por fim, o valor enviado no vértice 3 sujo para o vértice End ficaria livre e seria a soma de 275 com os sujos do dia 2 que não forem limpos.  "
   ]
  },
  {
   "cell_type": "code",
   "execution_count": null,
   "metadata": {},
   "outputs": [],
   "source": []
  }
 ],
 "metadata": {
  "kernelspec": {
   "display_name": "Julia 1.5.3",
   "language": "julia",
   "name": "julia-1.5"
  },
  "language_info": {
   "file_extension": ".jl",
   "mimetype": "application/julia",
   "name": "julia",
   "version": "1.5.3"
  }
 },
 "nbformat": 4,
 "nbformat_minor": 4
}
