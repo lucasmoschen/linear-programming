{
 "cells": [
  {
   "cell_type": "markdown",
   "metadata": {},
   "source": [
    "# Lista 1 \n",
    "---\n",
    "\n",
    "**Livro:** A Gentle Introduction to Optimization\n",
    "\n",
    "**Capítulo:** Introduction \n",
    "\n",
    "**Professor:** Luciano Guimarães de Castro \n",
    "\n",
    "### Lucas Machado Moschen\n",
    "---"
   ]
  },
  {
   "cell_type": "code",
   "execution_count": 1,
   "metadata": {},
   "outputs": [
    {
     "name": "stderr",
     "output_type": "stream",
     "text": [
      "\u001b[32m\u001b[1m Activating\u001b[22m\u001b[39m environment at `~/OneDrive/FGV/7 Período/Programação Linear/Project.toml`\n"
     ]
    }
   ],
   "source": [
    "using Pkg\n",
    "pkg\"activate ../.\"\n",
    "pkg\"instantiate\""
   ]
  },
  {
   "cell_type": "code",
   "execution_count": 2,
   "metadata": {},
   "outputs": [
    {
     "name": "stderr",
     "output_type": "stream",
     "text": [
      "\u001b[32m\u001b[1m   Updating\u001b[22m\u001b[39m registry at `~/.julia/registries/General`\n"
     ]
    },
    {
     "name": "stdout",
     "output_type": "stream",
     "text": [
      "\u001b[?25l    "
     ]
    },
    {
     "name": "stderr",
     "output_type": "stream",
     "text": [
      "\u001b[32m\u001b[1m   Updating\u001b[22m\u001b[39m git-repo `https://github.com/JuliaRegistries/General.git`\n"
     ]
    },
    {
     "name": "stdout",
     "output_type": "stream",
     "text": [
      "\u001b[2K\u001b[?25h[1mFetching:\u001b[22m\u001b[39m [========================================>]  100.0 %=========>                              ]  23.2 %\u001b[36m\u001b[1mFetching:\u001b[22m\u001b[39m [===============>                         ]  36.4 %                ]  59.4 % ]  97.3 %"
     ]
    },
    {
     "name": "stderr",
     "output_type": "stream",
     "text": [
      "\u001b[32m\u001b[1m  Resolving\u001b[22m\u001b[39m package versions...\n",
      "\u001b[32m\u001b[1mNo Changes\u001b[22m\u001b[39m to `~/OneDrive/FGV/7 Período/Programação Linear/Project.toml`\n",
      "\u001b[32m\u001b[1mNo Changes\u001b[22m\u001b[39m to `~/OneDrive/FGV/7 Período/Programação Linear/Manifest.toml`\n"
     ]
    }
   ],
   "source": [
    "pkg\"add JuMP GLPK\"\n",
    "using Plots, LinearAlgebra, JuMP, GLPK "
   ]
  },
  {
   "cell_type": "markdown",
   "metadata": {},
   "source": [
    "## Exercício 1 (Seção 1.2)"
   ]
  },
  {
   "cell_type": "markdown",
   "metadata": {},
   "source": [
    "**Consider the following table indicating the nutritional value of different food types:**\n",
    "\n",
    "|Foods|Price ($) p/ s|Calories p/ s|Fat (g) p/ s|Protein (g) p/ s|Carbohydrate (g) p/ s|\n",
    "|-----|---------------|--------------|-------------|-----------------|----------------------|\n",
    "|Raw carrots|0.14|23|0.1|0.6|6|\n",
    "|Baked potatoes|0.12|171|0.2|3.7|30|\n",
    "|Wheat bread|0.2|65|0|2.2|13|\n",
    "|Cheddar cheese|0.75|112|9.3|7|0|\n",
    "|Peanut butter|0.15|188|16|7.7|2|\n",
    "|p/ s: per serving|\n",
    "\n",
    "**You need to decide how many servings of each food to buy each day so that you minimize the total cost of buying your food while satisfying the following daily nutritional requirements:**\n",
    "\n",
    "- calories must be at least 2000,\n",
    "- fat must be at least 50g,\n",
    "- protein must be at least 100g,\n",
    "- carbohydrates must be at least 250g.\n",
    "\n",
    "**Write an LP that will help you decide how many servings of each of the aforementioned foods are needed to meet all the nutritional requirement, while minimizing the total cost of the food (you may buy  fractional numbers of servings).**"
   ]
  },
  {
   "cell_type": "markdown",
   "metadata": {},
   "source": [
    "Primeiro vamos denotar as variáveis:\n",
    "\n",
    "$$\n",
    "x_i = \\text{ quantidade de porções do alimento na linha } i, i=1,...,5\n",
    "$$\n",
    "\n",
    "Nosso funcional objetivo é minimizar o custo de comprar a comida, isto é,\n",
    " \n",
    "$$\n",
    "0.14x_1 + 0.12x_2 + 0.2x_3 + 0.75x_4 + 0.15x_5\n",
    "$$\n",
    "\n",
    "seguindo as restrições nutricionais \n",
    "\n",
    "$$\n",
    "23x_1 + 171x_2 + 65x_3 + 112x_4 + 188x_5 \\ge 2000\n",
    "$$\n",
    "$$\n",
    "0.1x_1 + 0.2x_2 + 9.3x_4 + 16x_5 \\ge 50\n",
    "$$\n",
    "$$\n",
    "0.6x_1 + 3.7x_2 + 2.2x_3 + 7x_4 + 7.7x_5 \\ge 100\n",
    "$$\n",
    "$$\n",
    "6x_1 + 30x_2 + 13x_3 + 2x_5 \\ge 250\n",
    "$$\n",
    "\n",
    "E as restrições físicas \n",
    "\n",
    "$$x_1, ..., x_4 \\ge 0$$"
   ]
  },
  {
   "cell_type": "code",
   "execution_count": 3,
   "metadata": {},
   "outputs": [
    {
     "name": "stdout",
     "output_type": "stream",
     "text": [
      "Min 0.14 x1 + 0.12 x2 + 0.2 x3 + 0.75 x4 + 0.15 x5\n",
      "Subject to\n",
      " 23 x1 + 171 x2 + 65 x3 + 112 x4 + 188 x5 ≥ 2000.0\n",
      " 0.1 x1 + 0.2 x2 + 9.3 x4 + 16 x5 ≥ 50.0\n",
      " 0.6 x1 + 3.7 x2 + 2.2 x3 + 7 x4 + 7.7 x5 ≥ 100.0\n",
      " 6 x1 + 30 x2 + 13 x3 + 2 x5 ≥ 250.0\n",
      " x1 ≥ 0.0\n",
      " x2 ≥ 0.0\n",
      " x3 ≥ 0.0\n",
      " x4 ≥ 0.0\n",
      " x5 ≥ 0.0\n"
     ]
    }
   ],
   "source": [
    "# Cria o modelo\n",
    "food = Model(GLPK.Optimizer)\n",
    "\n",
    "# Insere as variáveis\n",
    "@variable(food, x1 >= 0)\n",
    "@variable(food, x2 >= 0)\n",
    "@variable(food, x3 >= 0)\n",
    "@variable(food, x4 >= 0)\n",
    "@variable(food, x5 >= 0)\n",
    "\n",
    "# Restrições\n",
    "@constraint(food, 23x1 + 171x2 + 65x3 + 112x4 + 188x5 >= 2000)\n",
    "@constraint(food, 0.1x1 + 0.2x2 + 9.3x4 + 16x5 >= 50)\n",
    "@constraint(food, 0.6x1 + 3.7x2 + 2.2x3 + 7x4 + 7.7x5 >= 100)\n",
    "@constraint(food, 6x1 + 30x2 + 13x3 + 2x5 >= 250)\n",
    "\n",
    "# Objetivo \n",
    "@objective(food, Min, 0.14x1 + 0.12x2 + 0.2x3 + 0.75x4 + 0.15x5)\n",
    "\n",
    "print(food)"
   ]
  },
  {
   "cell_type": "code",
   "execution_count": 4,
   "metadata": {},
   "outputs": [
    {
     "name": "stdout",
     "output_type": "stream",
     "text": [
      "Você deveria comer 0.0 porções de cenoura crua\n",
      "Você deveria comer 7.714669051878354 porções de batata assada\n",
      "Você deveria comer 0.0 porções de pão de trigo\n",
      "Você deveria comer 0.0 porções de queijo cheddar\n",
      "Você deveria comer 9.279964221824686 porções de manteira de amendoim\n",
      "\n",
      "Assim o seu custo total será de $2.317754919499105\n"
     ]
    }
   ],
   "source": [
    "# Chamada do Solver\n",
    "optimize!(food)\n",
    "\n",
    "#Declarar solução\n",
    "vx1 = value(x1)\n",
    "vx2 = value(x2)\n",
    "vx3 = value(x3)\n",
    "vx4 = value(x4)\n",
    "vx5 = value(x5)\n",
    "\n",
    "obj = objective_value(food)\n",
    "\n",
    "println(\"Você deveria comer $vx1 porções de cenoura crua\")\n",
    "\n",
    "println(\"Você deveria comer $vx2 porções de batata assada\")\n",
    "\n",
    "println(\"Você deveria comer $vx3 porções de pão de trigo\")\n",
    "\n",
    "println(\"Você deveria comer $vx4 porções de queijo cheddar\")\n",
    "\n",
    "println(\"Você deveria comer $vx5 porções de manteira de amendoim\")\n",
    "\n",
    "println(\"\\nAssim o seu custo total será de \\$$obj\")\n"
   ]
  },
  {
   "cell_type": "markdown",
   "metadata": {},
   "source": [
    "## Exercício 6 (Seção 1.2)\n",
    "\n",
    "**We are given an $m$ by $n$ matrix $A$ and a vector $b$ in system $Ax = b$ has no solution. We are interested in finding a vector $x \\in \\mathbb{R}^n$ that \"comes close\" to solving the system. Namely, we want to find an $x \\in \\mathbb{R}^n$ whose deviation is minimum, and where the deviation of $x$ is defined to be**\n",
    "$$\n",
    "\\sum_{i=1}^m |b_i - \\sum_{j=1}^n a_{ij}x_j|\n",
    "$$\n",
    "\n",
    "**(a) Show that a solution to the optimization problem**\n",
    "$$\n",
    "\\begin{gather}\n",
    "\\text{minimize} \\sum_{i=1}^m y_i \\\\\n",
    "\\text{subject to} \\left|\\sum_{j=1}^n a_{ij}x_j - b_i\\right| \\le y_i, i = 1,...,m\n",
    "\\end{gather}\n",
    "$$\n",
    "**will give a vector x of minimum deviation.**"
   ]
  },
  {
   "cell_type": "markdown",
   "metadata": {},
   "source": [
    "Sejam $x^* = (x_1^*, ..., x_n^*)$ e $y^* = (y_1^*, ..., y_m^*)$ solução do problema de otimização acima. Tome $x \\in \\mathbb{R}^n$ diferente de $x^*$ e suponha $x$ tem de desvio menor do que $x^*$. Defina $y_i = |\\sum_{j=1}^n a_{ij}x_j - b_i|, i = 1,...,m$ e, então,  \n",
    "\n",
    "$$\n",
    "\\sum_{i=1}^m y_i = \\sum_{i=1}^m \\left|\\sum_{j=1}^n a_{ij}x_j - b_i\\right| < \\sum_{i=1}^m \\left|\\sum_{j=1}^n a_{ij}x_j^* - b_i\\right| \\le \\sum_{i=1}^m y_i^*\n",
    "$$\n",
    "\n",
    "Em particular, $x, y$ formam uma solução para o problema acima, o que é um absurdo, pois $y^*$ é o minimizador. Portanto a solução desse problema dá $x^*$ que tem desvio mínimo. "
   ]
  },
  {
   "cell_type": "markdown",
   "metadata": {},
   "source": [
    "**(b) The problem of part (a) is not an LP. (Why?) Show that it can be formulated as an LP.**\n",
    "\n",
    "O problema não é LP, pois as restrições não são lineares dado que o módulo não é uma função linear. A fim de formular esse problema como um LP, poderíamos tranformar o módulo em duas restrições, $1 \\le i \\le m$\n",
    "\n",
    "$$\n",
    "\\sum_{j=1}^n a_{ij}x_j - b_i \\le y_i \\text{ e } b_i - \\sum_{j=1}^n a_{ij}x_j \\le y_i\n",
    "$$"
   ]
  },
  {
   "cell_type": "markdown",
   "metadata": {},
   "source": [
    "**(c) Suppose that we had instead defined the deviation of x as**\n",
    "$$\n",
    "\\max_{1 \\le i \\le m} |b_i - \\sum_{i=1} a_{ij}x_j|\n",
    "$$\n",
    "**With this new definition, write the problem of finding a vector of minimum deviation as an optimization\n",
    "problem, and show that this problem can also be formulated as an LP.**"
   ]
  },
  {
   "cell_type": "markdown",
   "metadata": {},
   "source": [
    "Considere o problema\n",
    "\n",
    "$$\n",
    "\\begin{gather}\n",
    "\\text{minimize } y \\\\\n",
    "\\text{subject to} \\left|\\sum_{j=1}^n a_{ij}x_j - b_i\\right| \\le y, i = 1,...,m\n",
    "\\end{gather}\n",
    "$$\n",
    "\n",
    "Usando um argumento similar ao utilizado em (a), seja $(x^*, y^*)$ solução para esse problema e $x \\neq x^*$ com desvio menor segundo essa métrica. Defina $y = \\max_{1 \\le i \\le m} |b_i - \\sum_{i=1}^n a_{ij}x_j|$ e teremos que: \n",
    "\n",
    "$$\n",
    "y = \\max_{1 \\le i \\le m} |b_i - \\sum_{i=1}^n a_{ij}x_j| < \\max_{1 \\le i \\le m} |b_i - \\sum_{i=1}^n a_{ij}x_j^*| \\le y^*\n",
    "$$\n",
    "\n",
    "o que é claramente um absurdo. Além disso, esse problema pode ser formulado como LP alterando a restrição para que, $1 \\le i \\le m$\n",
    "$$\n",
    "\\sum_{j=1}^n a_{ij}x_j - b_i \\le y \\text{ e } b_i - \\sum_{j=1}^n a_{ij}x_j \\le y\n",
    "$$"
   ]
  },
  {
   "cell_type": "markdown",
   "metadata": {},
   "source": [
    "## Exercício 7 (Seção 1.2)\n",
    "\n",
    "**Considere a seguinte configuração: temos fábricas de $1$ a $m$ e lojas de $1$ a $n$. Cada fábrica $i$ produz $u_i$ unidades de uma mercadoria e cada loja $j$ requer $l_j$ unidades dessa mercadoria. Observe que cada fábrica produz a mesma mercadoria e cada loja requer a mesma mercadoria. O objetivo é transferir a commodity das fábricas para as lojas. Todas as mercadorias que vão das fábricas para as lojas são primeiro enviadas para um dos dois centros de armazenamento centrais $A$ e $B$. O custo de transporte de uma unidade de mercadoria da fábrica $i$ para o centro $A$ (resp. $B$) é dado por $a_i$ (resp. $b_i$). O custo de transporte de uma unidade de mercadoria do hub $A$ (resp. $B$) para a loja $j$ é dado por $a_j'$) (resp. $b_j'$).**\n",
    "\n",
    "**O problema é decidir quanto enviar de cada fábrica para cada hub e quanto enviar de cada hub para cada loja de modo que cada loja receba a quantidade de mercadoria de que necessita, nenhuma fábrica envia mais mercadoria do que produz, e de forma que o total o custo de transporte é minimizado. Formule esse problema como um LP (podemos supor que o número de unidades da mercadoria enviada pode ser fracionário).**"
   ]
  },
  {
   "cell_type": "markdown",
   "metadata": {},
   "source": [
    "![](factory-store.png)"
   ]
  },
  {
   "cell_type": "markdown",
   "metadata": {},
   "source": [
    "*Variáveis:* Seja $x^A_i$ e $x^B_i$ a quantidade de commodity enviada para os hubs A e B pela fábrica $i$, respectivamente, onde $i=1,...,m$. Seja $y^A_j$ e $y^B_j$ a quantidade que a loja $j$ recebe dos hubs $A$ e $B$, respectivamente, onde $j=1,...,n$.\n",
    "\n",
    "*Função objetivo:* Queremos minimizar o custo do transporte. Sabemos que $a_i x^A_i$ é o custo de enviar as comodities da indústria $i$ para o hub $A$ e que $b_i x^B_i$ é o custo para enviar para o hub $B$. O mesmo vale para as lojas. Assim, queremos minimizar: \n",
    "\n",
    "$$\n",
    "\\sum_{i=1}^m a_i x^A_i + b_i x^B_i + \\sum_{j=1}^n a_j' y^A_j + b_j' y^B_j\n",
    "$$"
   ]
  },
  {
   "cell_type": "markdown",
   "metadata": {},
   "source": [
    "*Restrições:* Temos que a indústria $i$ pode produzir no máximo $u_i$, portanto, para $i=1,...,n$,\n",
    "\n",
    "$$\n",
    "x^A_i + x^B_i \\le u_i\n",
    "$$\n",
    "\n",
    "Além disso, cada loja deve receber a quantidade que necessita, assim , para $j=1,...,m$,\n",
    "\n",
    "$$\n",
    "y^A_j + y^B_j \\ge l_j\n",
    "$$\n",
    "\n",
    "Temos a restrição que a quantidade que chega no hub $A$ ou $B$ deve ser a quantidade que sai de lá, isto é, \n",
    "$$\n",
    "\\sum_{i=1}^m x^A_i = \\sum_{j=1}^n y^A_i\n",
    "$$\n",
    "$$\n",
    "\\sum_{i=1}^m x^B_i = \\sum_{j=1}^n y^B_i\n",
    "$$\n",
    "\n",
    "Além disso temos as restrições $x^A_i, x^B_i \\ge 0$ e $y^A_j, y^B_j \\ge 0$.  \n",
    "\n",
    "Considere $m = 3$ e $n = 4$ como na figura. "
   ]
  },
  {
   "cell_type": "code",
   "execution_count": 5,
   "metadata": {},
   "outputs": [
    {
     "data": {
      "text/plain": [
       "transport (generic function with 2 methods)"
      ]
     },
     "execution_count": 5,
     "metadata": {},
     "output_type": "execute_result"
    }
   ],
   "source": [
    "function transport(m, n, cost_to, cost_from, u, l, print_model=true)\n",
    "    \n",
    "    model = Model(GLPK.Optimizer)\n",
    "    \n",
    "    # Variáveis\n",
    "    @variable(model, x[i=1:m,k=1:2] >= 0);\n",
    "    @variable(model, y[i=1:n,k=1:2] >= 0);\n",
    "    \n",
    "    # Função objetivo\n",
    "    @objective(model, Min, sum(cost_to .* x) + sum(cost_from .* y));\n",
    "\n",
    "    # Restrições\n",
    "    @constraint(model, [sum(x[i,:]) for i = 1:m] .<= u)\n",
    "    @constraint(model, [sum(y[j,:]) for j = 1:n] .>= l)\n",
    "\n",
    "    @constraint(model, sum(x[:,1]) == sum(y[:,1]))\n",
    "    @constraint(model, sum(x[:,2]) == sum(y[:,2]))\n",
    "    \n",
    "    if print_model == true\n",
    "        print(model)\n",
    "    end\n",
    "    \n",
    "    # Otimizador GLPK\n",
    "    print(\"\\nOtimizando!\\n\")\n",
    "    optimize!(model)\n",
    "    \n",
    "    print(\"\\nA quantidade enviada das fábricas\\n\\n\")\n",
    "    print(value.(x))\n",
    "    print(\"\\n\\nA quantidade recebida pelas fábricas\\n\\n\")\n",
    "    print(value.(y))\n",
    "end"
   ]
  },
  {
   "cell_type": "code",
   "execution_count": 6,
   "metadata": {},
   "outputs": [
    {
     "name": "stdout",
     "output_type": "stream",
     "text": [
      "Min x[1,1] + x[2,1] + x[3,1] + x[1,2] + x[2,2] + x[3,2] + y[1,1] + y[2,1] + y[3,1] + y[4,1] + y[1,2] + y[2,2]\n",
      "Subject to\n",
      " x[1,1] + x[2,1] + x[3,1] - y[1,1] - y[2,1] - y[3,1] - y[4,1] = 0.0\n",
      " x[1,2] + x[2,2] + x[3,2] - y[1,2] - y[2,2] - y[3,2] - y[4,2] = 0.0\n",
      " y[1,1] + y[1,2] ≥ 20.0\n",
      " y[2,1] + y[2,2] ≥ 15.0\n",
      " y[3,1] + y[3,2] ≥ 10.0\n",
      " y[4,1] + y[4,2] ≥ 5.0\n",
      " x[1,1] + x[1,2] ≤ 20.0\n",
      " x[2,1] + x[2,2] ≤ 20.0\n",
      " x[3,1] + x[3,2] ≤ 20.0\n",
      " x[1,1] ≥ 0.0\n",
      " x[2,1] ≥ 0.0\n",
      " x[3,1] ≥ 0.0\n",
      " x[1,2] ≥ 0.0\n",
      " x[2,2] ≥ 0.0\n",
      " x[3,2] ≥ 0.0\n",
      " y[1,1] ≥ 0.0\n",
      " y[2,1] ≥ 0.0\n",
      " y[3,1] ≥ 0.0\n",
      " y[4,1] ≥ 0.0\n",
      " y[1,2] ≥ 0.0\n",
      " y[2,2] ≥ 0.0\n",
      " y[3,2] ≥ 0.0\n",
      " y[4,2] ≥ 0.0\n",
      "\n",
      "Otimizando!\n",
      "\n",
      "A quantidade enviada das fábricas\n",
      "\n",
      "[5.0 15.0; 20.0 0.0; 10.0 0.0]\n",
      "\n",
      "A quantidade recebida pelas fábricas\n",
      "\n",
      "[20.0 0.0; 15.0 0.0; 0.0 10.0; 0.0 5.0]"
     ]
    }
   ],
   "source": [
    "m = 3\n",
    "n = 4\n",
    "\n",
    "cost_to_hubs = [\n",
    "    1 1;\n",
    "    1 1;\n",
    "    1 1;\n",
    "]\n",
    "\n",
    "cost_from_hubs = [\n",
    "    1 1;\n",
    "    1 1;\n",
    "    1 0;\n",
    "    1 0;\n",
    "]\n",
    "\n",
    "u = [\n",
    "    20; 20; 20\n",
    "]\n",
    "\n",
    "l = [\n",
    "    20; 15; 10; 5\n",
    "]\n",
    "\n",
    "transport(m,n,cost_to_hubs,cost_from_hubs,u,l)"
   ]
  },
  {
   "cell_type": "markdown",
   "metadata": {},
   "source": [
    "Diminuindo o custo de ida da terceira fábrica para os dois hubs faz o problema de otimização colocar mais produção nela. "
   ]
  },
  {
   "cell_type": "code",
   "execution_count": 8,
   "metadata": {},
   "outputs": [
    {
     "name": "stdout",
     "output_type": "stream",
     "text": [
      "\n",
      "Otimizando!\n",
      "\n",
      "A quantidade enviada das fábricas\n",
      "\n",
      "[0.0 10.0; 20.0 0.0; 15.0 5.0]\n",
      "\n",
      "A quantidade recebida pelas fábricas\n",
      "\n",
      "[20.0 0.0; 15.0 0.0; 0.0 10.0; 0.0 5.0]"
     ]
    }
   ],
   "source": [
    "m = 3\n",
    "n = 4\n",
    "\n",
    "cost_to_hubs = [\n",
    "    1 1;\n",
    "    1 1;\n",
    "    0.5 0.5;\n",
    "]\n",
    "\n",
    "cost_from_hubs = [\n",
    "    1 1;\n",
    "    1 1;\n",
    "    1 0;\n",
    "    1 0;\n",
    "]\n",
    "\n",
    "u = [\n",
    "    20; 20; 20\n",
    "]\n",
    "\n",
    "l = [\n",
    "    20; 15; 10; 5\n",
    "]\n",
    "\n",
    "transport(m,n,cost_to_hubs,cost_from_hubs,u,l, false)"
   ]
  },
  {
   "cell_type": "markdown",
   "metadata": {},
   "source": [
    "## Exercício 8 (Seção 1.2)\n",
    "\n",
    "**We are given a matrix $A \\in \\mathbb{R}^{m \\times n}$ and a matrix $B \\in \\mathbb{R}^{p\\times n}$ so that the rows of $A$ denote observations for healthy human tissue and the rows of $B$ denote observations for unhealthy human tissue. We would like to find $a \\in \\mathbb{R}^n$ and $\\alpha, \\beta \\in \\mathbb{R}$ such that all rows of $A$ are in the set $\\{x \\in \\mathbb{R}^n : a^T x \\le \\alpha\\}$, all rows of $B$ are in the set $\\{x \\in \\mathbb{R}^n : a^T x \\ge \\beta\\}$, and such that the distance between thesets $\\{x \\in \\mathbb{n} : a^T x = \\alpha\\}$ and $\\{x \\in \\mathbb{R}^n : a^T x = \\beta\\}$ is maximized. The following figure illustrates the situation for $n = 2$; circles correspond to rows in $A$, and squares to rows in $B$.**\n",
    "\n",
    "![](exercise8.png)"
   ]
  },
  {
   "cell_type": "code",
   "execution_count": null,
   "metadata": {},
   "outputs": [],
   "source": []
  }
 ],
 "metadata": {
  "kernelspec": {
   "display_name": "Julia 1.5.3",
   "language": "julia",
   "name": "julia-1.5"
  },
  "language_info": {
   "file_extension": ".jl",
   "mimetype": "application/julia",
   "name": "julia",
   "version": "1.5.3"
  }
 },
 "nbformat": 4,
 "nbformat_minor": 4
}
