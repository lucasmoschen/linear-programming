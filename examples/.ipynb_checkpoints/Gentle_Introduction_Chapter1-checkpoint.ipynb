{
 "cells": [
  {
   "cell_type": "markdown",
   "metadata": {},
   "source": [
    "# A Gentle Introduction to Optimization \n",
    "---\n",
    "\n",
    "## Capítulo 1"
   ]
  },
  {
   "cell_type": "code",
   "execution_count": 1,
   "metadata": {},
   "outputs": [
    {
     "name": "stderr",
     "output_type": "stream",
     "text": [
      "\u001b[32m\u001b[1m Activating\u001b[22m\u001b[39m environment at `~/OneDrive/FGV/7 Período/Programação Linear/Project.toml`\n"
     ]
    }
   ],
   "source": [
    "using Pkg\n",
    "pkg\"activate ../.\"\n",
    "pkg\"instantiate\""
   ]
  },
  {
   "cell_type": "code",
   "execution_count": 2,
   "metadata": {},
   "outputs": [
    {
     "name": "stderr",
     "output_type": "stream",
     "text": [
      "\u001b[32m\u001b[1m   Updating\u001b[22m\u001b[39m registry at `~/.julia/registries/General`\n"
     ]
    },
    {
     "name": "stdout",
     "output_type": "stream",
     "text": [
      "\u001b[?25l    "
     ]
    },
    {
     "name": "stderr",
     "output_type": "stream",
     "text": [
      "\u001b[32m\u001b[1m   Updating\u001b[22m\u001b[39m git-repo `https://github.com/JuliaRegistries/General.git`\n"
     ]
    },
    {
     "name": "stdout",
     "output_type": "stream",
     "text": [
      "\u001b[2K\u001b[?25h[1mFetching:\u001b[22m\u001b[39m [========================================>]  100.0 %"
     ]
    },
    {
     "name": "stderr",
     "output_type": "stream",
     "text": [
      "\u001b[32m\u001b[1m  Resolving\u001b[22m\u001b[39m package versions...\n",
      "\u001b[32m\u001b[1mNo Changes\u001b[22m\u001b[39m to `~/OneDrive/FGV/7 Período/Programação Linear/Project.toml`\n",
      "\u001b[32m\u001b[1mNo Changes\u001b[22m\u001b[39m to `~/OneDrive/FGV/7 Período/Programação Linear/Manifest.toml`\n"
     ]
    }
   ],
   "source": [
    "pkg\"add JuMP GLPK Ipopt\"\n",
    "using Plots, LinearAlgebra, JuMP, GLPK, Ipopt "
   ]
  },
  {
   "cell_type": "markdown",
   "metadata": {},
   "source": [
    "### Compra de petróleo KWOil\n",
    "\n",
    "KWOil é um fornecedor local de óleo para aquecimento. A empresa existe há muitos anos e conhece o seu território. Em particular, KWOil desenvolveu um modelo confiável para prever a demanda futura de petróleo. Para cada um dos quatro meses seguintes, a empresa espera as seguintes quantidades de demanda de óleo para aquecimento. Na tabela a seguir temos as informações da demanda a cada mês estimada pelo modelo da empresa e o preço de compra por litro de um fornecedor regional. \n",
    "\n",
    "|Mês|1|2|3|4|\n",
    "|---|-|-|-|-|\n",
    "|Demanda|5000|8000|9000|6000|\n",
    "|Preço de compra|0.75|0.72|0.92|0.9|\n",
    "\n",
    "A empresa pode estocar no máximo 4000 L e no ínicio do mês 1 já tem 2000L estocados. Se empresa compra petróleo no mês $i$, pode enviar diretamente ao cliente sem precisar armazenar. Assim, supondo que a empresa queira minimizar o custo de compra da regional e cobrir a demanda, quanto deve comprar por mês?\n",
    "\n",
    "\n",
    "Defina as variáveis \n",
    "\n",
    "$$\n",
    "p_i = \\text{quantidade de litros comprados no inicio do mes } i\n",
    "$$\n",
    "$$\n",
    "t_i = \\text{quantidade de litros armazenados no inicio do mes } i\n",
    "$$\n",
    "Queremos \n",
    "$$\n",
    "\\min 0.75p_1 + 0.72p_2 + 0.92p_3 + 0.9p_4\n",
    "$$\n",
    "sujeito a \n",
    "$$\n",
    "p_1 + t_1 = 5000 + t_2\n",
    "$$\n",
    "$$\n",
    "p_2 + t_2 = 8000 + t_3\n",
    "$$\n",
    "$$\n",
    "p_3 + t_3 = 9000 + t_4\n",
    "$$\n",
    "$$\n",
    "p_4 + t_4 \\ge 6000\n",
    "$$\n",
    "$$\n",
    "t_1 = 2000, 0 \\le t_2, t_3, t_4 \\le 4000\n",
    "$$\n",
    "$$\n",
    "p_1,...,p_4 \\ge 0\n",
    "$$"
   ]
  },
  {
   "cell_type": "code",
   "execution_count": 12,
   "metadata": {},
   "outputs": [
    {
     "name": "stdout",
     "output_type": "stream",
     "text": [
      "Min 0.75 p1 + 0.72 p2 + 0.92 p3 + 0.9 p4\n",
      "Subject to\n",
      " p1 - t2 = 3000.0\n",
      " p2 + t2 - t3 = 8000.0\n",
      " p3 + t3 - t4 = 9000.0\n",
      " p4 + t4 ≥ 6000.0\n",
      " p1 ≥ 0.0\n",
      " p2 ≥ 0.0\n",
      " p3 ≥ 0.0\n",
      " p4 ≥ 0.0\n",
      " t2 ≥ 0.0\n",
      " t3 ≥ 0.0\n",
      " t4 ≥ 0.0\n",
      " t2 ≤ 4000.0\n",
      " t3 ≤ 4000.0\n",
      " t4 ≤ 4000.0\n"
     ]
    }
   ],
   "source": [
    "# Modelo e Solver\n",
    "model = Model(GLPK.Optimizer)\n",
    "\n",
    "# Variaveis, canalizações (ou caixas) e tipo\n",
    "@variable(model,p1 >= 0)\n",
    "@variable(model,p2 >= 0)\n",
    "@variable(model,p3 >= 0)\n",
    "@variable(model,p4 >= 0)\n",
    "@variable(model,4000 >= t2 >= 0)\n",
    "@variable(model,4000 >= t3 >= 0)\n",
    "@variable(model,4000 >= t4 >= 0)\n",
    "\n",
    "# Restrições\n",
    "@constraint(model, p1 - t2 == 3000)\n",
    "@constraint(model, p2 + t2 - t3 == 8000)\n",
    "@constraint(model, p3 + t3 - t4 == 9000)\n",
    "@constraint(model, p4 + t4 >= 6000)\n",
    "\n",
    "# Função objetivo\n",
    "@objective(model,Min,0.75p1 + 0.72p2 + 0.92p3 + 0.9p4)\n",
    "\n",
    "print(model)"
   ]
  },
  {
   "cell_type": "code",
   "execution_count": 13,
   "metadata": {},
   "outputs": [
    {
     "name": "stdout",
     "output_type": "stream",
     "text": [
      "value(p1) = 3000.0\n",
      "value(p2) = 12000.0\n",
      "value(p3) = 5000.0\n",
      "value(p4) = 6000.0\n",
      "value(t2) = 0.0\n",
      "value(t3) = 4000.0\n",
      "value(t4) = 0.0\n",
      "objective_value(model) = 20890.0\n"
     ]
    },
    {
     "data": {
      "text/plain": [
       "20890.0"
      ]
     },
     "execution_count": 13,
     "metadata": {},
     "output_type": "execute_result"
    }
   ],
   "source": [
    "# Chamada do Solver\n",
    "optimize!(model)\n",
    "\n",
    "#Declarar solução\n",
    "@show value(p1)\n",
    "@show value(p2)\n",
    "@show value(p3)\n",
    "@show value(p4)\n",
    "@show value(t2)\n",
    "@show value(t3)\n",
    "@show value(t4)\n",
    "\n",
    "@show objective_value(model)"
   ]
  },
  {
   "cell_type": "markdown",
   "metadata": {},
   "source": [
    "### O problema da atribuição\n",
    "\n",
    "A empresa Watertech enfrenta o seguinte problema: há um conjunto de $J$ jobs que precisam ser tratados com urgência. A empresa selecionou $I$ de seus funcionários de maior confiança para realizar essas tarefas. Naturalmente, os conjuntos de habilidades desses funcionários diferem, e nem todos os trabalhos são igualmente bem administrados por todos os funcionários. Com base em experiências anteriores, a administração sabe quantas horas $c_{ij}$ cada trabalhador $i \\in I$ deve levar para concluir qualquer uma das tarefas $j \\in J$. A tabela a seguir fornece um exemplo de um caso com $| J | = 4$ jobs e $| I | = 4$ funcionários:\n",
    "\n",
    "|Funcionários/Jobs|1|2|3|4|\n",
    "|------------|-|-|-|-|\n",
    "|1|3|5|1|7|\n",
    "|2|8|2|2|4|\n",
    "|3|2|1|6|8|\n",
    "|4|8|3|3|2|\n",
    "\n",
    "WaterTech quer atribuir os jobs aos empregados com a seguinte condição: \n",
    "\n",
    "1. cada empregado $i \\in I$ é atribuído um job $j \\in J$. \n",
    "2. cada trabalho $j \\in J$ é atribuído a um empregado $i \\in I$. \n",
    "\n",
    "Para isso vamos criar as **variáveis** $x_{ij}$ binárias que indicam 1 se o funcionário $i$ teve atribuído o job $j$ e 0 caso contrário. \n",
    "\n",
    "Queremos, então, que para todo $i \\in I$, \n",
    "$$\n",
    "\\sum_{j \\in J} x_{ij} = 1\n",
    "$$\n",
    "e para todo $j \\in J$, \n",
    "$$\n",
    "\\sum_{i \\in I} x_{ij} = 1\n",
    "$$\n",
    "Além disso temos a restrição que \n",
    "$$\n",
    "0 \\le x_{ij} \\le 1 \\text{ e } x_{ij} \\in \\mathbb{Z}\n",
    "$$\n",
    "\n",
    "Agora, nosso **funcional objetivo** será\n",
    "$$\n",
    "\\min \\sum_{i \\in I}\\sum_{j \\in J} c_{ij}x_{ij}\n",
    "$$"
   ]
  },
  {
   "cell_type": "code",
   "execution_count": 12,
   "metadata": {},
   "outputs": [
    {
     "name": "stdout",
     "output_type": "stream",
     "text": [
      "Min 3 x[1,1] + 8 x[2,1] + 2 x[3,1] + 8 x[4,1] + 5 x[1,2] + 2 x[2,2] + x[3,2] + 3 x[4,2] + x[1,3] + 2 x[2,3] + 6 x[3,3] + 3 x[4,3] + 7 x[1,4] + 4 x[2,4] + 8 x[3,4] + 2 x[4,4]\n",
      "Subject to\n",
      " x[1,1] + x[1,2] + x[1,3] + x[1,4] = 1.0\n",
      " x[2,1] + x[2,2] + x[2,3] + x[2,4] = 1.0\n",
      " x[3,1] + x[3,2] + x[3,3] + x[3,4] = 1.0\n",
      " x[4,1] + x[4,2] + x[4,3] + x[4,4] = 1.0\n",
      " x[1,1] + x[2,1] + x[3,1] + x[4,1] = 1.0\n",
      " x[1,2] + x[2,2] + x[3,2] + x[4,2] = 1.0\n",
      " x[1,3] + x[2,3] + x[3,3] + x[4,3] = 1.0\n",
      " x[1,4] + x[2,4] + x[3,4] + x[4,4] = 1.0\n",
      " x[1,1] binary\n",
      " x[2,1] binary\n",
      " x[3,1] binary\n",
      " x[4,1] binary\n",
      " x[1,2] binary\n",
      " x[2,2] binary\n",
      " x[3,2] binary\n",
      " x[4,2] binary\n",
      " x[1,3] binary\n",
      " x[2,3] binary\n",
      " x[3,3] binary\n",
      " x[4,3] binary\n",
      " x[1,4] binary\n",
      " x[2,4] binary\n",
      " x[3,4] binary\n",
      " x[4,4] binary\n"
     ]
    }
   ],
   "source": [
    "# definindo tamanho de I e J\n",
    "N = 4\n",
    "assignment = Model(GLPK.Optimizer)\n",
    "\n",
    "# Variáveis: estou decladando elas como binárias \n",
    "@variable(assignment, x[i=1:N,j=1:N], Bin) \n",
    "\n",
    "# Restrições \n",
    "@constraint(assignment, [sum(x[i,:]) for i=1:N] .== 1)\n",
    "@constraint(assignment, [sum(x[:,j]) for j=1:N] .== 1)\n",
    "\n",
    "# Função objetivo \n",
    "c = [3 5 1 7; \n",
    "     8 2 2 4;\n",
    "     2 1 6 8; \n",
    "     8 3 3 2];\n",
    "\n",
    "@objective(assignment, Min, sum(c.*x));\n",
    "\n",
    "print(assignment)"
   ]
  },
  {
   "cell_type": "code",
   "execution_count": 13,
   "metadata": {},
   "outputs": [],
   "source": [
    "# Utilizando o solver para resolver \n",
    "optimize!(assignment)"
   ]
  },
  {
   "cell_type": "markdown",
   "metadata": {},
   "source": [
    "A solução diz que o primeiro funcionário deverá realizar o trabalho 3, o segundo o trabalho 2, o terceiro o trabalho 1 e o quatro o trabalho 4. "
   ]
  },
  {
   "cell_type": "code",
   "execution_count": 18,
   "metadata": {},
   "outputs": [
    {
     "data": {
      "text/plain": [
       "4×4 Array{Int64,2}:\n",
       " 0  0  1  0\n",
       " 0  1  0  0\n",
       " 1  0  0  0\n",
       " 0  0  0  1"
      ]
     },
     "execution_count": 18,
     "metadata": {},
     "output_type": "execute_result"
    }
   ],
   "source": [
    "Int.(value.(x))"
   ]
  }
 ],
 "metadata": {
  "kernelspec": {
   "display_name": "Julia 1.5.3",
   "language": "julia",
   "name": "julia-1.5"
  },
  "language_info": {
   "file_extension": ".jl",
   "mimetype": "application/julia",
   "name": "julia",
   "version": "1.5.3"
  }
 },
 "nbformat": 4,
 "nbformat_minor": 4
}
