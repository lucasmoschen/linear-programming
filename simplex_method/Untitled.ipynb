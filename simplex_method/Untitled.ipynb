{
 "cells": [
  {
   "cell_type": "markdown",
   "metadata": {},
   "source": [
    "# Método Simplex \n",
    "\n",
    "O método simplex é um procedimento para resolver programas lineares que funciona iterativamente. Cada iteração, dentro do espaço viável, melhora a função objetivo. É um algoritmo robusto que resolve o problema dual simultaneamente. A partir de um programa linear qualquer, o primeiro passo é transformar para a forma canônica e nesse formato, o problema é resolvido de maneira simples. \n",
    "\n",
    "## Forma canônica \n",
    "\n",
    "Um problema linear com a seguinte estrutura: \n",
    "\n",
    "1. As variáveis de decisão são não negativas; \n",
    "2. Todas as restrições são em forma de equações; \n",
    "3. Os coeficientes do lado direito das restrições são não negativos; \n",
    "4. Em cada restrição, uma variável de decisão é isolada com coeficiente +1, enquanto nas outras restrições, essa variável não aparece. Ela também aparece com coeficiente zero na função objetivo. \n",
    "\n",
    "## Critérios para solução do problema \n",
    "\n",
    "Consideremos inicialmente o problema em sua forma canônica. Temos três importantes critérios: \n",
    "\n",
    "1. Critério da ilimitação: estabelece quando o problema é ilimitado ou não; \n",
    "2. Critério da melhora: estabelece quando e como melhorar a função objetivo a partir de uma variável não básica; \n",
    "3. Critério da razão e pivotamento: estabelece como alterar a base de variáveis."
   ]
  },
  {
   "cell_type": "code",
   "execution_count": 1,
   "metadata": {},
   "outputs": [],
   "source": [
    "class SimplexMethod(): \n",
    "    \n",
    "    def __init__(): \n",
    "        \n",
    "        pass\n",
    "    \n",
    "    def variables(var: str):\n",
    "        \"\"\"\n",
    "        Esta função adiciona uma sequência de variáveis em formato de string ao modelo. \n",
    "        Exemplo: \"x1 x2 x3 x4\"\n",
    "        \"\"\"\n",
    "        pass\n",
    "    \n",
    "    def objective(maximization: bool, obj: str): \n",
    "        \"\"\"\n",
    "        Esta função adiciona uma função objetivo ao modelo. A variável maximization é True se o problema for de maximização e False caso seja \n",
    "        Exemplo \n",
    "        \"\"\"\n",
    "        \n",
    "        "
   ]
  },
  {
   "cell_type": "code",
   "execution_count": null,
   "metadata": {},
   "outputs": [],
   "source": []
  }
 ],
 "metadata": {
  "kernelspec": {
   "display_name": "Python 3.7.3 64-bit ('base')",
   "language": "python",
   "name": "python37364bitbase6782713bed674ed7a26121bd52530782"
  },
  "language_info": {
   "codemirror_mode": {
    "name": "ipython",
    "version": 3
   },
   "file_extension": ".py",
   "mimetype": "text/x-python",
   "name": "python",
   "nbconvert_exporter": "python",
   "pygments_lexer": "ipython3",
   "version": "3.7.1"
  }
 },
 "nbformat": 4,
 "nbformat_minor": 4
}
