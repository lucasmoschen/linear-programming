{
 "cells": [
  {
   "cell_type": "markdown",
   "metadata": {},
   "source": [
    "# Método Simplex \n",
    "\n",
    "O método simplex é um procedimento inventado no metade final dos anos 1940 por George Dantzig para resolver programas lineares que funciona iterativamente. Cada iteração, dentro do espaço viável, melhora a função objetivo. É um algoritmo robusto que resolve o problema dual simultaneamente. A partir de um programa linear qualquer, o primeiro passo é transformar para a forma canônica e nesse formato, o problema é resolvido de maneira simples. \n",
    "\n",
    "## Forma canônica \n",
    "\n",
    "Um problema linear com a seguinte estrutura: \n",
    "\n",
    "1. As variáveis de decisão são não negativas; \n",
    "2. Todas as restrições são em forma de equações; \n",
    "3. Os coeficientes do lado direito das restrições são não negativos; \n",
    "4. Em cada restrição, uma variável de decisão é isolada com coeficiente +1, enquanto nas outras restrições, essa variável não aparece. Ela também aparece com coeficiente zero na função objetivo. \n",
    "\n",
    "## Critérios para solução do problema \n",
    "\n",
    "Consideremos inicialmente o problema em sua forma canônica. Temos três importantes critérios: \n",
    "\n",
    "1. Critério da ilimitação: estabelece quando o problema é ilimitado ou não; \n",
    "2. Critério da melhora: estabelece quando e como melhorar a função objetivo a partir de uma variável não básica; \n",
    "3. Critério da razão e pivotamento: estabelece como alterar a base de variáveis."
   ]
  },
  {
   "cell_type": "code",
   "execution_count": 1,
   "metadata": {},
   "outputs": [],
   "source": [
    "import numpy as np\n",
    "np.set_printoptions(precision=2)\n",
    "from scipy.optimize import linprog"
   ]
  },
  {
   "cell_type": "markdown",
   "metadata": {},
   "source": [
    "Estamos interessados em maximizar uma função objetivo linear sujeita a retrições lineares de igualdade e desigualdade. Dessa forma, resolvemos problemas do tipo: \n",
    "\n",
    "$$\\begin{align}\n",
    "\\max_x \\ & c^T x \\\\\n",
    "\\mbox{tal que}  \\ & A_{ub} x \\leq b_{ub}, \\\\\n",
    "& A_{eq} x = b_{eq}, \\\\\n",
    "& l \\leq x \\leq u\n",
    "\\end{align}$$\n",
    "\n",
    "de forma que $x$ é o vetor de variáveis de decisão, $c$, $b_{ub}, b_{eq}, l, u$ são vetores e $A_{ub}$ e $A_{eq}$ são matrizes também. "
   ]
  },
  {
   "cell_type": "markdown",
   "metadata": {},
   "source": [
    "## Desenvolvendo o algoritmo \n",
    "\n",
    "O primeiro passo, que pode ser deixado do lado, é conferir as dimensões do sistema."
   ]
  },
  {
   "cell_type": "code",
   "execution_count": 2,
   "metadata": {},
   "outputs": [],
   "source": [
    "def _check_dimensions(self, c, A_ub, A_eq, b_ub, b_eq): \n",
    "\n",
    "    if A_ub.shape[1] != self.n_var: \n",
    "        raise Exception(\"The number of columns of A_ub must be the number of lines of c.\")\n",
    "    elif A_eq.shape[1] != self.n_var:\n",
    "        raise Exception(\"The number of columns of A_eq must be the number of lines of c.\")\n",
    "    elif b_ub.shape[0] != A_ub.shape[0]:\n",
    "        raise Exception(\"The number of lines of A_ub must be the number of lines of b_ub.\")\n",
    "    elif b_eq.shape[0] != A_eq.shape[0]: \n",
    "        raise Exception(\"The number of lines of A_eq must be the number of lines of b_eq.\")"
   ]
  },
  {
   "cell_type": "markdown",
   "metadata": {},
   "source": [
    "A partir da inserção dos valores pelo usuário, precisamos ajeitar os valores de forma que eles fiquem no formato canônico, como descrito acima. Separamos o processo na seguintes etapas. \n",
    "\n",
    "1. Convertemos os limites de caixa das variáveis em restrições de desigualdades. Por padrão, assumimos que as variáveis são não negativas. Restrições do tipo $x \\le u$ são inseridas como desigualdades normalmente. Restrições do tipo $x \\ge l$ são transformadas em $-x \\le -l$. Por fim, caso $l = -\\infty$, escrevemos $x = x^+ - x^-$ em todas as restrições e na função objetivo, de forma que $x^+, x^- \\ge 0$. \n",
    "\n",
    "Observo que estamos criando duas variáveis novas que depois serão juntas novamente para formar $x$. "
   ]
  },
  {
   "cell_type": "code",
   "execution_count": 51,
   "metadata": {},
   "outputs": [],
   "source": [
    "def _bounds_handler(self, bounds, c, A_ub, A_eq, b_ub, b_eq):\n",
    "\n",
    "    l = np.array([b[0] for b in bounds], dtype = np.float64)\n",
    "    u = np.array([b[1] for b in bounds], dtype = np.float64)\n",
    "    if len(bounds) == 0: \n",
    "        return (c, A_ub, A_eq, b_ub, b_eq)\n",
    "    elif len(bounds) < self.n_var: \n",
    "        raise Exception(\"You need to specify dimension of c bounds.\")\n",
    "    else:\n",
    "        col_bar = self.n_var + sum(l == -np.inf)\n",
    "        lin_bar = A_ub.shape[0] + sum(l > -np.inf) + sum(u < np.inf)\n",
    "        A_ub_bar = np.zeros((lin_bar, col_bar))\n",
    "        A_eq_bar = np.zeros((A_eq.shape[0], col_bar))\n",
    "        b_ub_bar = np.zeros((lin_bar, 1))\n",
    "        b_ub_bar[:A_ub.shape[0],0:1] = b_ub\n",
    "        c_bar = np.zeros((col_bar, 1))\n",
    "\n",
    "        col = 0\n",
    "        lin = 0\n",
    "        for i in range(self.n_var):\n",
    "            if l[i] == -np.inf: \n",
    "                A_ub_bar[:A_ub.shape[0], col] = A_ub[:,i]\n",
    "                A_ub_bar[:A_ub.shape[0], col+1] = -A_ub[:,i]\n",
    "                A_eq_bar[:A_eq.shape[0], col] = A_eq[:,i]\n",
    "                A_eq_bar[:A_eq.shape[0], col+1] = -A_eq[:,i]\n",
    "                c_bar[col] = c[i]\n",
    "                c_bar[col+1] = -c[i]\n",
    "                if u[i] < np.inf: \n",
    "                    A_ub_bar[A_ub.shape[0]+lin, col] = 1\n",
    "                    A_ub_bar[A_ub.shape[0]+lin, col+1] = -1\n",
    "                    b_ub_bar[A_ub.shape[0]+lin] = u[i]\n",
    "                    lin += 1\n",
    "                old_name = self.variables_names[col]\n",
    "                self.variables_names[col] = old_name + \"+1\"\n",
    "                self.variables_names.insert(col+1, old_name+ \"-1\")\n",
    "                col += 2\n",
    "            else: \n",
    "                A_ub_bar[:A_ub.shape[0], col] = A_ub[:,i]\n",
    "                A_ub_bar[A_ub.shape[0]+lin, col] = -1 \n",
    "                b_ub_bar[A_ub.shape[0]+lin] = -l[i]\n",
    "                A_eq_bar[:A_eq.shape[0], col] = A_eq[:,i]\n",
    "                c_bar[col] = c[i]\n",
    "                if u[i] < np.inf: \n",
    "                    A_ub_bar[A_ub.shape[0]+lin+1, col] = 1\n",
    "                    b_ub_bar[A_ub.shape[0]+lin+1] = u[i]\n",
    "                    lin += 1\n",
    "                lin += 1\n",
    "                col += 1\n",
    "    return (c_bar, A_ub_bar, A_eq_bar, b_ub_bar, b_eq)"
   ]
  },
  {
   "cell_type": "markdown",
   "metadata": {},
   "source": [
    "2. Agora com as desigualdades em mãos, podemos adicionar as variáveis slack, quando $b$ é positivo na restrição $i$, e as variáveis surplus, quando $b$ é negativo. Na função, não diferenciamos os tipos de variáveis. Com a adição de variáveis slack, teremos um sistema de equações como restrições do modelo que chamaremos de $Ax = b$. "
   ]
  },
  {
   "cell_type": "code",
   "execution_count": 65,
   "metadata": {},
   "outputs": [],
   "source": [
    "def _add_slack_variables(self, A_ub, b_ub):\n",
    "\n",
    "    slack_var = np.eye(A_ub.shape[0])\n",
    "    return (slack_var, A_ub, b_ub)"
   ]
  },
  {
   "cell_type": "markdown",
   "metadata": {},
   "source": [
    "3. Lembre que queremos que o vetor $b$ apenas com entradas positivas. Por isso uma função para forçar isso!"
   ]
  },
  {
   "cell_type": "code",
   "execution_count": 97,
   "metadata": {},
   "outputs": [],
   "source": [
    "def _force_b_positive(self, slack_var, A, b): \n",
    "    \n",
    "    negative_const = np.where(b < 0)[0]\n",
    "    A[negative_const] = -A[negative_const]\n",
    "    slack_var[negative_const] = - slack_var[negative_const]\n",
    "    b[negative_const] = -b[negative_const]\n",
    "    \n",
    "    return slack_var, A, b"
   ]
  },
  {
   "cell_type": "markdown",
   "metadata": {},
   "source": [
    "4. Nem todas as restrições têm uma variável isolada, isto é, com coeficiente +1 e que não apareça nas outras. Por esse motivo, precisamos adicionar as variáveis artificiais. Em particular, vamos adicioná-las para variáveis sem variável slack +1, isto, é, vamos olhar a matriz de variáveis slack das restrições e, para as restrições em que não haja valor positivo +1, vamos adicionar uma variável artificial. "
   ]
  },
  {
   "cell_type": "code",
   "execution_count": 87,
   "metadata": {},
   "outputs": [],
   "source": [
    "def _add_artificial_variables(self, slack, A, b, c): \n",
    "\n",
    "    surplus = np.where(slack==-1)[0]\n",
    "    art_variables = np.where(slack.sum(axis = 1) <= 0)[0]\n",
    "\n",
    "    slack_bar = np.eye(slack.shape[0], slack.shape[0]+len(surplus))\n",
    "    slack_bar[surplus, slack.shape[0]:] = -np.eye(len(surplus))\n",
    "\n",
    "    self.table = np.zeros((slack_bar.shape[0]+1, slack_bar.shape[1]+A.shape[1]+1))\n",
    "    self.table[:-1, :] = np.hstack([slack_bar, A, b])\n",
    "    self.table[-1, slack_bar.shape[1]:-1] = c.flatten()\n",
    "\n",
    "    additional_variables = [\"s\"+str(i) for i in range(slack_bar.shape[1])]\n",
    "    additional_variables.extend(self.variables_names)\n",
    "    self.variables_names = list(additional_variables)        \n",
    "    for i in art_variables:\n",
    "        self.variables_names[i] = \"a\" + self.variables_names[i][1]\n",
    "\n",
    "    return art_variables"
   ]
  },
  {
   "cell_type": "markdown",
   "metadata": {},
   "source": [
    "Com isso, teremos a forma canônica e estamos prontos para começar a otimização. A otimização ocorre segundo o procedimento fase 1 - fase 2. **EXPLICAR ESSA PARTE.**"
   ]
  },
  {
   "cell_type": "code",
   "execution_count": 175,
   "metadata": {},
   "outputs": [],
   "source": [
    "def _phase1(self, table, var): \n",
    "\n",
    "    new_objective = table[self.art_variables, :].sum(axis=0)\n",
    "    table = np.vstack([table, new_objective])\n",
    "    table[-1, self.art_variables] = 0.0\n",
    "    table[-1,-1] = 0.0\n",
    "\n",
    "    table, var = self._iteration(table, var, phase1 = True)\n",
    "    \n",
    "    if -table[-1,-1] < new_objective[-1]:\n",
    "        return None, None\n",
    "    else: \n",
    "        for i in range(table.shape[0]-2): \n",
    "            if var[i][0] == \"a\": \n",
    "                for j, v in enumerate(var):\n",
    "                    if (v[0] != \"a\") & (table[i,j] != 0):\n",
    "                        a_ij = table[i,j]\n",
    "                        norm_line_i = table[i,:]/a_ij\n",
    "                        table = table - np.outer(table[:,j], table[i,:])/a_ij\n",
    "                        table[i,:] = norm_line_i\n",
    "                        var[i], var[j] = var[j], var[i]\n",
    "                        table[:,[i,j]] = table[:,[j,i]]                            \n",
    "                        break\n",
    "        # keep the artificial variables always zero. \n",
    "        var_fixed = list(var)\n",
    "        art = list(range(len(var)+1))\n",
    "        for j, v in enumerate(var_fixed):\n",
    "            if v[0] == \"a\": \n",
    "                art.remove(j)\n",
    "                var.remove(v)\n",
    "        table = table[:-1,art]\n",
    "\n",
    "    return table, var   "
   ]
  },
  {
   "cell_type": "markdown",
   "metadata": {},
   "source": [
    "Na fase 2, todas as variáveis artificiais puderam ser removidas (dado que sempre valerão 0). A otimização ocorre normalmente. **EXPLICAR COMO OCORRE OTIMIZAÇÃO.**"
   ]
  },
  {
   "cell_type": "code",
   "execution_count": 176,
   "metadata": {},
   "outputs": [],
   "source": [
    "def _phase2(self, table, var):\n",
    "\n",
    "    return self._iteration(table, var)\n",
    "\n",
    "def _iteration(self,tb, var, phase1=False): \n",
    "\n",
    "    while sum(tb[-1,:-1] > 0) > 0: \n",
    "\n",
    "        s = np.argmax(tb[-1,:-1])\n",
    "        if sum(tb[:-1,s] > 0) == 0: \n",
    "            return None, None\n",
    "\n",
    "        positive_a = np.where(tb[:-1-phase1,s] > 1e-16)[0]\n",
    "        r = positive_a[(tb[positive_a,-1]/tb[positive_a,s]).argmin()]\n",
    "\n",
    "        a_rs = tb[r,s]\n",
    "        norm_line_r = tb[r,:]/a_rs\n",
    "        tb = tb - np.outer(tb[:,s], tb[r,:])/a_rs\n",
    "        tb[r,:] = norm_line_r\n",
    "\n",
    "        # Change of variables\n",
    "        var[r], var[s] = var[s], var[r]\n",
    "        tb[:,[r,s]] = tb[:,[s,r]]\n",
    "\n",
    "    return (tb, var) "
   ]
  },
  {
   "cell_type": "markdown",
   "metadata": {},
   "source": [
    "Vamos retornar, por fim, um objeto do tipo `OptimizeResult` que é descrito a seguir. Nesse caso `x` indica a solução ótima, `fun` o valor ótimo, `slack` os valores das variáveis slack e surplus, `sucess` se a otimização encerrou corretamente e `message` sobre o que aconteceu, caso algo tenha dado errado. "
   ]
  },
  {
   "cell_type": "code",
   "execution_count": 177,
   "metadata": {},
   "outputs": [],
   "source": [
    "class OptimizeResult: \n",
    "    \n",
    "    def __init__(self, x, fun, slack, sucess, message): \n",
    "        \n",
    "        self.x = x\n",
    "        self.fun = fun\n",
    "        self.slack = slack\n",
    "        self.sucess = sucess\n",
    "        self.message = message\n",
    "        \n",
    "        self.result = {\"x\": x, \"fun\": fun, \"slack\": slack, \"success\": sucess, \"message\": message}"
   ]
  },
  {
   "cell_type": "markdown",
   "metadata": {},
   "source": [
    "A partir da tabela resultante do algoritmo, podemos calcular os resultados. "
   ]
  },
  {
   "cell_type": "code",
   "execution_count": 178,
   "metadata": {},
   "outputs": [],
   "source": [
    "def _results(self, tb, var): \n",
    "\n",
    "    fun = -tb[-1,-1]\n",
    "\n",
    "    x = np.zeros(self.n_var)\n",
    "    slack = np.array([0. for i in var if i[0] == 's'])\n",
    "    for i, v in enumerate(var): \n",
    "        if v[0] == \"s\": \n",
    "            slack[int(v[1])] = 0. if i >= tb.shape[0]-1 else tb[i,-1]\n",
    "        else:\n",
    "            if len(v) == 2:\n",
    "                x[int(v[1])] = 0. if i >= tb.shape[0]-1 else tb[i,-1]\n",
    "            else:\n",
    "                x[int(v[1])] += int(v[2:])*(0. if i >= tb.shape[0]-1 else tb[i,-1])\n",
    "\n",
    "    return x, slack, fun"
   ]
  },
  {
   "cell_type": "markdown",
   "metadata": {},
   "source": [
    "A função `optimize` é a chamada pelo usuário para realizar todo o procedimento. "
   ]
  },
  {
   "cell_type": "code",
   "execution_count": 179,
   "metadata": {},
   "outputs": [],
   "source": [
    "def optimize(self):\n",
    "\n",
    "    tb = np.array(self.table)\n",
    "    var = list(self.variables_names)\n",
    "\n",
    "    tb, var = self._phase1(tb, var)\n",
    "    if tb is None: \n",
    "        message = \"The problem is infeasible.\"\n",
    "        sucess = False\n",
    "        fun = None\n",
    "        x = None\n",
    "        slack = None\n",
    "    else: \n",
    "        tb, var = self._phase2(tb, var)\n",
    "        if tb is None: \n",
    "            message = \"The primal problem is unbounded.\"\n",
    "            sucess = False\n",
    "            fun = None\n",
    "            x = None\n",
    "            slack = None\n",
    "        else: \n",
    "            message = \"Optimization terminated successfully.\"\n",
    "            sucess = True\n",
    "            x, slack, fun = self._results(tb, var)\n",
    "\n",
    "    return OptimizeResult(x, fun, slack, sucess, message)"
   ]
  },
  {
   "cell_type": "markdown",
   "metadata": {},
   "source": [
    "Por fim, definimos a classe para o método simplex. "
   ]
  },
  {
   "cell_type": "code",
   "execution_count": 180,
   "metadata": {},
   "outputs": [],
   "source": [
    "class SimplexMethod: \n",
    "    \n",
    "    def __init__(self, c, **kwargs): \n",
    "        \n",
    "        c = c.reshape(-1,1)\n",
    "        self.n_var = c.shape[0]\n",
    "        A_ub = kwargs.get(\"A_ub\", np.empty(shape=(0,self.n_var)))\n",
    "        A_eq = kwargs.get(\"A_eq\", np.empty(shape=(0,self.n_var)))\n",
    "        b_ub = kwargs.get(\"b_ub\", np.empty(shape=(0,1)))\n",
    "        b_eq = kwargs.get(\"b_eq\", np.empty(shape=(0,1)))\n",
    "        # If bounds is an empty list, treating as [0, +inf].\n",
    "        bounds = kwargs.get(\"bounds\", [])\n",
    "        \n",
    "        b_ub = b_ub.reshape(-1,1)\n",
    "        b_eq = b_eq.reshape(-1,1)\n",
    "        \n",
    "        self._check_dimensions(c, A_ub, A_eq, b_ub, b_eq)\n",
    "        self.variables_names = [\"x\"+ str(i) for i in range(self.n_var)]\n",
    "        \n",
    "        c, A_ub, A_eq, b_ub, b_eq = self._bounds_handler(bounds, c, A_ub, A_eq, b_ub, b_eq)\n",
    "        slack, A_ub, b_ub = self._add_slack_variables(A_ub, b_ub)\n",
    "        \n",
    "        # Joining all the equalities\n",
    "        slack = np.vstack([slack, np.zeros((A_eq.shape[0], slack.shape[0]))])\n",
    "        A = np.vstack([A_ub, A_eq])\n",
    "        b = np.vstack([b_ub, b_eq])\n",
    "        slack, A, b = self._force_b_positive(slack, A, b)\n",
    "        self.art_variables = self._add_artificial_variables(slack, A, b, c)\n",
    "        \n",
    "SimplexMethod._check_dimensions = _check_dimensions\n",
    "SimplexMethod._bounds_handler = _bounds_handler\n",
    "SimplexMethod._add_slack_variables = _add_slack_variables\n",
    "SimplexMethod._force_b_positive = _force_b_positive\n",
    "SimplexMethod._add_artificial_variables = _add_artificial_variables\n",
    "SimplexMethod._phase1 = _phase1\n",
    "SimplexMethod._phase2 = _phase2\n",
    "SimplexMethod._iteration = _iteration\n",
    "SimplexMethod.optimize = optimize\n",
    "SimplexMethod._results = _results"
   ]
  },
  {
   "cell_type": "markdown",
   "metadata": {},
   "source": [
    "## Exemplos\n",
    "\n",
    "Considere o problema \n",
    "\n",
    "$$\n",
    "\\begin{align}\n",
    "\\max_x \\ & -3x_1 + x_3 \\\\\n",
    "\\mbox{tal que }  &x_1 + x_2 + x_3 + x_4 \\le 4, \\\\\n",
    "& -2x_1 + x_2 - x_3 = 1 \\\\\n",
    "& 3x_2 + x_3 + x_4 = 9, \\\\\n",
    "& x_1 \\ge -3, x_2 \\le 4, x_j \\ge 0, j = 2,3,4 \n",
    "\\end{align}\n",
    "$$"
   ]
  },
  {
   "cell_type": "code",
   "execution_count": 231,
   "metadata": {},
   "outputs": [],
   "source": [
    "c = np.array([-3,0,1,0])\n",
    "A_ub = np.array([[1,1,1,1]])\n",
    "b_ub = np.array([4])\n",
    "A_eq = np.array([[-2,1,-1,0], [0,3,1,1]])\n",
    "b_eq = np.array([1, 9])\n",
    "bounds = [[0, np.inf], [0,2.5], [0,np.inf], [0,np.inf]]"
   ]
  },
  {
   "cell_type": "code",
   "execution_count": 232,
   "metadata": {},
   "outputs": [
    {
     "data": {
      "text/plain": [
       "{'x': array([0. , 2.5, 1.5, 0. ]),\n",
       " 'fun': 1.5,\n",
       " 'slack': array([0. , 0. , 2.5, 0. , 1.5, 0. ]),\n",
       " 'success': True,\n",
       " 'message': 'Optimization terminated successfully.'}"
      ]
     },
     "execution_count": 232,
     "metadata": {},
     "output_type": "execute_result"
    }
   ],
   "source": [
    "model = SimplexMethod(c, A_ub = A_ub, b_ub = b_ub, A_eq = A_eq, b_eq = b_eq, bounds = bounds)\n",
    "res = model.optimize()\n",
    "res.result"
   ]
  },
  {
   "cell_type": "code",
   "execution_count": 233,
   "metadata": {},
   "outputs": [],
   "source": [
    "res2 = linprog(-c, A_ub = A_ub, b_ub = b_ub, A_eq = A_eq, b_eq = b_eq, bounds = bounds, method = \"simplex\")"
   ]
  },
  {
   "cell_type": "code",
   "execution_count": 234,
   "metadata": {},
   "outputs": [
    {
     "data": {
      "text/plain": [
       "     con: array([0., 0.])\n",
       "     fun: -1.5\n",
       " message: 'Optimization terminated successfully.'\n",
       "     nit: 7\n",
       "   slack: array([0.])\n",
       "  status: 0\n",
       " success: True\n",
       "       x: array([0. , 2.5, 1.5, 0. ])"
      ]
     },
     "execution_count": 234,
     "metadata": {},
     "output_type": "execute_result"
    }
   ],
   "source": [
    "res2"
   ]
  },
  {
   "cell_type": "code",
   "execution_count": null,
   "metadata": {},
   "outputs": [],
   "source": []
  }
 ],
 "metadata": {
  "kernelspec": {
   "display_name": "Python 3",
   "language": "python",
   "name": "python3"
  },
  "language_info": {
   "codemirror_mode": {
    "name": "ipython",
    "version": 3
   },
   "file_extension": ".py",
   "mimetype": "text/x-python",
   "name": "python",
   "nbconvert_exporter": "python",
   "pygments_lexer": "ipython3",
   "version": "3.8.5"
  }
 },
 "nbformat": 4,
 "nbformat_minor": 4
}
