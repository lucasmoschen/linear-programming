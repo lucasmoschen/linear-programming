{
 "cells": [
  {
   "cell_type": "markdown",
   "metadata": {},
   "source": [
    "# Método Simplex \n",
    "\n",
    "O método simplex é um procedimento inventado na metade final dos anos 1940 por George Dantzig para resolver programas lineares de forma iterativa. A cada iteração, dentro do espaço viável, a função objetivo é melhorada. Simultaneamente, ele resolve o problema dual, o que o torna um algoritmo robusto. A partir de um programa linear qualquer, o primeiro passo é transformar para a forma canônica e nesse formato, o problema é resolvido de maneira simples. \n",
    "\n",
    "## Forma canônica \n",
    "\n",
    "Um problema linear com a seguinte estrutura: \n",
    "\n",
    "1. As variáveis de decisão são não negativas; \n",
    "2. Todas as restrições são em forma de equações; \n",
    "3. Os coeficientes do lado direito das restrições são não negativos; \n",
    "4. Em cada restrição, uma variável de decisão é isolada com coeficiente +1, enquanto nas outras restrições, essa variável não aparece. Ela também aparece com coeficiente zero na função objetivo. \n",
    "\n",
    "## Critérios para solução do problema \n",
    "\n",
    "Quando o problema está na forma canônica, temos três importantes critérios: \n",
    "\n",
    "1. Critério da ilimitação: estabelece quando o problema é ilimitado ou não; \n",
    "2. Critério da melhora: estabelece quando e como melhorar a função objetivo a partir de uma variável não básica; \n",
    "3. Critério da razão e pivotamento: estabelece como alterar a base de variáveis."
   ]
  },
  {
   "cell_type": "code",
   "execution_count": 1,
   "metadata": {},
   "outputs": [],
   "source": [
    "import numpy as np\n",
    "np.set_printoptions(precision=2)\n",
    "from scipy.optimize import linprog"
   ]
  },
  {
   "cell_type": "markdown",
   "metadata": {},
   "source": [
    "Estamos interessados em maximizar uma função objetivo linear sujeita a retrições lineares de igualdade e desigualdade. Dessa forma, resolvemos problemas do tipo: \n",
    "\n",
    "$$\\begin{align}\n",
    "\\max_x \\ & c^T x \\\\\n",
    "\\mbox{tal que}  \\ & A_{ub} x \\leq b_{ub}, \\\\\n",
    "& A_{eq} x = b_{eq}, \\\\\n",
    "& l \\leq x \\leq u\n",
    "\\end{align}$$\n",
    "\n",
    "de forma que $x$ é o vetor de variáveis de decisão, $c$, $b_{ub}, b_{eq}, l, u$ são vetores e $A_{ub}$ e $A_{eq}$ são matrizes, todos escritos como `arrays` em `numpy`. "
   ]
  },
  {
   "cell_type": "markdown",
   "metadata": {},
   "source": [
    "## Desenvolvendo o algoritmo \n",
    "\n",
    "O primeiro passo, que pode ser deixado do lado, é conferir as dimensões do sistema."
   ]
  },
  {
   "cell_type": "code",
   "execution_count": 2,
   "metadata": {},
   "outputs": [],
   "source": [
    "def _check_dimensions(self, c, A_ub, A_eq, b_ub, b_eq): \n",
    "\n",
    "    if A_ub.shape[1] != self.n_var: \n",
    "        raise Exception(\"The number of columns of A_ub must be the number of lines of c.\")\n",
    "    elif A_eq.shape[1] != self.n_var:\n",
    "        raise Exception(\"The number of columns of A_eq must be the number of lines of c.\")\n",
    "    elif b_ub.shape[0] != A_ub.shape[0]:\n",
    "        raise Exception(\"The number of lines of A_ub must be the number of lines of b_ub.\")\n",
    "    elif b_eq.shape[0] != A_eq.shape[0]: \n",
    "        raise Exception(\"The number of lines of A_eq must be the number of lines of b_eq.\")"
   ]
  },
  {
   "cell_type": "markdown",
   "metadata": {},
   "source": [
    "A partir da inserção dos valores pelo usuário, precisamos ajeitar os valores de forma que eles fiquem no formato canônico, como descrito acima. Separamos o processo na seguintes etapas. \n",
    "\n",
    "1. Convertemos os limites superiores em desigualdades do problema, isto é, se $x \\le u$, então adicionaremos essa restrição a matriz $A_ub$.  \n",
    "\n",
    "Por padrão, assumimos que as variáveis são não negativas. Restrições do tipo $x_i \\le u$ são inseridas como desigualdades normalmente. Restrições do tipo $x_i \\ge l$ têm a substituição de variáveis $y_i = x_i - l \\ge 0$. Assim, se $A_{ub} x \\le b_{ub}$, teremos $A_{ub} \\bar{x} \\le b_{ub} + a^{i}_{ub}l$, tal que $\\bar{x} = x$ exceto em $\\bar{x}_i = y_i$ e $a^{i}_{ub}$ é a i-ésima coluna de $A_{ub}$.  Quando $l = -\\infty$, escrevemos $x_i = x_i^+ - x_i^-$ em todas as restrições e na função objetivo, de forma que $x^+, x^- \\ge 0$. Observo que estamos criando duas variáveis novas que depois serão juntas novamente para formar $x$. \n",
    "\n",
    "Todas essas transformações são armazenas para, posteriormente, voltarmos ao estado desejado pelo usuário. "
   ]
  },
  {
   "cell_type": "code",
   "execution_count": 3,
   "metadata": {},
   "outputs": [],
   "source": [
    "def _aux_free_variable(self, A_bar, A, col, i): \n",
    "    A_bar[:A.shape[0], col] = A[:,i]\n",
    "    A_bar[:A.shape[0], col+1] = -A[:,i]\n",
    "    return A_bar\n",
    "\n",
    "def _bounds_handler(self, bounds, c, A_ub, A_eq, b_ub, b_eq):\n",
    "\n",
    "    l = np.array([b[0] for b in bounds], dtype = np.float64)\n",
    "    u = np.array([b[1] for b in bounds], dtype = np.float64)\n",
    "    if len(bounds) == 0: \n",
    "        return (c, A_ub, A_eq, b_ub, b_eq)\n",
    "    elif len(bounds) < self.n_var: \n",
    "        raise Exception(\"You need to specify dimension of c bounds.\")\n",
    "    else:\n",
    "        free_variables = sum(l == -np.inf)\n",
    "        upper_bounds = sum(u < np.inf)\n",
    "        # Allocating space in case of free variables\n",
    "        A_ub_bar = np.zeros((A_ub.shape[0] + upper_bounds, A_ub.shape[1] + free_variables))\n",
    "        b_ub_bar = np.zeros((A_ub.shape[0] + upper_bounds, 1))\n",
    "        b_ub_bar[:A_ub.shape[0],0:1] = b_ub\n",
    "        A_eq_bar = np.zeros((A_eq.shape[0], A_eq.shape[1] + free_variables))\n",
    "        c_bar = np.zeros((c.shape[0] + free_variables, 1))\n",
    "        \n",
    "        col = 0\n",
    "        lin = 0\n",
    "        for i in range(self.n_var):\n",
    "            if l[i] == -np.inf: \n",
    "                A_ub_bar = self._aux_free_variable(A_ub_bar, A_ub, col, i)\n",
    "                A_eq_bar = self._aux_free_variable(A_eq_bar, A_eq, col, i)\n",
    "                c_bar = self._aux_free_variable(c_bar.transpose(), c.transpose(), col, i).transpose()\n",
    "                # Save the necessary transformation after\n",
    "                self.variables_transformations[i] = ([col, col+1], 0)\n",
    "                if u[i] < np.inf: \n",
    "                    A_ub_bar[A_ub.shape[0]+lin,col] = 1\n",
    "                    A_ub_bar[A_ub.shape[0]+lin,col+1] = -1\n",
    "                    b_ub_bar[A_ub.shape[0]+lin] = u[i]\n",
    "                    lin+=1\n",
    "                col+=2\n",
    "            else: \n",
    "                A_ub_bar[:A_ub.shape[0],col] = A_ub[:,i]\n",
    "                A_eq_bar[:,col] = A_eq[:,i]\n",
    "                c_bar[col] = c[i]\n",
    "                \n",
    "                self.variables_transformations[i] = ([col], l[i])\n",
    "                if u[i] < np.inf: \n",
    "                    A_ub_bar[A_ub.shape[0]+lin,col] = 1\n",
    "                    b_ub_bar[A_ub.shape[0]+lin] = u[i]\n",
    "                    lin+=1\n",
    "                b_ub_bar = b_ub_bar - A_ub_bar[:,col:col+1]*l[i]\n",
    "                b_eq = b_eq - A_eq[:,i:i+1]*l[i]\n",
    "                col+=1\n",
    "    return (c_bar, A_ub_bar, A_eq_bar, b_ub_bar, b_eq)"
   ]
  },
  {
   "cell_type": "markdown",
   "metadata": {},
   "source": [
    "2. Agora com as desigualdades em mãos, podemos adicionar as variáveis slack, quando $b$ é positivo na restrição $i$, e as variáveis surplus, quando $b$ é negativo. Na função, não diferenciamos esses tipos de variáveis. Com a adição de variáveis slack, teremos um sistema de equações como restrições do modelo que chamaremos de $Ax = b$. "
   ]
  },
  {
   "cell_type": "code",
   "execution_count": 4,
   "metadata": {},
   "outputs": [],
   "source": [
    "def _add_slack_variables(self, A_ub, b_ub):\n",
    "\n",
    "    slack_var = np.eye(A_ub.shape[0])\n",
    "    return (slack_var, A_ub, b_ub)"
   ]
  },
  {
   "cell_type": "markdown",
   "metadata": {},
   "source": [
    "3. Lembre que queremos que o vetor $b$ apenas com entradas positivas. Por isso uma função para forçar isso!"
   ]
  },
  {
   "cell_type": "code",
   "execution_count": 5,
   "metadata": {},
   "outputs": [],
   "source": [
    "def _force_b_positive(self, slack_var, A, b): \n",
    "    \n",
    "    negative_const = np.where(b < 0)[0]\n",
    "    A[negative_const] = -A[negative_const]\n",
    "    slack_var[negative_const] = - slack_var[negative_const]\n",
    "    b[negative_const] = -b[negative_const]\n",
    "    \n",
    "    return slack_var, A, b"
   ]
  },
  {
   "cell_type": "markdown",
   "metadata": {},
   "source": [
    "4. Nem todas as restrições têm uma variável isolada, isto é, com coeficiente +1 e que não apareça nas outras. Por esse motivo, precisamos adicionar as variáveis artificiais. Para isso, vamos criar a base do sistema. Nessa base, para cada restrição (linha), procuramos uma variável (coluna) que tenha coeficiente +1 e seja a única de sua coluna com coeficiente não nulo. Além disso, essa variável não ṕode aparecer no vetor $c$. \n",
    "\n",
    "Abaixo, vemos a função que constrói uma base a priori das variáveis artificiais. "
   ]
  },
  {
   "cell_type": "code",
   "execution_count": 17,
   "metadata": {},
   "outputs": [],
   "source": [
    "def _assemble_basis(self, A, b, c): \n",
    "    \n",
    "    self.basis = {i: None for i in range(A.shape[0])}\n",
    "    for j in range(A.shape[1]): \n",
    "        test = 0.0 if j >= self.slack_pos else c[j]\n",
    "        if test == 0: \n",
    "            non_zeros = np.where(A[:,j] != 0)[0]\n",
    "            if (non_zeros.shape[0] == 1) & (A[non_zeros[0], j] > 0):\n",
    "                self.basis[non_zeros[0]] = j\n",
    "                A[non_zeros[0], :] = A[non_zeros[0],:]/A[non_zeros[0],j]\n",
    "                b[non_zeros[0]] = b[non_zeros[0]]/A[non_zeros[0],j]\n",
    "    return A, b"
   ]
  },
  {
   "cell_type": "markdown",
   "metadata": {},
   "source": [
    "E depois, adicionamos as variáveis artificiais. "
   ]
  },
  {
   "cell_type": "code",
   "execution_count": 13,
   "metadata": {},
   "outputs": [],
   "source": [
    "def _add_artificial_variables(self, A, b, c): \n",
    "    \n",
    "    art_var = 0\n",
    "    self.art_constraints = []\n",
    "    for i in self.basis.keys(): \n",
    "        if self.basis[i] is None: \n",
    "            self.basis[i] = A.shape[1] + art_var \n",
    "            self.art_constraints.append(i)\n",
    "            art_var += 1\n",
    "    artificial_variables = np.eye(art_var)\n",
    "\n",
    "    self.table = np.zeros((A.shape[0] + 2, A.shape[1] + art_var + 1))\n",
    "    self.table[:-2, :-art_var-1] = A\n",
    "    self.table[self.art_constraints, -art_var-1:-1] = artificial_variables\n",
    "    self.table[:-2, -1] = b.flatten()\n",
    "    self.table[-2,:c.shape[0]] = c.flatten()"
   ]
  },
  {
   "cell_type": "markdown",
   "metadata": {},
   "source": [
    "Com isso, teremos a forma canônica e estamos prontos para começar a otimização. A otimização ocorre segundo o procedimento fase 1 - fase 2. Nesse processo, fazemos uma iteração que procura uma variável para ser aumentada segundo o coeficiente na função objetivo e substituimos por outra na base. "
   ]
  },
  {
   "cell_type": "code",
   "execution_count": 7,
   "metadata": {},
   "outputs": [],
   "source": [
    "def _change_of_variables(self, tb, r, s): \n",
    "    \n",
    "    a_rs = tb[r,s]\n",
    "    norm_line_r = tb[r,:]/a_rs\n",
    "    tb = tb - np.outer(tb[:,s], tb[r,:])/a_rs\n",
    "    tb[r,:] = norm_line_r\n",
    "    self.basis[r] = s\n",
    "    \n",
    "    return tb\n",
    "\n",
    "def _iteration(self,tb, phase1=False): \n",
    "\n",
    "    while sum(tb[-1,:-1] > 0) > 0: \n",
    "\n",
    "        s = np.argmax(tb[-1,:-1])\n",
    "        if sum(tb[:-1,s] > 0) == 0: \n",
    "            return None\n",
    "\n",
    "        positive_a = np.where(tb[:-1-phase1,s] > 1e-16)[0]\n",
    "        r = positive_a[(tb[positive_a,-1]/tb[positive_a,s]).argmin()]\n",
    "        tb = self._change_of_variables(tb, r, s)\n",
    "        \n",
    "    return tb "
   ]
  },
  {
   "cell_type": "markdown",
   "metadata": {},
   "source": [
    "A fase 1 e 2 estão sintetizadas abaixo. O objetivo da fasse 1 é verifivar se as variáveis artificiais são nulas e, se sim, removê-las do sistema. Se não, o sistema é inviável. "
   ]
  },
  {
   "cell_type": "code",
   "execution_count": 12,
   "metadata": {},
   "outputs": [],
   "source": [
    "def _phase1(self, table): \n",
    "\n",
    "    new_objective = table[self.art_constraints, :].sum(axis=0)\n",
    "    table[-1,:] = new_objective\n",
    "    table[-1, self.art_pos:] = 0.0\n",
    "\n",
    "    table = self._iteration(table, phase1 = True)\n",
    "    \n",
    "    if -table[-1,-1] < new_objective[-1]:\n",
    "        return None\n",
    "    else: \n",
    "        for (cons, basis) in self.basis.items(): \n",
    "            if basis >= self.art_pos: \n",
    "                for j in range(self.art_pos):\n",
    "                    if table[cons, j] != 0: \n",
    "                        table = self._change_of_variables(table, cons, j)\n",
    "                        break\n",
    "        # keep the artificial variables always zero. \n",
    "        table = np.hstack([table[:,:self.art_pos], table[:,[-1]]])\n",
    "        table = table[:-1,:]\n",
    "    return table   \n",
    "\n",
    "def _phase2(self, table):\n",
    "\n",
    "    return self._iteration(table)"
   ]
  },
  {
   "cell_type": "markdown",
   "metadata": {},
   "source": [
    "Vamos retornar, por fim, um objeto do tipo `OptimizeResult` que é descrito a seguir. Nesse caso `x` indica a solução ótima, `fun` o valor ótimo, `slack` os valores das variáveis slack e surplus, `sucess` se a otimização encerrou corretamente e `message` sobre o que aconteceu, caso algo tenha dado errado. "
   ]
  },
  {
   "cell_type": "code",
   "execution_count": 8,
   "metadata": {},
   "outputs": [],
   "source": [
    "class OptimizeResult: \n",
    "    \n",
    "    def __init__(self, x, fun, slack, sucess, message): \n",
    "        \n",
    "        self.x = x\n",
    "        self.fun = fun\n",
    "        self.slack = slack\n",
    "        self.sucess = sucess\n",
    "        self.message = message\n",
    "        \n",
    "        self.result = {\"x\": x, \"fun\": fun, \"slack\": slack, \"success\": sucess, \"message\": message}"
   ]
  },
  {
   "cell_type": "markdown",
   "metadata": {},
   "source": [
    "A partir da tabela resultante do algoritmo, podemos calcular os resultados. "
   ]
  },
  {
   "cell_type": "code",
   "execution_count": 9,
   "metadata": {},
   "outputs": [],
   "source": [
    "def _results(self, tb): \n",
    "\n",
    "    x = np.zeros(self.n_var)\n",
    "    y = np.zeros(self.slack_pos)\n",
    "    slack = np.zeros(tb.shape[1]-1-self.slack_pos)\n",
    "    for (cons, basis) in self.basis.items(): \n",
    "        if basis < self.slack_pos:\n",
    "            y[basis] = tb[cons, -1] \n",
    "        else: \n",
    "            slack[basis-self.slack_pos] = tb[cons, -1]\n",
    "    for i in range(self.n_var): \n",
    "        position = self.variables_transformations[i][0]\n",
    "        if len(position) == 1:  \n",
    "            x[i] = y[position[0]] + self.variables_transformations[i][1]\n",
    "        else: \n",
    "            x[i] = y[position[0]] - y[position[1]] \n",
    "\n",
    "    fun = sum(self.c*x)\n",
    "        \n",
    "    return x, slack, fun"
   ]
  },
  {
   "cell_type": "markdown",
   "metadata": {},
   "source": [
    "A função `optimize` é a chamada pelo usuário para realizar todo o procedimento. "
   ]
  },
  {
   "cell_type": "code",
   "execution_count": 10,
   "metadata": {},
   "outputs": [],
   "source": [
    "def optimize(self):\n",
    "\n",
    "    tb = np.array(self.table)\n",
    "\n",
    "    tb = self._phase1(tb)\n",
    "    if tb is None: \n",
    "        message = \"The problem is infeasible.\"\n",
    "        sucess = False\n",
    "        fun = None\n",
    "        x = None\n",
    "        slack = None\n",
    "    else: \n",
    "        tb = self._phase2(tb)\n",
    "        if tb is None: \n",
    "            message = \"The primal problem is unbounded.\"\n",
    "            sucess = False\n",
    "            fun = None\n",
    "            x = None\n",
    "            slack = None\n",
    "        else: \n",
    "            message = \"Optimization terminated successfully.\"\n",
    "            sucess = True\n",
    "            x, slack, fun = self._results(tb)\n",
    "\n",
    "    return OptimizeResult(x, fun, slack, sucess, message)"
   ]
  },
  {
   "cell_type": "markdown",
   "metadata": {},
   "source": [
    "Por fim, definimos a classe para o método simplex. "
   ]
  },
  {
   "cell_type": "code",
   "execution_count": 18,
   "metadata": {},
   "outputs": [],
   "source": [
    "class SimplexMethod: \n",
    "    \n",
    "    def __init__(self, c, **kwargs): \n",
    "        \n",
    "        self.c = c\n",
    "        c = c.reshape(-1,1)\n",
    "        self.n_var = c.shape[0]\n",
    "        A_ub = kwargs.get(\"A_ub\", np.empty(shape=(0,self.n_var)))\n",
    "        A_eq = kwargs.get(\"A_eq\", np.empty(shape=(0,self.n_var)))\n",
    "        b_ub = kwargs.get(\"b_ub\", np.empty(shape=(0,1)))\n",
    "        b_eq = kwargs.get(\"b_eq\", np.empty(shape=(0,1)))\n",
    "        # If bounds is an empty list, treating as [0, +inf].\n",
    "        bounds = kwargs.get(\"bounds\", [])\n",
    "        \n",
    "        b_ub = b_ub.reshape(-1,1)\n",
    "        b_eq = b_eq.reshape(-1,1)\n",
    "        \n",
    "        self._check_dimensions(c, A_ub, A_eq, b_ub, b_eq)\n",
    "        self.variables_transformations = {v: [] for v in range(self.n_var)}\n",
    "        \n",
    "        c, A_ub, A_eq, b_ub, b_eq = self._bounds_handler(bounds, c, A_ub, A_eq, b_ub, b_eq)\n",
    "        slack, A_ub, b_ub = self._add_slack_variables(A_ub, b_ub)\n",
    "        \n",
    "        # Joining all the equalities\n",
    "        slack = np.vstack([slack, np.zeros((A_eq.shape[0], slack.shape[0]))])\n",
    "        A = np.vstack([A_ub, A_eq])\n",
    "        b = np.vstack([b_ub, b_eq])\n",
    "        slack, A, b = self._force_b_positive(slack, A, b)\n",
    "        self.slack_pos = A.shape[1]\n",
    "        A = np.hstack([A, slack])\n",
    "        A, b = self._assemble_basis(A,b,c)\n",
    "    \n",
    "        self._add_artificial_variables(A, b, c)\n",
    "        \n",
    "        self.art_pos = A.shape[1]\n",
    "        \n",
    "        \n",
    "SimplexMethod._check_dimensions = _check_dimensions\n",
    "SimplexMethod._bounds_handler = _bounds_handler\n",
    "SimplexMethod._aux_free_variable = _aux_free_variable\n",
    "SimplexMethod._add_slack_variables = _add_slack_variables\n",
    "SimplexMethod._force_b_positive = _force_b_positive\n",
    "SimplexMethod._assemble_basis = _assemble_basis\n",
    "SimplexMethod._add_artificial_variables = _add_artificial_variables\n",
    "SimplexMethod._phase1 = _phase1\n",
    "SimplexMethod._phase2 = _phase2\n",
    "SimplexMethod._iteration = _iteration\n",
    "SimplexMethod._change_of_variables = _change_of_variables\n",
    "SimplexMethod.optimize = optimize\n",
    "SimplexMethod._results = _results"
   ]
  },
  {
   "cell_type": "markdown",
   "metadata": {},
   "source": [
    "## Exemplos\n",
    "\n",
    "Considere o problema \n",
    "\n",
    "$$\n",
    "\\begin{align}\n",
    "\\max_x \\ & -3x_1 + x_3 \\\\\n",
    "\\mbox{tal que }  &x_1 + x_2 + x_3 + x_4 \\le 4, \\\\\n",
    "& -2x_1 + x_2 - x_3 = 1 \\\\\n",
    "& 3x_2 + x_3 + x_4 = 9, \\\\\n",
    "& x_1 \\ge -3, x_2 \\le 4, x_j \\ge 0, j = 2,3,4 \n",
    "\\end{align}\n",
    "$$"
   ]
  },
  {
   "cell_type": "code",
   "execution_count": 19,
   "metadata": {},
   "outputs": [],
   "source": [
    "c = np.array([-3, 0, 1, 0])\n",
    "A_ub = np.array([[1,1,1,1]])\n",
    "A_eq = np.array([[-2, 1, -1, 0], [0, 3,1,1]])\n",
    "b_ub = np.array([4])\n",
    "b_eq = np.array([1,9])\n",
    "bounds = [[-3,np.inf], [0,4], [0, np.inf], [0, np.inf]]"
   ]
  },
  {
   "cell_type": "code",
   "execution_count": 20,
   "metadata": {},
   "outputs": [
    {
     "data": {
      "text/plain": [
       "{'x': array([-3.,  1.,  6.,  0.]),\n",
       " 'fun': 15.0,\n",
       " 'slack': array([0., 3.]),\n",
       " 'success': True,\n",
       " 'message': 'Optimization terminated successfully.'}"
      ]
     },
     "execution_count": 20,
     "metadata": {},
     "output_type": "execute_result"
    }
   ],
   "source": [
    "model = SimplexMethod(c, A_ub = A_ub, b_ub = b_ub, A_eq = A_eq, b_eq = b_eq, bounds = bounds)\n",
    "res = model.optimize()\n",
    "res.result"
   ]
  },
  {
   "cell_type": "markdown",
   "metadata": {},
   "source": [
    "Podemos conferir com o otimizador do Scipy!"
   ]
  },
  {
   "cell_type": "code",
   "execution_count": 23,
   "metadata": {},
   "outputs": [
    {
     "data": {
      "text/plain": [
       "     con: array([-2.22e-16,  0.00e+00])\n",
       "     fun: -15.0\n",
       " message: 'Optimization terminated successfully.'\n",
       "     nit: 6\n",
       "   slack: array([0.])\n",
       "  status: 0\n",
       " success: True\n",
       "       x: array([-3.,  1.,  6.,  0.])"
      ]
     },
     "execution_count": 23,
     "metadata": {},
     "output_type": "execute_result"
    }
   ],
   "source": [
    "res2 = linprog(-c, A_ub = A_ub, b_ub = b_ub, A_eq = A_eq, b_eq = b_eq, bounds = bounds, method = \"simplex\")\n",
    "res2"
   ]
  }
 ],
 "metadata": {
  "kernelspec": {
   "display_name": "Python 3",
   "language": "python",
   "name": "python3"
  },
  "language_info": {
   "codemirror_mode": {
    "name": "ipython",
    "version": 3
   },
   "file_extension": ".py",
   "mimetype": "text/x-python",
   "name": "python",
   "nbconvert_exporter": "python",
   "pygments_lexer": "ipython3",
   "version": "3.8.5"
  }
 },
 "nbformat": 4,
 "nbformat_minor": 4
}
