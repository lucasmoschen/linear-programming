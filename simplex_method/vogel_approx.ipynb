{
 "cells": [
  {
   "cell_type": "markdown",
   "id": "3524e567-e463-4a4b-98e2-17ce775054ac",
   "metadata": {},
   "source": [
    "# Aproximação de Vogel \n",
    "\n",
    "**Professor:** Luciano Guimarães de Castro \n",
    "\n",
    "### Lucas Machado Moschen"
   ]
  },
  {
   "cell_type": "code",
   "execution_count": 2,
   "id": "711adaab-325e-4ae1-8c14-9465c8f375d5",
   "metadata": {},
   "outputs": [
    {
     "name": "stderr",
     "output_type": "stream",
     "text": [
      "\u001b[32m\u001b[1m  Resolving\u001b[22m\u001b[39m package versions...\n",
      "\u001b[32m\u001b[1mNo Changes\u001b[22m\u001b[39m to `~/Documents/GitHub/linear-programming/Project.toml`\n",
      "\u001b[32m\u001b[1mNo Changes\u001b[22m\u001b[39m to `~/Documents/GitHub/linear-programming/Manifest.toml`\n",
      "\u001b[32m\u001b[1m Activating\u001b[22m\u001b[39m environment at `~/Documents/GitHub/linear-programming/Project.toml`\n"
     ]
    }
   ],
   "source": [
    "using Pkg\n",
    "pkg\"activate ../.\"\n",
    "pkg\"instantiate\"\n",
    "using Plots, LinearAlgebra"
   ]
  },
  {
   "cell_type": "markdown",
   "id": "5079fc6c-9a8d-4d45-99d7-7b1c7729da40",
   "metadata": {},
   "source": [
    "## Entrada\n",
    "\n",
    "`costs`: array 2d (m x n). \n",
    "\n",
    "Ex.: \n",
    "$c = \\begin{bmatrix} \n",
    "6 & 6 & 9 & 4 & 10 \\\\\n",
    "3 & 2 & 7 & 5 & 12 \\\\\n",
    "8 & 7 & 5 & 6 & 4   \\\\\n",
    "11 & 12 & 9 & 5 & 2 \\\\\n",
    "4 & 3 & 4 & 5 & 11  \\\\\n",
    "\\end{bmatrix}\n",
    "$\n",
    "\n",
    "`demand`: array 1d. \n",
    "\n",
    "Ex.: $d = [120, 80, 50, 75, 85]$ \n",
    "\n",
    "\n",
    "`supply`: array 1d.\n",
    "\n",
    "Ex.: $s = [45, 90, 95, 75, 105]$\n"
   ]
  },
  {
   "cell_type": "markdown",
   "id": "e3fda916-25c3-4c18-b24c-4ad406705e11",
   "metadata": {},
   "source": [
    "## Constrói arrays com penalidades\n",
    "\n",
    "- Para cada linha, encontre os dois menore e tome a diferença absoluta entre eles. Armazene esse valor na linha correspondente.\n",
    "\n",
    "- Para cada coluna, encontre os dois menore e tome a diferença absoluta entre eles. Armazena esse valor na coluna correspondente. "
   ]
  },
  {
   "cell_type": "code",
   "execution_count": 183,
   "id": "ce1edaeb-dc48-45f8-97c3-8f1654874c67",
   "metadata": {},
   "outputs": [],
   "source": [
    "function build_penalty!(m::Int64, n::Int64, \n",
    "                        row_diff::Array{Float64,1}, \n",
    "                        col_diff::Array{Float64,1},\n",
    "                        cost::Array{Float64,2})\n",
    "    \"\"\"\n",
    "    m/n: Int64\n",
    "        Number of rows/columns.\n",
    "    row/col_diff: Array{Float64,1}\n",
    "        Row/column difference array.\n",
    "    cost: Array{Float64,2}\n",
    "        Each row represents the supply equation and each column represents the demand equation.\n",
    "    \"\"\"\n",
    "    for row = 1:m\n",
    "        row_diff[row] = partialsort(cost[row,:], 2) - partialsort(cost[row,:], 1)\n",
    "    end\n",
    "    for col = 1:n\n",
    "        col_diff[col] = partialsort(cost[:,col], 2) - partialsort(cost[:,col], 1)\n",
    "    end\n",
    "end;"
   ]
  },
  {
   "cell_type": "markdown",
   "id": "655b00ea-c2cb-4d71-994a-1bf2b4df2a27",
   "metadata": {},
   "source": [
    "## Seleciona célula\n",
    "\n",
    "Após construir as arrays de penalidade, tomamos a penalidade máxima e a sua linha/coluna referente. Tomamos a célula com o menor custo nessa linha/coluna."
   ]
  },
  {
   "cell_type": "code",
   "execution_count": 184,
   "id": "3f66aa3d-1b92-4a85-b037-19f93594f6ec",
   "metadata": {},
   "outputs": [],
   "source": [
    "function select_cell(row_diff::Array{Float64,1}, col_diff::Array{Float64,1}, cost::Array{Float64,2})\n",
    "    \"\"\"\n",
    "    row/col_diff: Array{Float64,1}\n",
    "        Row/Column difference array.\n",
    "    cost: Array{Float64,2}\n",
    "        Each row represents the supply equation and each column represents the demand equation.\n",
    "    \"\"\"\n",
    "    max_penalty_row = findmax(row_diff)\n",
    "    max_penalty_col = findmax(col_diff)\n",
    "    if max_penalty_row[1] < max_penalty_col[1] \n",
    "        col = max_penalty_col[2]\n",
    "        row = findmin(cost[:,col])[2]\n",
    "    else \n",
    "        row = max_penalty_row[2]\n",
    "        col = findmin(cost[row,:])[2]\n",
    "    end\n",
    "    return (row, col)\n",
    "end;"
   ]
  },
  {
   "cell_type": "markdown",
   "id": "6e66ef5e-969c-4fa0-9f30-dbc4301f86e4",
   "metadata": {},
   "source": [
    "## Define x0 \n",
    "\n",
    "Definimos x0 como o menor entre o suprimento e a demanda e inutilizamos a linha/coluna que teve demanda suprida (caso demanda seja menor) ou suprimento dado (caso suprimento seja menor)."
   ]
  },
  {
   "cell_type": "code",
   "execution_count": 198,
   "id": "57706eae-53d8-4fa7-9f93-243a701edc35",
   "metadata": {},
   "outputs": [],
   "source": [
    "function define_x0!(x0::Array{Float64,2}, \n",
    "                    supply::Array{Float64,1}, \n",
    "                    demand::Array{Float64,1}, \n",
    "                    row::Int64, col::Int64, \n",
    "                    cost::Array{Float64,2}, \n",
    "                    M::Float64)\n",
    "    \"\"\"\n",
    "    x0: Array{Float64,2}\n",
    "        Current initial value.\n",
    "    supply/demand: Array{Float64,1}\n",
    "        Supply and demand array.\n",
    "    row/col: Int64\n",
    "        Row and column selected.\n",
    "    cost: Array{Float64,2}) \n",
    "        Each row represents the supply equation and each column represents the demand equation.\n",
    "    M: Float64 \n",
    "        Maximum value of cost array\n",
    "    \"\"\"\n",
    "    x0[row, col] = min(supply[row], demand[col])\n",
    "    supply[row] -= x0[row, col]\n",
    "    demand[col] -= x0[row, col]\n",
    "\n",
    "    if supply[row] > demand[col]\n",
    "        cost[:,col] .= M\n",
    "    elseif supply[row] < demand[col]\n",
    "        cost[row,:] .= M\n",
    "    else\n",
    "        cost[row,:] .= M\n",
    "        cost[:,col] .= M\n",
    "    end\n",
    "end;"
   ]
  },
  {
   "cell_type": "markdown",
   "id": "fbf85d7b-58ba-423c-8db2-324ee739f2a7",
   "metadata": {},
   "source": [
    "## Juntando tudo "
   ]
  },
  {
   "cell_type": "code",
   "execution_count": 199,
   "id": "88c2bb38-b6c4-4eb6-9acf-11ac9daea10f",
   "metadata": {},
   "outputs": [
    {
     "data": {
      "text/plain": [
       "vogel_approximation! (generic function with 2 methods)"
      ]
     },
     "execution_count": 199,
     "metadata": {},
     "output_type": "execute_result"
    }
   ],
   "source": [
    "function vogel_approximation!(cost::Array{Float64,2}, \n",
    "                              demand::Array{Float64,1}, \n",
    "                              supply::Array{Float64,1})::Array{Float64,2}\n",
    "    \"\"\"\n",
    "    cost_matrix: Array{Float64,2}. \n",
    "        Each row represents the supply equation and each column represents the demand equation.\n",
    "    demand: Array{Float64,1}. \n",
    "        Values in the right side of demand equation. \n",
    "    supply: Array{Float64,1}.\n",
    "        Values in the right side of supply equation. \n",
    "    \"\"\"\n",
    "    m = size(cost)[1]\n",
    "    n = size(cost)[2]\n",
    "    \n",
    "    x0 = zeros(m,n)\n",
    "    \n",
    "    row_diff = zeros(m)\n",
    "    col_diff = zeros(n)\n",
    "    \n",
    "    M = maximum(cost)\n",
    "    \n",
    "    while (sum(supply) != 0) || (sum(demand) != 0)\n",
    "        \n",
    "        build_penalty!(m, n, row_diff, col_diff, cost)\n",
    "        row, col = select_cell(row_diff, col_diff, cost)\n",
    "        \n",
    "        define_x0!(x0, supply, demand, row, col, cost, M)\n",
    "    end\n",
    "    return x0\n",
    "end;"
   ]
  },
  {
   "cell_type": "markdown",
   "id": "16630783-9178-496a-9088-b1db2da5e635",
   "metadata": {},
   "source": [
    "## Exemplos "
   ]
  },
  {
   "cell_type": "code",
   "execution_count": 200,
   "id": "2886ec38-17b3-488a-b957-30e349f4d88f",
   "metadata": {},
   "outputs": [],
   "source": [
    "c = [3. 1 7 4;\n",
    "     2 6 5 9;\n",
    "     8 3 3 2];\n",
    "    \n",
    "d = [250.,350, 400, 200];\n",
    "\n",
    "s = [300.,400, 500];"
   ]
  },
  {
   "cell_type": "code",
   "execution_count": 201,
   "id": "7b47e99a-6029-47c6-af2b-24bdc0deb908",
   "metadata": {},
   "outputs": [
    {
     "data": {
      "text/plain": [
       "3×4 Array{Float64,2}:\n",
       "   0.0  300.0    0.0    0.0\n",
       " 250.0    0.0  150.0    0.0\n",
       "   0.0   50.0  250.0  200.0"
      ]
     },
     "execution_count": 201,
     "metadata": {},
     "output_type": "execute_result"
    }
   ],
   "source": [
    "vogel_approximation!(c, d, s)"
   ]
  },
  {
   "cell_type": "code",
   "execution_count": 205,
   "id": "9a2ebdb6-7a03-449b-aca2-729292ffc4a6",
   "metadata": {},
   "outputs": [],
   "source": [
    "costs = [6. 6 9 4 10;\n",
    "         3 2 7 5 12;\n",
    "         8 7 5 6 4;\n",
    "         11 12 9 5 2;\n",
    "         4 3 4 5 11];\n",
    "demand = [120., 80, 50, 75, 85];\n",
    "supply = [45., 90, 95, 75, 105];"
   ]
  },
  {
   "cell_type": "code",
   "execution_count": 206,
   "id": "bfff9d53-a83b-4171-9a80-5dc9424e5366",
   "metadata": {},
   "outputs": [
    {
     "data": {
      "text/plain": [
       "5×5 Array{Float64,2}:\n",
       "   0.0   0.0   0.0  45.0   0.0\n",
       "  10.0  80.0   0.0   0.0   0.0\n",
       "   5.0   0.0  50.0  30.0  10.0\n",
       "   0.0   0.0   0.0   0.0  75.0\n",
       " 105.0   0.0   0.0   0.0   0.0"
      ]
     },
     "execution_count": 206,
     "metadata": {},
     "output_type": "execute_result"
    }
   ],
   "source": [
    "vogel_approximation!(costs, demand, supply)"
   ]
  }
 ],
 "metadata": {
  "kernelspec": {
   "display_name": "Julia 1.5.3",
   "language": "julia",
   "name": "julia-1.5"
  },
  "language_info": {
   "file_extension": ".jl",
   "mimetype": "application/julia",
   "name": "julia",
   "version": "1.5.3"
  }
 },
 "nbformat": 4,
 "nbformat_minor": 5
}
